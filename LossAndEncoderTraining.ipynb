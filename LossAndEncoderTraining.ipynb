{
  "cells": [
    {
      "cell_type": "markdown",
      "source": [
        "## Import Libraries"
      ],
      "metadata": {
        "id": "L23CLEgjVqNh"
      }
    },
    {
      "cell_type": "code",
      "execution_count": null,
      "metadata": {
        "colab": {
          "base_uri": "https://localhost:8080/"
        },
        "collapsed": true,
        "id": "TIPU_fStdW1W",
        "outputId": "6356139c-1a32-4b88-879c-1d487185a40d"
      },
      "outputs": [
        {
          "output_type": "stream",
          "name": "stdout",
          "text": [
            "Collecting opendatasets\n",
            "  Downloading opendatasets-0.1.22-py3-none-any.whl.metadata (9.2 kB)\n",
            "Requirement already satisfied: tqdm in /usr/local/lib/python3.10/dist-packages (from opendatasets) (4.66.6)\n",
            "Requirement already satisfied: kaggle in /usr/local/lib/python3.10/dist-packages (from opendatasets) (1.6.17)\n",
            "Requirement already satisfied: click in /usr/local/lib/python3.10/dist-packages (from opendatasets) (8.1.7)\n",
            "Requirement already satisfied: six>=1.10 in /usr/local/lib/python3.10/dist-packages (from kaggle->opendatasets) (1.16.0)\n",
            "Requirement already satisfied: certifi>=2023.7.22 in /usr/local/lib/python3.10/dist-packages (from kaggle->opendatasets) (2024.8.30)\n",
            "Requirement already satisfied: python-dateutil in /usr/local/lib/python3.10/dist-packages (from kaggle->opendatasets) (2.8.2)\n",
            "Requirement already satisfied: requests in /usr/local/lib/python3.10/dist-packages (from kaggle->opendatasets) (2.32.3)\n",
            "Requirement already satisfied: python-slugify in /usr/local/lib/python3.10/dist-packages (from kaggle->opendatasets) (8.0.4)\n",
            "Requirement already satisfied: urllib3 in /usr/local/lib/python3.10/dist-packages (from kaggle->opendatasets) (2.2.3)\n",
            "Requirement already satisfied: bleach in /usr/local/lib/python3.10/dist-packages (from kaggle->opendatasets) (6.2.0)\n",
            "Requirement already satisfied: webencodings in /usr/local/lib/python3.10/dist-packages (from bleach->kaggle->opendatasets) (0.5.1)\n",
            "Requirement already satisfied: text-unidecode>=1.3 in /usr/local/lib/python3.10/dist-packages (from python-slugify->kaggle->opendatasets) (1.3)\n",
            "Requirement already satisfied: charset-normalizer<4,>=2 in /usr/local/lib/python3.10/dist-packages (from requests->kaggle->opendatasets) (3.4.0)\n",
            "Requirement already satisfied: idna<4,>=2.5 in /usr/local/lib/python3.10/dist-packages (from requests->kaggle->opendatasets) (3.10)\n",
            "Downloading opendatasets-0.1.22-py3-none-any.whl (15 kB)\n",
            "Installing collected packages: opendatasets\n",
            "Successfully installed opendatasets-0.1.22\n",
            "Requirement already satisfied: pandas in /usr/local/lib/python3.10/dist-packages (2.2.2)\n",
            "Requirement already satisfied: numpy>=1.22.4 in /usr/local/lib/python3.10/dist-packages (from pandas) (1.26.4)\n",
            "Requirement already satisfied: python-dateutil>=2.8.2 in /usr/local/lib/python3.10/dist-packages (from pandas) (2.8.2)\n",
            "Requirement already satisfied: pytz>=2020.1 in /usr/local/lib/python3.10/dist-packages (from pandas) (2024.2)\n",
            "Requirement already satisfied: tzdata>=2022.7 in /usr/local/lib/python3.10/dist-packages (from pandas) (2024.2)\n",
            "Requirement already satisfied: six>=1.5 in /usr/local/lib/python3.10/dist-packages (from python-dateutil>=2.8.2->pandas) (1.16.0)\n"
          ]
        }
      ],
      "source": [
        "!pip install opendatasets\n",
        "!pip install pandas"
      ]
    },
    {
      "cell_type": "markdown",
      "metadata": {
        "id": "D36ayyRh_R9a"
      },
      "source": [
        "you can use my kaggle credentials:\n",
        "\n",
        "nomielagarde\n",
        "\n",
        "d8e0f8ad13e663040a0d037b2208f1b6"
      ]
    },
    {
      "cell_type": "code",
      "execution_count": null,
      "metadata": {
        "colab": {
          "base_uri": "https://localhost:8080/"
        },
        "id": "x0kT7vhvdcM4",
        "outputId": "f5dffd40-c090-4395-e7f1-84be3bf6f859"
      },
      "outputs": [
        {
          "output_type": "stream",
          "name": "stdout",
          "text": [
            "Please provide your Kaggle credentials to download this dataset. Learn more: http://bit.ly/kaggle-creds\n",
            "Your Kaggle username: nomielagarde\n",
            "Your Kaggle Key: ··········\n",
            "Dataset URL: https://www.kaggle.com/datasets/nomielagarde/huron-dataset\n",
            "Downloading huron-dataset.zip to ./huron-dataset\n"
          ]
        },
        {
          "output_type": "stream",
          "name": "stderr",
          "text": [
            "100%|██████████| 3.35G/3.35G [02:33<00:00, 23.4MB/s]\n"
          ]
        },
        {
          "output_type": "stream",
          "name": "stdout",
          "text": [
            "\n"
          ]
        }
      ],
      "source": [
        "import opendatasets as od\n",
        "import pandas as pd\n",
        "\n",
        "od.download(\"https://www.kaggle.com/datasets/nomielagarde/huron-dataset\")"
      ]
    },
    {
      "cell_type": "code",
      "execution_count": null,
      "metadata": {
        "colab": {
          "base_uri": "https://localhost:8080/"
        },
        "collapsed": true,
        "id": "vdGXDk9E_WgM",
        "outputId": "e3706a36-8bda-43f1-8a8b-2930fc6a498c"
      },
      "outputs": [
        {
          "output_type": "stream",
          "name": "stdout",
          "text": [
            "Collecting segmentation-models-pytorch\n",
            "  Downloading segmentation_models_pytorch-0.3.4-py3-none-any.whl.metadata (30 kB)\n",
            "Collecting efficientnet-pytorch==0.7.1 (from segmentation-models-pytorch)\n",
            "  Downloading efficientnet_pytorch-0.7.1.tar.gz (21 kB)\n",
            "  Preparing metadata (setup.py) ... \u001b[?25l\u001b[?25hdone\n",
            "Requirement already satisfied: huggingface-hub>=0.24.6 in /usr/local/lib/python3.10/dist-packages (from segmentation-models-pytorch) (0.26.2)\n",
            "Requirement already satisfied: pillow in /usr/local/lib/python3.10/dist-packages (from segmentation-models-pytorch) (11.0.0)\n",
            "Collecting pretrainedmodels==0.7.4 (from segmentation-models-pytorch)\n",
            "  Downloading pretrainedmodels-0.7.4.tar.gz (58 kB)\n",
            "\u001b[2K     \u001b[90m━━━━━━━━━━━━━━━━━━━━━━━━━━━━━━━━━━━━━━━━\u001b[0m \u001b[32m58.8/58.8 kB\u001b[0m \u001b[31m6.3 MB/s\u001b[0m eta \u001b[36m0:00:00\u001b[0m\n",
            "\u001b[?25h  Preparing metadata (setup.py) ... \u001b[?25l\u001b[?25hdone\n",
            "Requirement already satisfied: six in /usr/local/lib/python3.10/dist-packages (from segmentation-models-pytorch) (1.16.0)\n",
            "Collecting timm==0.9.7 (from segmentation-models-pytorch)\n",
            "  Downloading timm-0.9.7-py3-none-any.whl.metadata (58 kB)\n",
            "\u001b[2K     \u001b[90m━━━━━━━━━━━━━━━━━━━━━━━━━━━━━━━━━━━━━━━━\u001b[0m \u001b[32m58.8/58.8 kB\u001b[0m \u001b[31m6.3 MB/s\u001b[0m eta \u001b[36m0:00:00\u001b[0m\n",
            "\u001b[?25hRequirement already satisfied: torchvision>=0.5.0 in /usr/local/lib/python3.10/dist-packages (from segmentation-models-pytorch) (0.20.1+cu121)\n",
            "Requirement already satisfied: tqdm in /usr/local/lib/python3.10/dist-packages (from segmentation-models-pytorch) (4.66.6)\n",
            "Requirement already satisfied: torch in /usr/local/lib/python3.10/dist-packages (from efficientnet-pytorch==0.7.1->segmentation-models-pytorch) (2.5.1+cu121)\n",
            "Collecting munch (from pretrainedmodels==0.7.4->segmentation-models-pytorch)\n",
            "  Downloading munch-4.0.0-py2.py3-none-any.whl.metadata (5.9 kB)\n",
            "Requirement already satisfied: pyyaml in /usr/local/lib/python3.10/dist-packages (from timm==0.9.7->segmentation-models-pytorch) (6.0.2)\n",
            "Requirement already satisfied: safetensors in /usr/local/lib/python3.10/dist-packages (from timm==0.9.7->segmentation-models-pytorch) (0.4.5)\n",
            "Requirement already satisfied: filelock in /usr/local/lib/python3.10/dist-packages (from huggingface-hub>=0.24.6->segmentation-models-pytorch) (3.16.1)\n",
            "Requirement already satisfied: fsspec>=2023.5.0 in /usr/local/lib/python3.10/dist-packages (from huggingface-hub>=0.24.6->segmentation-models-pytorch) (2024.10.0)\n",
            "Requirement already satisfied: packaging>=20.9 in /usr/local/lib/python3.10/dist-packages (from huggingface-hub>=0.24.6->segmentation-models-pytorch) (24.2)\n",
            "Requirement already satisfied: requests in /usr/local/lib/python3.10/dist-packages (from huggingface-hub>=0.24.6->segmentation-models-pytorch) (2.32.3)\n",
            "Requirement already satisfied: typing-extensions>=3.7.4.3 in /usr/local/lib/python3.10/dist-packages (from huggingface-hub>=0.24.6->segmentation-models-pytorch) (4.12.2)\n",
            "Requirement already satisfied: numpy in /usr/local/lib/python3.10/dist-packages (from torchvision>=0.5.0->segmentation-models-pytorch) (1.26.4)\n",
            "Requirement already satisfied: networkx in /usr/local/lib/python3.10/dist-packages (from torch->efficientnet-pytorch==0.7.1->segmentation-models-pytorch) (3.4.2)\n",
            "Requirement already satisfied: jinja2 in /usr/local/lib/python3.10/dist-packages (from torch->efficientnet-pytorch==0.7.1->segmentation-models-pytorch) (3.1.4)\n",
            "Requirement already satisfied: sympy==1.13.1 in /usr/local/lib/python3.10/dist-packages (from torch->efficientnet-pytorch==0.7.1->segmentation-models-pytorch) (1.13.1)\n",
            "Requirement already satisfied: mpmath<1.4,>=1.1.0 in /usr/local/lib/python3.10/dist-packages (from sympy==1.13.1->torch->efficientnet-pytorch==0.7.1->segmentation-models-pytorch) (1.3.0)\n",
            "Requirement already satisfied: charset-normalizer<4,>=2 in /usr/local/lib/python3.10/dist-packages (from requests->huggingface-hub>=0.24.6->segmentation-models-pytorch) (3.4.0)\n",
            "Requirement already satisfied: idna<4,>=2.5 in /usr/local/lib/python3.10/dist-packages (from requests->huggingface-hub>=0.24.6->segmentation-models-pytorch) (3.10)\n",
            "Requirement already satisfied: urllib3<3,>=1.21.1 in /usr/local/lib/python3.10/dist-packages (from requests->huggingface-hub>=0.24.6->segmentation-models-pytorch) (2.2.3)\n",
            "Requirement already satisfied: certifi>=2017.4.17 in /usr/local/lib/python3.10/dist-packages (from requests->huggingface-hub>=0.24.6->segmentation-models-pytorch) (2024.8.30)\n",
            "Requirement already satisfied: MarkupSafe>=2.0 in /usr/local/lib/python3.10/dist-packages (from jinja2->torch->efficientnet-pytorch==0.7.1->segmentation-models-pytorch) (3.0.2)\n",
            "Downloading segmentation_models_pytorch-0.3.4-py3-none-any.whl (109 kB)\n",
            "\u001b[2K   \u001b[90m━━━━━━━━━━━━━━━━━━━━━━━━━━━━━━━━━━━━━━━━\u001b[0m \u001b[32m109.5/109.5 kB\u001b[0m \u001b[31m12.0 MB/s\u001b[0m eta \u001b[36m0:00:00\u001b[0m\n",
            "\u001b[?25hDownloading timm-0.9.7-py3-none-any.whl (2.2 MB)\n",
            "\u001b[2K   \u001b[90m━━━━━━━━━━━━━━━━━━━━━━━━━━━━━━━━━━━━━━━━\u001b[0m \u001b[32m2.2/2.2 MB\u001b[0m \u001b[31m87.9 MB/s\u001b[0m eta \u001b[36m0:00:00\u001b[0m\n",
            "\u001b[?25hDownloading munch-4.0.0-py2.py3-none-any.whl (9.9 kB)\n",
            "Building wheels for collected packages: efficientnet-pytorch, pretrainedmodels\n",
            "  Building wheel for efficientnet-pytorch (setup.py) ... \u001b[?25l\u001b[?25hdone\n",
            "  Created wheel for efficientnet-pytorch: filename=efficientnet_pytorch-0.7.1-py3-none-any.whl size=16424 sha256=1dd7668e2c0f9c14e7ed601002c8fdcfd6f21df9cfaa3bcc371f7fc54f46eea6\n",
            "  Stored in directory: /root/.cache/pip/wheels/03/3f/e9/911b1bc46869644912bda90a56bcf7b960f20b5187feea3baf\n",
            "  Building wheel for pretrainedmodels (setup.py) ... \u001b[?25l\u001b[?25hdone\n",
            "  Created wheel for pretrainedmodels: filename=pretrainedmodels-0.7.4-py3-none-any.whl size=60944 sha256=6ff96b13a821c4d9f85eca9a0c020ca64fd946e390491d4107978004f405439d\n",
            "  Stored in directory: /root/.cache/pip/wheels/35/cb/a5/8f534c60142835bfc889f9a482e4a67e0b817032d9c6883b64\n",
            "Successfully built efficientnet-pytorch pretrainedmodels\n",
            "Installing collected packages: munch, efficientnet-pytorch, timm, pretrainedmodels, segmentation-models-pytorch\n",
            "  Attempting uninstall: timm\n",
            "    Found existing installation: timm 1.0.11\n",
            "    Uninstalling timm-1.0.11:\n",
            "      Successfully uninstalled timm-1.0.11\n",
            "Successfully installed efficientnet-pytorch-0.7.1 munch-4.0.0 pretrainedmodels-0.7.4 segmentation-models-pytorch-0.3.4 timm-0.9.7\n"
          ]
        }
      ],
      "source": [
        "#installing smp libraru\n",
        "!pip install segmentation-models-pytorch"
      ]
    },
    {
      "cell_type": "code",
      "source": [
        "import torch\n",
        "import torch.nn as nn\n",
        "import torch.optim as optim\n",
        "from torch.utils.data import Dataset, DataLoader, random_split\n",
        "from torchvision import transforms\n",
        "from PIL import Image\n",
        "import os\n",
        "from pathlib import Path\n",
        "import numpy as np\n",
        "from tqdm import tqdm\n",
        "import segmentation_models_pytorch as smp\n",
        "import matplotlib.pyplot as plt\n",
        "import random\n",
        "import csv\n",
        "import pandas as pd"
      ],
      "metadata": {
        "id": "fClb41j-V9qD"
      },
      "execution_count": null,
      "outputs": []
    },
    {
      "cell_type": "markdown",
      "source": [
        "## Classes and functions"
      ],
      "metadata": {
        "id": "rssqyfWLVxDE"
      }
    },
    {
      "cell_type": "markdown",
      "source": [
        "### Dataset"
      ],
      "metadata": {
        "id": "o-8trmMEV0kq"
      }
    },
    {
      "cell_type": "code",
      "source": [
        "# Set random seeds for reproducibility\n",
        "random.seed(42)\n",
        "np.random.seed(42)\n",
        "torch.manual_seed(42)\n",
        "torch.cuda.manual_seed_all(42)\n",
        "torch.backends.cudnn.deterministic = True\n",
        "torch.backends.cudnn.benchmark = False\n",
        "\n",
        "\n",
        "class HuronDataset(Dataset):\n",
        "    def __init__(self, image_dir, mask_dir, transform=None):\n",
        "        self.image_dir = Path(image_dir)\n",
        "        self.mask_dir = Path(mask_dir)\n",
        "        self.transform = transform\n",
        "        self.mask_transform = transforms.Compose([\n",
        "            transforms.Resize((256, 256)),\n",
        "            transforms.ToTensor()\n",
        "        ])\n",
        "        self.images = sorted(os.listdir(image_dir))\n",
        "\n",
        "    def __len__(self):\n",
        "        return len(self.images)\n",
        "\n",
        "    def __getitem__(self, idx):\n",
        "        img_path = self.image_dir / self.images[idx]\n",
        "        mask_path = self.mask_dir / self.images[idx]\n",
        "\n",
        "        image = Image.open(img_path).convert('RGB')\n",
        "        mask = Image.open(mask_path).convert('L')\n",
        "\n",
        "        if self.transform:\n",
        "            image = self.transform(image)\n",
        "        mask = self.mask_transform(mask)\n",
        "\n",
        "        # Ensure mask is binary\n",
        "        mask = (mask > 0.5).float()\n",
        "\n",
        "        return image, mask"
      ],
      "metadata": {
        "id": "AUrymKJFV2lT"
      },
      "execution_count": null,
      "outputs": []
    },
    {
      "cell_type": "markdown",
      "source": [
        "### Eval and Metrics"
      ],
      "metadata": {
        "id": "vqjgiIZ7V_G_"
      }
    },
    {
      "cell_type": "code",
      "execution_count": null,
      "metadata": {
        "id": "vC6ZQZFM_cUz"
      },
      "outputs": [],
      "source": [
        "def calculate_iou(outputs, targets, threshold=0.5):\n",
        "    outputs = (outputs > threshold).float()\n",
        "    targets = targets.float()\n",
        "\n",
        "    intersection = (outputs * targets).sum(dim=(1, 2))\n",
        "    union = outputs.sum(dim=(1, 2)) + targets.sum(dim=(1, 2)) - intersection\n",
        "\n",
        "    iou = (intersection + 1e-6) / (union + 1e-6)\n",
        "    return iou.mean()\n",
        "\n",
        "def evaluate(model, dataloader, criterion, device):\n",
        "    model.eval()\n",
        "    total_loss = 0\n",
        "    total_iou = 0\n",
        "    num_batches = len(dataloader)\n",
        "\n",
        "    with torch.no_grad():\n",
        "        for images, masks in dataloader:\n",
        "            images = images.to(device)\n",
        "            masks = masks.to(device)\n",
        "\n",
        "            outputs = model(images)\n",
        "            loss = criterion(outputs, masks)\n",
        "            iou = calculate_iou(outputs, masks)\n",
        "\n",
        "            total_loss += loss.item()\n",
        "            total_iou += iou.item()\n",
        "\n",
        "    return total_loss / num_batches, total_iou / num_batches\n",
        "\n",
        "def reset_weights(m):\n",
        "    for layer in m.children():\n",
        "        if hasattr(layer, 'reset_parameters'):\n",
        "            layer.reset_parameters()\n",
        "\n",
        "class CombinedLoss(nn.Module):\n",
        "    def __init__(self, loss1, loss2, weight1=1.0, weight2=1.0):\n",
        "        super(CombinedLoss, self).__init__()\n",
        "        self.loss1 = loss1\n",
        "        self.loss2 = loss2\n",
        "        self.weight1 = weight1\n",
        "        self.weight2 = weight2\n",
        "\n",
        "    def forward(self, y_pred, y_true):\n",
        "        return self.weight1 * self.loss1(y_pred, y_true) + self.weight2 * self.loss2(y_pred, y_true)"
      ]
    },
    {
      "cell_type": "markdown",
      "source": [
        "### Training function"
      ],
      "metadata": {
        "id": "Qvs0DlWWWEj3"
      }
    },
    {
      "cell_type": "code",
      "source": [
        "def train_model(model, train_loader, val_loader, criterion, optimizer, device, num_epochs=5, model_filename='best_model.pth'):\n",
        "    best_val_iou = 0\n",
        "\n",
        "    for epoch in range(num_epochs):\n",
        "        model.train()\n",
        "        running_loss = 0.0\n",
        "        running_iou = 0.0\n",
        "\n",
        "        with tqdm(train_loader, desc=f'Epoch {epoch+1}/{num_epochs}') as pbar:\n",
        "            for images, masks in pbar:\n",
        "                images = images.to(device)\n",
        "                masks = masks.to(device)\n",
        "\n",
        "                optimizer.zero_grad()\n",
        "                outputs = model(images)\n",
        "                loss = criterion(outputs, masks)\n",
        "                iou = calculate_iou(outputs, masks)\n",
        "\n",
        "                loss.backward()\n",
        "                optimizer.step()\n",
        "\n",
        "                running_loss += loss.item()\n",
        "                running_iou += iou.item()\n",
        "\n",
        "                pbar.set_postfix({\n",
        "                    'loss': running_loss / (pbar.n + 1),\n",
        "                    'IoU': running_iou / (pbar.n + 1)\n",
        "                })\n",
        "\n",
        "        # Validate\n",
        "        model.eval()\n",
        "        val_loss, val_iou = evaluate(model, val_loader, criterion, device)\n",
        "        print(f'Epoch {epoch+1}/{num_epochs} - Validation Loss: {val_loss:.4f}, Validation IoU: {val_iou:.4f}')\n",
        "\n",
        "        if val_iou > best_val_iou:\n",
        "            best_val_iou = val_iou\n",
        "            torch.save(model.state_dict(), model_filename)"
      ],
      "metadata": {
        "id": "t1rJfyC1WDzw"
      },
      "execution_count": null,
      "outputs": []
    },
    {
      "cell_type": "markdown",
      "source": [
        "## Defining models and loss functions"
      ],
      "metadata": {
        "id": "MW4rpc0-WNOu"
      }
    },
    {
      "cell_type": "code",
      "execution_count": null,
      "metadata": {
        "colab": {
          "base_uri": "https://localhost:8080/"
        },
        "id": "e5UutffL_ijI",
        "outputId": "fe5864f6-34cd-410c-b738-425123a25ef9"
      },
      "outputs": [
        {
          "output_type": "stream",
          "name": "stdout",
          "text": [
            "Using device: cuda\n",
            "Dataset splits: Train=12142, Val=2602, Test=2603\n"
          ]
        }
      ],
      "source": [
        "device = torch.device('cuda' if torch.cuda.is_available() else 'cpu')\n",
        "print(f\"Using device: {device}\")\n",
        "\n",
        "# Dataset paths\n",
        "image_dir = '/content/huron-dataset/Sliced_Images'\n",
        "mask_dir = '/content/huron-dataset/Sliced_masks'\n",
        "\n",
        "# Transform for input images\n",
        "transform = transforms.Compose([\n",
        "    transforms.Resize((256, 256)),\n",
        "    transforms.ToTensor(),\n",
        "    transforms.Normalize(mean=[0.485, 0.456, 0.406],\n",
        "                       std=[0.229, 0.224, 0.225])\n",
        "])\n",
        "\n",
        "# Create full dataset\n",
        "full_dataset = HuronDataset(image_dir, mask_dir, transform=transform)\n",
        "\n",
        "# Calculate splits\n",
        "total_size = len(full_dataset)\n",
        "train_size = int(0.7 * total_size)\n",
        "val_size = int(0.15 * total_size)\n",
        "test_size = total_size - train_size - val_size\n",
        "\n",
        "# Split dataset\n",
        "train_dataset, val_dataset, test_dataset = random_split(\n",
        "    full_dataset,\n",
        "    [train_size, val_size, test_size],\n",
        "    generator=torch.Generator().manual_seed(42)\n",
        ")\n",
        "\n",
        "print(f\"Dataset splits: Train={len(train_dataset)}, Val={len(val_dataset)}, Test={len(test_dataset)}\")\n",
        "\n",
        "# Create dataloaders\n",
        "train_loader = DataLoader(train_dataset, batch_size=8, shuffle=True, num_workers=4)\n",
        "val_loader = DataLoader(val_dataset, batch_size=8, shuffle=False, num_workers=4)\n",
        "test_loader = DataLoader(test_dataset, batch_size=8, shuffle=False, num_workers=4)\n",
        "\n",
        "# Define model configurations\n",
        "model_classes = [\n",
        "    {\n",
        "        'name': 'U-Net++',\n",
        "        'class': smp.UnetPlusPlus,\n",
        "        'args': {}\n",
        "    },\n",
        "    {\n",
        "        'name': 'U-Net++ with SCSE',\n",
        "        'class': smp.UnetPlusPlus,\n",
        "        'args': {'decoder_attention_type': 'scse'}\n",
        "    },\n",
        "    {\n",
        "        'name': 'FPN',\n",
        "        'class': smp.FPN,\n",
        "        'args': {}\n",
        "    },\n",
        "    {\n",
        "        'name': 'PAN',\n",
        "        'class': smp.PAN,\n",
        "        'args': {'decoder_channels': 256}\n",
        "    }\n",
        "]\n",
        "\n",
        "# Define loss functions\n",
        "loss_functions = [\n",
        "    {'name': 'DiceLoss', 'function': smp.losses.DiceLoss(mode='binary')},\n",
        "    {'name': 'TverskyLoss', 'function': smp.losses.TverskyLoss(mode='binary')},\n",
        "    {'name': 'FocalLoss', 'function': smp.losses.FocalLoss(mode='binary')},\n",
        "    {'name': 'BCEWithLogitsLoss', 'function': nn.BCEWithLogitsLoss()},\n",
        "    {'name': 'DiceLoss_plus_FocalLoss', 'function': CombinedLoss(\n",
        "        smp.losses.DiceLoss(mode='binary'),\n",
        "        smp.losses.FocalLoss(mode='binary')\n",
        "    )},\n",
        "    {'name': 'DiceLoss_plus_BCEWithLogitsLoss', 'function': CombinedLoss(\n",
        "        smp.losses.DiceLoss(mode='binary'),\n",
        "        nn.BCEWithLogitsLoss()\n",
        "    )},\n",
        "]"
      ]
    },
    {
      "cell_type": "markdown",
      "source": [
        "## Encoder 1: resnext50_32x4d"
      ],
      "metadata": {
        "id": "L-t_39JpWR4H"
      }
    },
    {
      "cell_type": "code",
      "execution_count": null,
      "metadata": {
        "colab": {
          "base_uri": "https://localhost:8080/"
        },
        "id": "av-8XpHpO-N2",
        "outputId": "f4700ae5-7509-40b5-de81-747058dae694"
      },
      "outputs": [
        {
          "output_type": "stream",
          "name": "stdout",
          "text": [
            "Training with resnext50_32x4d encoder\n"
          ]
        },
        {
          "output_type": "stream",
          "name": "stderr",
          "text": [
            "Downloading: \"https://download.pytorch.org/models/resnext50_32x4d-7cdf4587.pth\" to /root/.cache/torch/hub/checkpoints/resnext50_32x4d-7cdf4587.pth\n",
            "100%|██████████| 95.8M/95.8M [00:00<00:00, 436MB/s]\n"
          ]
        },
        {
          "output_type": "stream",
          "name": "stdout",
          "text": [
            "Training U-Net++ with resnext50_32x4d encoder and DiceLoss.\n"
          ]
        },
        {
          "output_type": "stream",
          "name": "stderr",
          "text": [
            "Epoch 1/5: 100%|██████████| 1518/1518 [02:16<00:00, 11.10it/s, loss=0.139, IoU=0.858]\n"
          ]
        },
        {
          "output_type": "stream",
          "name": "stdout",
          "text": [
            "Epoch 1/5 - Validation Loss: 0.6296, Validation IoU: 0.3642\n"
          ]
        },
        {
          "output_type": "stream",
          "name": "stderr",
          "text": [
            "Epoch 2/5: 100%|██████████| 1518/1518 [02:14<00:00, 11.30it/s, loss=0.101, IoU=0.883]\n"
          ]
        },
        {
          "output_type": "stream",
          "name": "stdout",
          "text": [
            "Epoch 2/5 - Validation Loss: 0.1199, Validation IoU: 0.8585\n"
          ]
        },
        {
          "output_type": "stream",
          "name": "stderr",
          "text": [
            "Epoch 3/5: 100%|██████████| 1518/1518 [02:14<00:00, 11.25it/s, loss=0.1, IoU=0.885]\n"
          ]
        },
        {
          "output_type": "stream",
          "name": "stdout",
          "text": [
            "Epoch 3/5 - Validation Loss: 0.6225, Validation IoU: 0.3782\n"
          ]
        },
        {
          "output_type": "stream",
          "name": "stderr",
          "text": [
            "Epoch 4/5: 100%|██████████| 1518/1518 [02:14<00:00, 11.27it/s, loss=0.0992, IoU=0.886]\n"
          ]
        },
        {
          "output_type": "stream",
          "name": "stdout",
          "text": [
            "Epoch 4/5 - Validation Loss: 0.0963, Validation IoU: 0.8877\n"
          ]
        },
        {
          "output_type": "stream",
          "name": "stderr",
          "text": [
            "Epoch 5/5: 100%|██████████| 1518/1518 [02:14<00:00, 11.28it/s, loss=0.0896, IoU=0.894]\n"
          ]
        },
        {
          "output_type": "stream",
          "name": "stdout",
          "text": [
            "Epoch 5/5 - Validation Loss: 0.1018, Validation IoU: 0.8843\n"
          ]
        },
        {
          "output_type": "stream",
          "name": "stderr",
          "text": [
            "<ipython-input-6-689a5c7dfb06>:39: FutureWarning: You are using `torch.load` with `weights_only=False` (the current default value), which uses the default pickle module implicitly. It is possible to construct malicious pickle data which will execute arbitrary code during unpickling (See https://github.com/pytorch/pytorch/blob/main/SECURITY.md#untrusted-models for more details). In a future release, the default value for `weights_only` will be flipped to `True`. This limits the functions that could be executed during unpickling. Arbitrary objects will no longer be allowed to be loaded via this mode unless they are explicitly allowlisted by the user via `torch.serialization.add_safe_globals`. We recommend you start setting `weights_only=True` for any use case where you don't have full control of the loaded file. Please open an issue on GitHub for any issues related to this experimental feature.\n",
            "  model.load_state_dict(torch.load(model_filename))\n"
          ]
        },
        {
          "output_type": "stream",
          "name": "stdout",
          "text": [
            "\n",
            "Test Results for U-Net++ with DiceLoss:\n",
            "Test Loss: 0.1008\n",
            "Test IoU: 0.8877\n",
            "\n",
            "Training U-Net++ with resnext50_32x4d encoder and TverskyLoss.\n"
          ]
        },
        {
          "output_type": "stream",
          "name": "stderr",
          "text": [
            "Epoch 1/5: 100%|██████████| 1518/1518 [02:14<00:00, 11.25it/s, loss=0.167, IoU=0.853]\n"
          ]
        },
        {
          "output_type": "stream",
          "name": "stdout",
          "text": [
            "Epoch 1/5 - Validation Loss: 0.1279, Validation IoU: 0.8637\n"
          ]
        },
        {
          "output_type": "stream",
          "name": "stderr",
          "text": [
            "Epoch 2/5: 100%|██████████| 1518/1518 [02:14<00:00, 11.28it/s, loss=0.107, IoU=0.878]\n"
          ]
        },
        {
          "output_type": "stream",
          "name": "stdout",
          "text": [
            "Epoch 2/5 - Validation Loss: 0.1182, Validation IoU: 0.8720\n"
          ]
        },
        {
          "output_type": "stream",
          "name": "stderr",
          "text": [
            "Epoch 3/5: 100%|██████████| 1518/1518 [02:15<00:00, 11.23it/s, loss=0.103, IoU=0.881]\n"
          ]
        },
        {
          "output_type": "stream",
          "name": "stdout",
          "text": [
            "Epoch 3/5 - Validation Loss: 0.1246, Validation IoU: 0.8669\n"
          ]
        },
        {
          "output_type": "stream",
          "name": "stderr",
          "text": [
            "Epoch 4/5: 100%|██████████| 1518/1518 [02:15<00:00, 11.20it/s, loss=0.0949, IoU=0.889]\n"
          ]
        },
        {
          "output_type": "stream",
          "name": "stdout",
          "text": [
            "Epoch 4/5 - Validation Loss: 0.1044, Validation IoU: 0.8827\n"
          ]
        },
        {
          "output_type": "stream",
          "name": "stderr",
          "text": [
            "Epoch 5/5: 100%|██████████| 1518/1518 [02:15<00:00, 11.23it/s, loss=0.0984, IoU=0.886]\n"
          ]
        },
        {
          "output_type": "stream",
          "name": "stdout",
          "text": [
            "Epoch 5/5 - Validation Loss: 0.1292, Validation IoU: 0.8633\n",
            "\n",
            "Test Results for U-Net++ with TverskyLoss:\n",
            "Test Loss: 0.1100\n",
            "Test IoU: 0.8823\n",
            "\n",
            "Training U-Net++ with resnext50_32x4d encoder and FocalLoss.\n"
          ]
        },
        {
          "output_type": "stream",
          "name": "stderr",
          "text": [
            "Epoch 1/5: 100%|██████████| 1518/1518 [02:15<00:00, 11.19it/s, loss=0.031, IoU=0.846]\n"
          ]
        },
        {
          "output_type": "stream",
          "name": "stdout",
          "text": [
            "Epoch 1/5 - Validation Loss: 0.0231, Validation IoU: 0.8796\n"
          ]
        },
        {
          "output_type": "stream",
          "name": "stderr",
          "text": [
            "Epoch 2/5: 100%|██████████| 1518/1518 [02:15<00:00, 11.21it/s, loss=0.0239, IoU=0.861]\n"
          ]
        },
        {
          "output_type": "stream",
          "name": "stdout",
          "text": [
            "Epoch 2/5 - Validation Loss: 0.0825, Validation IoU: 0.7974\n"
          ]
        },
        {
          "output_type": "stream",
          "name": "stderr",
          "text": [
            "Epoch 3/5: 100%|██████████| 1518/1518 [02:14<00:00, 11.27it/s, loss=0.0227, IoU=0.865]\n"
          ]
        },
        {
          "output_type": "stream",
          "name": "stdout",
          "text": [
            "Epoch 3/5 - Validation Loss: 0.0305, Validation IoU: 0.8354\n"
          ]
        },
        {
          "output_type": "stream",
          "name": "stderr",
          "text": [
            "Epoch 4/5: 100%|██████████| 1518/1518 [02:14<00:00, 11.28it/s, loss=0.0216, IoU=0.868]\n"
          ]
        },
        {
          "output_type": "stream",
          "name": "stdout",
          "text": [
            "Epoch 4/5 - Validation Loss: 0.0204, Validation IoU: 0.8519\n"
          ]
        },
        {
          "output_type": "stream",
          "name": "stderr",
          "text": [
            "Epoch 5/5: 100%|██████████| 1518/1518 [02:14<00:00, 11.27it/s, loss=0.0205, IoU=0.87]\n"
          ]
        },
        {
          "output_type": "stream",
          "name": "stdout",
          "text": [
            "Epoch 5/5 - Validation Loss: 0.0259, Validation IoU: 0.8233\n",
            "\n",
            "Test Results for U-Net++ with FocalLoss:\n",
            "Test Loss: 0.0241\n",
            "Test IoU: 0.8793\n",
            "\n",
            "Training U-Net++ with resnext50_32x4d encoder and BCEWithLogitsLoss.\n"
          ]
        },
        {
          "output_type": "stream",
          "name": "stderr",
          "text": [
            "Epoch 1/5: 100%|██████████| 1518/1518 [02:15<00:00, 11.23it/s, loss=0.114, IoU=0.866]\n"
          ]
        },
        {
          "output_type": "stream",
          "name": "stdout",
          "text": [
            "Epoch 1/5 - Validation Loss: 0.0894, Validation IoU: 0.8498\n"
          ]
        },
        {
          "output_type": "stream",
          "name": "stderr",
          "text": [
            "Epoch 2/5: 100%|██████████| 1518/1518 [02:14<00:00, 11.27it/s, loss=0.0876, IoU=0.883]\n"
          ]
        },
        {
          "output_type": "stream",
          "name": "stdout",
          "text": [
            "Epoch 2/5 - Validation Loss: 0.1186, Validation IoU: 0.8483\n"
          ]
        },
        {
          "output_type": "stream",
          "name": "stderr",
          "text": [
            "Epoch 3/5: 100%|██████████| 1518/1518 [02:14<00:00, 11.26it/s, loss=0.0785, IoU=0.89]\n"
          ]
        },
        {
          "output_type": "stream",
          "name": "stdout",
          "text": [
            "Epoch 3/5 - Validation Loss: 1.6342, Validation IoU: 0.2622\n"
          ]
        },
        {
          "output_type": "stream",
          "name": "stderr",
          "text": [
            "Epoch 4/5: 100%|██████████| 1518/1518 [02:14<00:00, 11.25it/s, loss=0.0764, IoU=0.892]\n"
          ]
        },
        {
          "output_type": "stream",
          "name": "stdout",
          "text": [
            "Epoch 4/5 - Validation Loss: 0.1703, Validation IoU: 0.8608\n"
          ]
        },
        {
          "output_type": "stream",
          "name": "stderr",
          "text": [
            "Epoch 5/5: 100%|██████████| 1518/1518 [02:15<00:00, 11.24it/s, loss=0.0728, IoU=0.895]\n"
          ]
        },
        {
          "output_type": "stream",
          "name": "stdout",
          "text": [
            "Epoch 5/5 - Validation Loss: 0.0866, Validation IoU: 0.8755\n",
            "\n",
            "Test Results for U-Net++ with BCEWithLogitsLoss:\n",
            "Test Loss: 0.0866\n",
            "Test IoU: 0.8751\n",
            "\n",
            "Training U-Net++ with resnext50_32x4d encoder and DiceLoss_plus_FocalLoss.\n"
          ]
        },
        {
          "output_type": "stream",
          "name": "stderr",
          "text": [
            "Epoch 1/5: 100%|██████████| 1518/1518 [02:15<00:00, 11.21it/s, loss=0.249, IoU=0.866]\n"
          ]
        },
        {
          "output_type": "stream",
          "name": "stdout",
          "text": [
            "Epoch 1/5 - Validation Loss: 0.1902, Validation IoU: 0.8728\n"
          ]
        },
        {
          "output_type": "stream",
          "name": "stderr",
          "text": [
            "Epoch 2/5: 100%|██████████| 1518/1518 [02:15<00:00, 11.20it/s, loss=0.186, IoU=0.885]\n"
          ]
        },
        {
          "output_type": "stream",
          "name": "stdout",
          "text": [
            "Epoch 2/5 - Validation Loss: 0.2204, Validation IoU: 0.8852\n"
          ]
        },
        {
          "output_type": "stream",
          "name": "stderr",
          "text": [
            "Epoch 3/5: 100%|██████████| 1518/1518 [02:15<00:00, 11.22it/s, loss=0.17, IoU=0.892]\n"
          ]
        },
        {
          "output_type": "stream",
          "name": "stdout",
          "text": [
            "Epoch 3/5 - Validation Loss: 0.3226, Validation IoU: 0.8413\n"
          ]
        },
        {
          "output_type": "stream",
          "name": "stderr",
          "text": [
            "Epoch 4/5: 100%|██████████| 1518/1518 [02:15<00:00, 11.24it/s, loss=0.163, IoU=0.895]\n"
          ]
        },
        {
          "output_type": "stream",
          "name": "stdout",
          "text": [
            "Epoch 4/5 - Validation Loss: 0.1680, Validation IoU: 0.8921\n"
          ]
        },
        {
          "output_type": "stream",
          "name": "stderr",
          "text": [
            "Epoch 5/5: 100%|██████████| 1518/1518 [02:15<00:00, 11.18it/s, loss=0.157, IoU=0.899]\n"
          ]
        },
        {
          "output_type": "stream",
          "name": "stdout",
          "text": [
            "Epoch 5/5 - Validation Loss: 0.1400, Validation IoU: 0.9049\n",
            "\n",
            "Test Results for U-Net++ with DiceLoss_plus_FocalLoss:\n",
            "Test Loss: 0.1472\n",
            "Test IoU: 0.9038\n",
            "\n",
            "Training U-Net++ with resnext50_32x4d encoder and DiceLoss_plus_BCEWithLogitsLoss.\n"
          ]
        },
        {
          "output_type": "stream",
          "name": "stderr",
          "text": [
            "Epoch 1/5: 100%|██████████| 1518/1518 [02:15<00:00, 11.23it/s, loss=0.272, IoU=0.867]\n"
          ]
        },
        {
          "output_type": "stream",
          "name": "stdout",
          "text": [
            "Epoch 1/5 - Validation Loss: 0.6810, Validation IoU: 0.6253\n"
          ]
        },
        {
          "output_type": "stream",
          "name": "stderr",
          "text": [
            "Epoch 2/5: 100%|██████████| 1518/1518 [02:15<00:00, 11.23it/s, loss=0.213, IoU=0.888]\n"
          ]
        },
        {
          "output_type": "stream",
          "name": "stdout",
          "text": [
            "Epoch 2/5 - Validation Loss: 0.9542, Validation IoU: 0.6409\n"
          ]
        },
        {
          "output_type": "stream",
          "name": "stderr",
          "text": [
            "Epoch 3/5: 100%|██████████| 1518/1518 [02:15<00:00, 11.23it/s, loss=0.198, IoU=0.893]\n"
          ]
        },
        {
          "output_type": "stream",
          "name": "stdout",
          "text": [
            "Epoch 3/5 - Validation Loss: 0.2088, Validation IoU: 0.8848\n"
          ]
        },
        {
          "output_type": "stream",
          "name": "stderr",
          "text": [
            "Epoch 4/5: 100%|██████████| 1518/1518 [02:15<00:00, 11.20it/s, loss=0.189, IoU=0.897]\n"
          ]
        },
        {
          "output_type": "stream",
          "name": "stdout",
          "text": [
            "Epoch 4/5 - Validation Loss: 0.1819, Validation IoU: 0.8953\n"
          ]
        },
        {
          "output_type": "stream",
          "name": "stderr",
          "text": [
            "Epoch 5/5: 100%|██████████| 1518/1518 [02:15<00:00, 11.21it/s, loss=0.179, IoU=0.901]\n"
          ]
        },
        {
          "output_type": "stream",
          "name": "stdout",
          "text": [
            "Epoch 5/5 - Validation Loss: 0.2826, Validation IoU: 0.8707\n",
            "\n",
            "Test Results for U-Net++ with DiceLoss_plus_BCEWithLogitsLoss:\n",
            "Test Loss: 0.1873\n",
            "Test IoU: 0.8946\n",
            "\n",
            "Training U-Net++ with SCSE with resnext50_32x4d encoder and DiceLoss.\n"
          ]
        },
        {
          "output_type": "stream",
          "name": "stderr",
          "text": [
            "Epoch 1/5: 100%|██████████| 1518/1518 [03:22<00:00,  7.49it/s, loss=0.14, IoU=0.856]\n"
          ]
        },
        {
          "output_type": "stream",
          "name": "stdout",
          "text": [
            "Epoch 1/5 - Validation Loss: 0.1048, Validation IoU: 0.8773\n"
          ]
        },
        {
          "output_type": "stream",
          "name": "stderr",
          "text": [
            "Epoch 2/5: 100%|██████████| 1518/1518 [03:22<00:00,  7.49it/s, loss=0.108, IoU=0.878]\n"
          ]
        },
        {
          "output_type": "stream",
          "name": "stdout",
          "text": [
            "Epoch 2/5 - Validation Loss: 0.5208, Validation IoU: 0.4515\n"
          ]
        },
        {
          "output_type": "stream",
          "name": "stderr",
          "text": [
            "Epoch 3/5: 100%|██████████| 1518/1518 [03:22<00:00,  7.50it/s, loss=0.0982, IoU=0.885]\n"
          ]
        },
        {
          "output_type": "stream",
          "name": "stdout",
          "text": [
            "Epoch 3/5 - Validation Loss: 0.0869, Validation IoU: 0.8953\n"
          ]
        },
        {
          "output_type": "stream",
          "name": "stderr",
          "text": [
            "Epoch 4/5: 100%|██████████| 1518/1518 [03:22<00:00,  7.50it/s, loss=0.0975, IoU=0.888]\n"
          ]
        },
        {
          "output_type": "stream",
          "name": "stdout",
          "text": [
            "Epoch 4/5 - Validation Loss: 0.0870, Validation IoU: 0.8959\n"
          ]
        },
        {
          "output_type": "stream",
          "name": "stderr",
          "text": [
            "Epoch 5/5: 100%|██████████| 1518/1518 [03:22<00:00,  7.51it/s, loss=0.0926, IoU=0.892]\n"
          ]
        },
        {
          "output_type": "stream",
          "name": "stdout",
          "text": [
            "Epoch 5/5 - Validation Loss: 0.0862, Validation IoU: 0.8968\n",
            "\n",
            "Test Results for U-Net++ with SCSE with DiceLoss:\n",
            "Test Loss: 0.0909\n",
            "Test IoU: 0.8966\n",
            "\n",
            "Training U-Net++ with SCSE with resnext50_32x4d encoder and TverskyLoss.\n"
          ]
        },
        {
          "output_type": "stream",
          "name": "stderr",
          "text": [
            "Epoch 1/5: 100%|██████████| 1518/1518 [03:22<00:00,  7.50it/s, loss=0.13, IoU=0.863]\n"
          ]
        },
        {
          "output_type": "stream",
          "name": "stdout",
          "text": [
            "Epoch 1/5 - Validation Loss: 0.1360, Validation IoU: 0.8282\n"
          ]
        },
        {
          "output_type": "stream",
          "name": "stderr",
          "text": [
            "Epoch 2/5: 100%|██████████| 1518/1518 [03:22<00:00,  7.51it/s, loss=0.104, IoU=0.881]\n"
          ]
        },
        {
          "output_type": "stream",
          "name": "stdout",
          "text": [
            "Epoch 2/5 - Validation Loss: 0.0967, Validation IoU: 0.8868\n"
          ]
        },
        {
          "output_type": "stream",
          "name": "stderr",
          "text": [
            "Epoch 3/5: 100%|██████████| 1518/1518 [03:22<00:00,  7.50it/s, loss=0.096, IoU=0.889]\n"
          ]
        },
        {
          "output_type": "stream",
          "name": "stdout",
          "text": [
            "Epoch 3/5 - Validation Loss: 0.1087, Validation IoU: 0.8795\n"
          ]
        },
        {
          "output_type": "stream",
          "name": "stderr",
          "text": [
            "Epoch 4/5: 100%|██████████| 1518/1518 [03:21<00:00,  7.52it/s, loss=0.0924, IoU=0.892]\n"
          ]
        },
        {
          "output_type": "stream",
          "name": "stdout",
          "text": [
            "Epoch 4/5 - Validation Loss: 0.0968, Validation IoU: 0.8883\n"
          ]
        },
        {
          "output_type": "stream",
          "name": "stderr",
          "text": [
            "Epoch 5/5: 100%|██████████| 1518/1518 [03:22<00:00,  7.51it/s, loss=0.0933, IoU=0.89]\n"
          ]
        },
        {
          "output_type": "stream",
          "name": "stdout",
          "text": [
            "Epoch 5/5 - Validation Loss: 0.0908, Validation IoU: 0.8926\n",
            "\n",
            "Test Results for U-Net++ with SCSE with TverskyLoss:\n",
            "Test Loss: 0.0945\n",
            "Test IoU: 0.8928\n",
            "\n",
            "Training U-Net++ with SCSE with resnext50_32x4d encoder and FocalLoss.\n"
          ]
        },
        {
          "output_type": "stream",
          "name": "stderr",
          "text": [
            "Epoch 1/5: 100%|██████████| 1518/1518 [03:22<00:00,  7.51it/s, loss=0.0305, IoU=0.842]\n"
          ]
        },
        {
          "output_type": "stream",
          "name": "stdout",
          "text": [
            "Epoch 1/5 - Validation Loss: 0.0538, Validation IoU: 0.7690\n"
          ]
        },
        {
          "output_type": "stream",
          "name": "stderr",
          "text": [
            "Epoch 2/5: 100%|██████████| 1518/1518 [03:21<00:00,  7.52it/s, loss=0.0248, IoU=0.858]\n"
          ]
        },
        {
          "output_type": "stream",
          "name": "stdout",
          "text": [
            "Epoch 2/5 - Validation Loss: 0.3018, Validation IoU: 0.3419\n"
          ]
        },
        {
          "output_type": "stream",
          "name": "stderr",
          "text": [
            "Epoch 3/5: 100%|██████████| 1518/1518 [03:22<00:00,  7.51it/s, loss=0.0219, IoU=0.867]\n"
          ]
        },
        {
          "output_type": "stream",
          "name": "stdout",
          "text": [
            "Epoch 3/5 - Validation Loss: 0.0197, Validation IoU: 0.8723\n"
          ]
        },
        {
          "output_type": "stream",
          "name": "stderr",
          "text": [
            "Epoch 4/5: 100%|██████████| 1518/1518 [03:22<00:00,  7.51it/s, loss=0.0213, IoU=0.866]\n"
          ]
        },
        {
          "output_type": "stream",
          "name": "stdout",
          "text": [
            "Epoch 4/5 - Validation Loss: 0.0180, Validation IoU: 0.8736\n"
          ]
        },
        {
          "output_type": "stream",
          "name": "stderr",
          "text": [
            "Epoch 5/5: 100%|██████████| 1518/1518 [03:22<00:00,  7.51it/s, loss=0.02, IoU=0.871]\n"
          ]
        },
        {
          "output_type": "stream",
          "name": "stdout",
          "text": [
            "Epoch 5/5 - Validation Loss: 0.0279, Validation IoU: 0.8389\n",
            "\n",
            "Test Results for U-Net++ with SCSE with FocalLoss:\n",
            "Test Loss: 0.0187\n",
            "Test IoU: 0.8724\n",
            "\n",
            "Training U-Net++ with SCSE with resnext50_32x4d encoder and BCEWithLogitsLoss.\n"
          ]
        },
        {
          "output_type": "stream",
          "name": "stderr",
          "text": [
            "Epoch 1/5: 100%|██████████| 1518/1518 [03:22<00:00,  7.51it/s, loss=0.11, IoU=0.865]\n"
          ]
        },
        {
          "output_type": "stream",
          "name": "stdout",
          "text": [
            "Epoch 1/5 - Validation Loss: 0.0866, Validation IoU: 0.8911\n"
          ]
        },
        {
          "output_type": "stream",
          "name": "stderr",
          "text": [
            "Epoch 2/5: 100%|██████████| 1518/1518 [03:21<00:00,  7.52it/s, loss=0.0829, IoU=0.885]\n"
          ]
        },
        {
          "output_type": "stream",
          "name": "stdout",
          "text": [
            "Epoch 2/5 - Validation Loss: 0.0714, Validation IoU: 0.8928\n"
          ]
        },
        {
          "output_type": "stream",
          "name": "stderr",
          "text": [
            "Epoch 3/5: 100%|██████████| 1518/1518 [03:21<00:00,  7.53it/s, loss=0.0777, IoU=0.89]\n"
          ]
        },
        {
          "output_type": "stream",
          "name": "stdout",
          "text": [
            "Epoch 3/5 - Validation Loss: 0.0747, Validation IoU: 0.8900\n"
          ]
        },
        {
          "output_type": "stream",
          "name": "stderr",
          "text": [
            "Epoch 4/5: 100%|██████████| 1518/1518 [03:22<00:00,  7.51it/s, loss=0.0747, IoU=0.893]\n"
          ]
        },
        {
          "output_type": "stream",
          "name": "stdout",
          "text": [
            "Epoch 4/5 - Validation Loss: 0.0694, Validation IoU: 0.8959\n"
          ]
        },
        {
          "output_type": "stream",
          "name": "stderr",
          "text": [
            "Epoch 5/5: 100%|██████████| 1518/1518 [03:22<00:00,  7.50it/s, loss=0.0708, IoU=0.896]\n"
          ]
        },
        {
          "output_type": "stream",
          "name": "stdout",
          "text": [
            "Epoch 5/5 - Validation Loss: 0.0900, Validation IoU: 0.8657\n",
            "\n",
            "Test Results for U-Net++ with SCSE with BCEWithLogitsLoss:\n",
            "Test Loss: 0.0695\n",
            "Test IoU: 0.8955\n",
            "\n",
            "Training U-Net++ with SCSE with resnext50_32x4d encoder and DiceLoss_plus_FocalLoss.\n"
          ]
        },
        {
          "output_type": "stream",
          "name": "stderr",
          "text": [
            "Epoch 1/5: 100%|██████████| 1518/1518 [03:22<00:00,  7.49it/s, loss=0.235, IoU=0.866]\n"
          ]
        },
        {
          "output_type": "stream",
          "name": "stdout",
          "text": [
            "Epoch 1/5 - Validation Loss: 0.1813, Validation IoU: 0.8715\n"
          ]
        },
        {
          "output_type": "stream",
          "name": "stderr",
          "text": [
            "Epoch 2/5: 100%|██████████| 1518/1518 [03:22<00:00,  7.48it/s, loss=0.181, IoU=0.887]\n"
          ]
        },
        {
          "output_type": "stream",
          "name": "stdout",
          "text": [
            "Epoch 2/5 - Validation Loss: 0.2205, Validation IoU: 0.8705\n"
          ]
        },
        {
          "output_type": "stream",
          "name": "stderr",
          "text": [
            "Epoch 3/5: 100%|██████████| 1518/1518 [03:22<00:00,  7.50it/s, loss=0.167, IoU=0.893]\n"
          ]
        },
        {
          "output_type": "stream",
          "name": "stdout",
          "text": [
            "Epoch 3/5 - Validation Loss: 0.1610, Validation IoU: 0.8977\n"
          ]
        },
        {
          "output_type": "stream",
          "name": "stderr",
          "text": [
            "Epoch 4/5: 100%|██████████| 1518/1518 [03:22<00:00,  7.49it/s, loss=0.16, IoU=0.896]\n"
          ]
        },
        {
          "output_type": "stream",
          "name": "stdout",
          "text": [
            "Epoch 4/5 - Validation Loss: 0.2091, Validation IoU: 0.8880\n"
          ]
        },
        {
          "output_type": "stream",
          "name": "stderr",
          "text": [
            "Epoch 5/5: 100%|██████████| 1518/1518 [03:22<00:00,  7.50it/s, loss=0.151, IoU=0.899]\n"
          ]
        },
        {
          "output_type": "stream",
          "name": "stdout",
          "text": [
            "Epoch 5/5 - Validation Loss: 0.1444, Validation IoU: 0.8866\n",
            "\n",
            "Test Results for U-Net++ with SCSE with DiceLoss_plus_FocalLoss:\n",
            "Test Loss: 0.1665\n",
            "Test IoU: 0.8977\n",
            "\n",
            "Training U-Net++ with SCSE with resnext50_32x4d encoder and DiceLoss_plus_BCEWithLogitsLoss.\n"
          ]
        },
        {
          "output_type": "stream",
          "name": "stderr",
          "text": [
            "Epoch 1/5: 100%|██████████| 1518/1518 [03:22<00:00,  7.50it/s, loss=0.278, IoU=0.871]\n"
          ]
        },
        {
          "output_type": "stream",
          "name": "stdout",
          "text": [
            "Epoch 1/5 - Validation Loss: 0.2015, Validation IoU: 0.8879\n"
          ]
        },
        {
          "output_type": "stream",
          "name": "stderr",
          "text": [
            "Epoch 2/5: 100%|██████████| 1518/1518 [03:22<00:00,  7.49it/s, loss=0.207, IoU=0.89]\n"
          ]
        },
        {
          "output_type": "stream",
          "name": "stdout",
          "text": [
            "Epoch 2/5 - Validation Loss: 0.1817, Validation IoU: 0.8984\n"
          ]
        },
        {
          "output_type": "stream",
          "name": "stderr",
          "text": [
            "Epoch 3/5: 100%|██████████| 1518/1518 [03:22<00:00,  7.50it/s, loss=0.19, IoU=0.896]\n"
          ]
        },
        {
          "output_type": "stream",
          "name": "stdout",
          "text": [
            "Epoch 3/5 - Validation Loss: 0.1749, Validation IoU: 0.9010\n"
          ]
        },
        {
          "output_type": "stream",
          "name": "stderr",
          "text": [
            "Epoch 4/5: 100%|██████████| 1518/1518 [03:22<00:00,  7.51it/s, loss=0.181, IoU=0.9]\n"
          ]
        },
        {
          "output_type": "stream",
          "name": "stdout",
          "text": [
            "Epoch 4/5 - Validation Loss: 0.1713, Validation IoU: 0.9038\n"
          ]
        },
        {
          "output_type": "stream",
          "name": "stderr",
          "text": [
            "Epoch 5/5: 100%|██████████| 1518/1518 [03:22<00:00,  7.49it/s, loss=0.178, IoU=0.901]\n"
          ]
        },
        {
          "output_type": "stream",
          "name": "stdout",
          "text": [
            "Epoch 5/5 - Validation Loss: 0.1782, Validation IoU: 0.8995\n",
            "\n",
            "Test Results for U-Net++ with SCSE with DiceLoss_plus_BCEWithLogitsLoss:\n",
            "Test Loss: 0.1789\n",
            "Test IoU: 0.9033\n",
            "\n",
            "Training PAN with resnext50_32x4d encoder and DiceLoss.\n"
          ]
        },
        {
          "output_type": "stream",
          "name": "stderr",
          "text": [
            "Epoch 1/5: 100%|██████████| 1518/1518 [02:44<00:00,  9.25it/s, loss=0.127, IoU=0.857]\n"
          ]
        },
        {
          "output_type": "stream",
          "name": "stdout",
          "text": [
            "Epoch 1/5 - Validation Loss: 0.1613, Validation IoU: 0.8317\n"
          ]
        },
        {
          "output_type": "stream",
          "name": "stderr",
          "text": [
            "Epoch 2/5: 100%|██████████| 1518/1518 [02:44<00:00,  9.25it/s, loss=0.11, IoU=0.875]\n"
          ]
        },
        {
          "output_type": "stream",
          "name": "stdout",
          "text": [
            "Epoch 2/5 - Validation Loss: 0.0965, Validation IoU: 0.8861\n"
          ]
        },
        {
          "output_type": "stream",
          "name": "stderr",
          "text": [
            "Epoch 3/5: 100%|██████████| 1518/1518 [02:44<00:00,  9.25it/s, loss=0.0964, IoU=0.888]\n"
          ]
        },
        {
          "output_type": "stream",
          "name": "stdout",
          "text": [
            "Epoch 3/5 - Validation Loss: 0.1559, Validation IoU: 0.8365\n"
          ]
        },
        {
          "output_type": "stream",
          "name": "stderr",
          "text": [
            "Epoch 4/5: 100%|██████████| 1518/1518 [02:43<00:00,  9.29it/s, loss=0.0969, IoU=0.886]\n"
          ]
        },
        {
          "output_type": "stream",
          "name": "stdout",
          "text": [
            "Epoch 4/5 - Validation Loss: 0.0910, Validation IoU: 0.8907\n"
          ]
        },
        {
          "output_type": "stream",
          "name": "stderr",
          "text": [
            "Epoch 5/5: 100%|██████████| 1518/1518 [02:43<00:00,  9.29it/s, loss=0.0914, IoU=0.891]\n"
          ]
        },
        {
          "output_type": "stream",
          "name": "stdout",
          "text": [
            "Epoch 5/5 - Validation Loss: 0.0809, Validation IoU: 0.9004\n",
            "\n",
            "Test Results for PAN with DiceLoss:\n",
            "Test Loss: 0.0851\n",
            "Test IoU: 0.8999\n",
            "\n",
            "Training PAN with resnext50_32x4d encoder and TverskyLoss.\n"
          ]
        },
        {
          "output_type": "stream",
          "name": "stderr",
          "text": [
            "Epoch 1/5: 100%|██████████| 1518/1518 [02:44<00:00,  9.21it/s, loss=0.123, IoU=0.861]\n"
          ]
        },
        {
          "output_type": "stream",
          "name": "stdout",
          "text": [
            "Epoch 1/5 - Validation Loss: 0.2004, Validation IoU: 0.8017\n"
          ]
        },
        {
          "output_type": "stream",
          "name": "stderr",
          "text": [
            "Epoch 2/5: 100%|██████████| 1518/1518 [02:44<00:00,  9.23it/s, loss=0.0991, IoU=0.884]\n"
          ]
        },
        {
          "output_type": "stream",
          "name": "stdout",
          "text": [
            "Epoch 2/5 - Validation Loss: 0.1586, Validation IoU: 0.8317\n"
          ]
        },
        {
          "output_type": "stream",
          "name": "stderr",
          "text": [
            "Epoch 3/5: 100%|██████████| 1518/1518 [02:44<00:00,  9.24it/s, loss=0.105, IoU=0.879]\n"
          ]
        },
        {
          "output_type": "stream",
          "name": "stdout",
          "text": [
            "Epoch 3/5 - Validation Loss: 0.1263, Validation IoU: 0.8640\n"
          ]
        },
        {
          "output_type": "stream",
          "name": "stderr",
          "text": [
            "Epoch 4/5: 100%|██████████| 1518/1518 [02:44<00:00,  9.24it/s, loss=0.0929, IoU=0.89]\n"
          ]
        },
        {
          "output_type": "stream",
          "name": "stdout",
          "text": [
            "Epoch 4/5 - Validation Loss: 0.6564, Validation IoU: 0.2996\n"
          ]
        },
        {
          "output_type": "stream",
          "name": "stderr",
          "text": [
            "Epoch 5/5: 100%|██████████| 1518/1518 [02:45<00:00,  9.20it/s, loss=0.0886, IoU=0.895]\n"
          ]
        },
        {
          "output_type": "stream",
          "name": "stdout",
          "text": [
            "Epoch 5/5 - Validation Loss: 0.0968, Validation IoU: 0.8880\n",
            "\n",
            "Test Results for PAN with TverskyLoss:\n",
            "Test Loss: 0.1005\n",
            "Test IoU: 0.8872\n",
            "\n",
            "Training PAN with resnext50_32x4d encoder and FocalLoss.\n"
          ]
        },
        {
          "output_type": "stream",
          "name": "stderr",
          "text": [
            "Epoch 1/5: 100%|██████████| 1518/1518 [02:43<00:00,  9.31it/s, loss=0.0372, IoU=0.833]\n"
          ]
        },
        {
          "output_type": "stream",
          "name": "stdout",
          "text": [
            "Epoch 1/5 - Validation Loss: 0.0252, Validation IoU: 0.8536\n"
          ]
        },
        {
          "output_type": "stream",
          "name": "stderr",
          "text": [
            "Epoch 2/5: 100%|██████████| 1518/1518 [02:43<00:00,  9.31it/s, loss=0.0305, IoU=0.848]\n"
          ]
        },
        {
          "output_type": "stream",
          "name": "stdout",
          "text": [
            "Epoch 2/5 - Validation Loss: 0.0253, Validation IoU: 0.8273\n"
          ]
        },
        {
          "output_type": "stream",
          "name": "stderr",
          "text": [
            "Epoch 3/5: 100%|██████████| 1518/1518 [02:42<00:00,  9.33it/s, loss=0.0253, IoU=0.858]\n"
          ]
        },
        {
          "output_type": "stream",
          "name": "stdout",
          "text": [
            "Epoch 3/5 - Validation Loss: 0.0287, Validation IoU: 0.8306\n"
          ]
        },
        {
          "output_type": "stream",
          "name": "stderr",
          "text": [
            "Epoch 4/5: 100%|██████████| 1518/1518 [02:42<00:00,  9.31it/s, loss=0.0243, IoU=0.86]\n"
          ]
        },
        {
          "output_type": "stream",
          "name": "stdout",
          "text": [
            "Epoch 4/5 - Validation Loss: 0.2169, Validation IoU: 0.4389\n"
          ]
        },
        {
          "output_type": "stream",
          "name": "stderr",
          "text": [
            "Epoch 5/5: 100%|██████████| 1518/1518 [02:42<00:00,  9.32it/s, loss=0.022, IoU=0.865]\n"
          ]
        },
        {
          "output_type": "stream",
          "name": "stdout",
          "text": [
            "Epoch 5/5 - Validation Loss: 0.0280, Validation IoU: 0.8160\n",
            "\n",
            "Test Results for PAN with FocalLoss:\n",
            "Test Loss: 0.0254\n",
            "Test IoU: 0.8527\n",
            "\n",
            "Training PAN with resnext50_32x4d encoder and BCEWithLogitsLoss.\n"
          ]
        },
        {
          "output_type": "stream",
          "name": "stderr",
          "text": [
            "Epoch 1/5: 100%|██████████| 1518/1518 [02:42<00:00,  9.33it/s, loss=0.115, IoU=0.859]\n"
          ]
        },
        {
          "output_type": "stream",
          "name": "stdout",
          "text": [
            "Epoch 1/5 - Validation Loss: 0.0957, Validation IoU: 0.8651\n"
          ]
        },
        {
          "output_type": "stream",
          "name": "stderr",
          "text": [
            "Epoch 2/5: 100%|██████████| 1518/1518 [02:42<00:00,  9.32it/s, loss=0.0889, IoU=0.879]\n"
          ]
        },
        {
          "output_type": "stream",
          "name": "stdout",
          "text": [
            "Epoch 2/5 - Validation Loss: 0.1970, Validation IoU: 0.8147\n"
          ]
        },
        {
          "output_type": "stream",
          "name": "stderr",
          "text": [
            "Epoch 3/5: 100%|██████████| 1518/1518 [02:43<00:00,  9.31it/s, loss=0.0822, IoU=0.885]\n"
          ]
        },
        {
          "output_type": "stream",
          "name": "stdout",
          "text": [
            "Epoch 3/5 - Validation Loss: 0.0748, Validation IoU: 0.8848\n"
          ]
        },
        {
          "output_type": "stream",
          "name": "stderr",
          "text": [
            "Epoch 4/5: 100%|██████████| 1518/1518 [02:43<00:00,  9.31it/s, loss=0.0821, IoU=0.886]\n"
          ]
        },
        {
          "output_type": "stream",
          "name": "stdout",
          "text": [
            "Epoch 4/5 - Validation Loss: 0.0713, Validation IoU: 0.8951\n"
          ]
        },
        {
          "output_type": "stream",
          "name": "stderr",
          "text": [
            "Epoch 5/5: 100%|██████████| 1518/1518 [02:43<00:00,  9.30it/s, loss=0.0809, IoU=0.888]\n"
          ]
        },
        {
          "output_type": "stream",
          "name": "stdout",
          "text": [
            "Epoch 5/5 - Validation Loss: 0.0789, Validation IoU: 0.8931\n",
            "\n",
            "Test Results for PAN with BCEWithLogitsLoss:\n",
            "Test Loss: 0.0731\n",
            "Test IoU: 0.8939\n",
            "\n",
            "Training PAN with resnext50_32x4d encoder and DiceLoss_plus_FocalLoss.\n"
          ]
        },
        {
          "output_type": "stream",
          "name": "stderr",
          "text": [
            "Epoch 1/5: 100%|██████████| 1518/1518 [02:44<00:00,  9.23it/s, loss=0.243, IoU=0.863]\n"
          ]
        },
        {
          "output_type": "stream",
          "name": "stdout",
          "text": [
            "Epoch 1/5 - Validation Loss: 0.2743, Validation IoU: 0.8639\n"
          ]
        },
        {
          "output_type": "stream",
          "name": "stderr",
          "text": [
            "Epoch 2/5: 100%|██████████| 1518/1518 [02:44<00:00,  9.22it/s, loss=0.199, IoU=0.88]\n"
          ]
        },
        {
          "output_type": "stream",
          "name": "stdout",
          "text": [
            "Epoch 2/5 - Validation Loss: 0.6006, Validation IoU: 0.7817\n"
          ]
        },
        {
          "output_type": "stream",
          "name": "stderr",
          "text": [
            "Epoch 3/5: 100%|██████████| 1518/1518 [02:44<00:00,  9.21it/s, loss=0.191, IoU=0.884]\n"
          ]
        },
        {
          "output_type": "stream",
          "name": "stdout",
          "text": [
            "Epoch 3/5 - Validation Loss: 0.1684, Validation IoU: 0.8787\n"
          ]
        },
        {
          "output_type": "stream",
          "name": "stderr",
          "text": [
            "Epoch 4/5: 100%|██████████| 1518/1518 [02:44<00:00,  9.21it/s, loss=0.172, IoU=0.891]\n"
          ]
        },
        {
          "output_type": "stream",
          "name": "stdout",
          "text": [
            "Epoch 4/5 - Validation Loss: 0.2381, Validation IoU: 0.8539\n"
          ]
        },
        {
          "output_type": "stream",
          "name": "stderr",
          "text": [
            "Epoch 5/5: 100%|██████████| 1518/1518 [02:44<00:00,  9.22it/s, loss=0.175, IoU=0.89]\n"
          ]
        },
        {
          "output_type": "stream",
          "name": "stdout",
          "text": [
            "Epoch 5/5 - Validation Loss: 0.1468, Validation IoU: 0.9031\n",
            "\n",
            "Test Results for PAN with DiceLoss_plus_FocalLoss:\n",
            "Test Loss: 0.1515\n",
            "Test IoU: 0.9027\n",
            "\n",
            "Training PAN with resnext50_32x4d encoder and DiceLoss_plus_BCEWithLogitsLoss.\n"
          ]
        },
        {
          "output_type": "stream",
          "name": "stderr",
          "text": [
            "Epoch 1/5: 100%|██████████| 1518/1518 [02:44<00:00,  9.25it/s, loss=0.268, IoU=0.866]\n"
          ]
        },
        {
          "output_type": "stream",
          "name": "stdout",
          "text": [
            "Epoch 1/5 - Validation Loss: 0.2872, Validation IoU: 0.8531\n"
          ]
        },
        {
          "output_type": "stream",
          "name": "stderr",
          "text": [
            "Epoch 2/5: 100%|██████████| 1518/1518 [02:44<00:00,  9.24it/s, loss=0.212, IoU=0.886]\n"
          ]
        },
        {
          "output_type": "stream",
          "name": "stdout",
          "text": [
            "Epoch 2/5 - Validation Loss: 0.2905, Validation IoU: 0.8555\n"
          ]
        },
        {
          "output_type": "stream",
          "name": "stderr",
          "text": [
            "Epoch 3/5: 100%|██████████| 1518/1518 [02:43<00:00,  9.26it/s, loss=0.206, IoU=0.889]\n"
          ]
        },
        {
          "output_type": "stream",
          "name": "stdout",
          "text": [
            "Epoch 3/5 - Validation Loss: 0.1726, Validation IoU: 0.8967\n"
          ]
        },
        {
          "output_type": "stream",
          "name": "stderr",
          "text": [
            "Epoch 4/5: 100%|██████████| 1518/1518 [02:44<00:00,  9.24it/s, loss=0.187, IoU=0.896]\n"
          ]
        },
        {
          "output_type": "stream",
          "name": "stdout",
          "text": [
            "Epoch 4/5 - Validation Loss: 0.1851, Validation IoU: 0.8913\n"
          ]
        },
        {
          "output_type": "stream",
          "name": "stderr",
          "text": [
            "Epoch 5/5: 100%|██████████| 1518/1518 [02:44<00:00,  9.25it/s, loss=0.183, IoU=0.898]\n"
          ]
        },
        {
          "output_type": "stream",
          "name": "stdout",
          "text": [
            "Epoch 5/5 - Validation Loss: 2.4469, Validation IoU: 0.3476\n",
            "\n",
            "Test Results for PAN with DiceLoss_plus_BCEWithLogitsLoss:\n",
            "Test Loss: 0.1831\n",
            "Test IoU: 0.8944\n",
            "\n",
            "Training FPN with resnext50_32x4d encoder and DiceLoss.\n"
          ]
        },
        {
          "output_type": "stream",
          "name": "stderr",
          "text": [
            "Epoch 1/5: 100%|██████████| 1518/1518 [01:09<00:00, 21.94it/s, loss=0.139, IoU=0.85]\n"
          ]
        },
        {
          "output_type": "stream",
          "name": "stdout",
          "text": [
            "Epoch 1/5 - Validation Loss: 0.1288, Validation IoU: 0.8599\n"
          ]
        },
        {
          "output_type": "stream",
          "name": "stderr",
          "text": [
            "Epoch 2/5: 100%|██████████| 1518/1518 [01:09<00:00, 21.99it/s, loss=0.103, IoU=0.883]\n"
          ]
        },
        {
          "output_type": "stream",
          "name": "stdout",
          "text": [
            "Epoch 2/5 - Validation Loss: 0.1264, Validation IoU: 0.8644\n"
          ]
        },
        {
          "output_type": "stream",
          "name": "stderr",
          "text": [
            "Epoch 3/5: 100%|██████████| 1518/1518 [01:08<00:00, 22.10it/s, loss=0.104, IoU=0.882]\n"
          ]
        },
        {
          "output_type": "stream",
          "name": "stdout",
          "text": [
            "Epoch 3/5 - Validation Loss: 0.0884, Validation IoU: 0.8933\n"
          ]
        },
        {
          "output_type": "stream",
          "name": "stderr",
          "text": [
            "Epoch 4/5: 100%|██████████| 1518/1518 [01:08<00:00, 22.13it/s, loss=0.0943, IoU=0.89]\n"
          ]
        },
        {
          "output_type": "stream",
          "name": "stdout",
          "text": [
            "Epoch 4/5 - Validation Loss: 0.1387, Validation IoU: 0.8702\n"
          ]
        },
        {
          "output_type": "stream",
          "name": "stderr",
          "text": [
            "Epoch 5/5: 100%|██████████| 1518/1518 [01:08<00:00, 22.13it/s, loss=0.0938, IoU=0.891]\n"
          ]
        },
        {
          "output_type": "stream",
          "name": "stdout",
          "text": [
            "Epoch 5/5 - Validation Loss: 0.0882, Validation IoU: 0.8937\n",
            "\n",
            "Test Results for FPN with DiceLoss:\n",
            "Test Loss: 0.0923\n",
            "Test IoU: 0.8928\n",
            "\n",
            "Training FPN with resnext50_32x4d encoder and TverskyLoss.\n"
          ]
        },
        {
          "output_type": "stream",
          "name": "stderr",
          "text": [
            "Epoch 1/5: 100%|██████████| 1518/1518 [01:09<00:00, 21.83it/s, loss=0.132, IoU=0.857]\n"
          ]
        },
        {
          "output_type": "stream",
          "name": "stdout",
          "text": [
            "Epoch 1/5 - Validation Loss: 0.1130, Validation IoU: 0.8706\n"
          ]
        },
        {
          "output_type": "stream",
          "name": "stderr",
          "text": [
            "Epoch 2/5: 100%|██████████| 1518/1518 [01:08<00:00, 22.08it/s, loss=0.111, IoU=0.876]\n"
          ]
        },
        {
          "output_type": "stream",
          "name": "stdout",
          "text": [
            "Epoch 2/5 - Validation Loss: 0.1784, Validation IoU: 0.8101\n"
          ]
        },
        {
          "output_type": "stream",
          "name": "stderr",
          "text": [
            "Epoch 3/5: 100%|██████████| 1518/1518 [01:09<00:00, 21.96it/s, loss=0.0981, IoU=0.887]\n"
          ]
        },
        {
          "output_type": "stream",
          "name": "stdout",
          "text": [
            "Epoch 3/5 - Validation Loss: 0.0892, Validation IoU: 0.8929\n"
          ]
        },
        {
          "output_type": "stream",
          "name": "stderr",
          "text": [
            "Epoch 4/5: 100%|██████████| 1518/1518 [01:09<00:00, 21.90it/s, loss=0.0961, IoU=0.888]\n"
          ]
        },
        {
          "output_type": "stream",
          "name": "stdout",
          "text": [
            "Epoch 4/5 - Validation Loss: 0.5171, Validation IoU: 0.5060\n"
          ]
        },
        {
          "output_type": "stream",
          "name": "stderr",
          "text": [
            "Epoch 5/5: 100%|██████████| 1518/1518 [01:09<00:00, 21.93it/s, loss=0.088, IoU=0.895]\n"
          ]
        },
        {
          "output_type": "stream",
          "name": "stdout",
          "text": [
            "Epoch 5/5 - Validation Loss: 0.1095, Validation IoU: 0.8767\n",
            "\n",
            "Test Results for FPN with TverskyLoss:\n",
            "Test Loss: 0.0927\n",
            "Test IoU: 0.8930\n",
            "\n",
            "Training FPN with resnext50_32x4d encoder and FocalLoss.\n"
          ]
        },
        {
          "output_type": "stream",
          "name": "stderr",
          "text": [
            "Epoch 1/5: 100%|██████████| 1518/1518 [01:08<00:00, 22.25it/s, loss=0.0369, IoU=0.815]\n"
          ]
        },
        {
          "output_type": "stream",
          "name": "stdout",
          "text": [
            "Epoch 1/5 - Validation Loss: 0.0222, Validation IoU: 0.8561\n"
          ]
        },
        {
          "output_type": "stream",
          "name": "stderr",
          "text": [
            "Epoch 2/5: 100%|██████████| 1518/1518 [01:08<00:00, 22.15it/s, loss=0.026, IoU=0.851]\n"
          ]
        },
        {
          "output_type": "stream",
          "name": "stdout",
          "text": [
            "Epoch 2/5 - Validation Loss: 0.1944, Validation IoU: 0.5614\n"
          ]
        },
        {
          "output_type": "stream",
          "name": "stderr",
          "text": [
            "Epoch 3/5: 100%|██████████| 1518/1518 [01:08<00:00, 22.19it/s, loss=0.0233, IoU=0.859]\n"
          ]
        },
        {
          "output_type": "stream",
          "name": "stdout",
          "text": [
            "Epoch 3/5 - Validation Loss: 0.0257, Validation IoU: 0.8449\n"
          ]
        },
        {
          "output_type": "stream",
          "name": "stderr",
          "text": [
            "Epoch 4/5: 100%|██████████| 1518/1518 [01:08<00:00, 22.04it/s, loss=0.0238, IoU=0.857]\n"
          ]
        },
        {
          "output_type": "stream",
          "name": "stdout",
          "text": [
            "Epoch 4/5 - Validation Loss: 0.5774, Validation IoU: 0.3140\n"
          ]
        },
        {
          "output_type": "stream",
          "name": "stderr",
          "text": [
            "Epoch 5/5: 100%|██████████| 1518/1518 [01:08<00:00, 22.23it/s, loss=0.0223, IoU=0.861]\n"
          ]
        },
        {
          "output_type": "stream",
          "name": "stdout",
          "text": [
            "Epoch 5/5 - Validation Loss: 0.0199, Validation IoU: 0.8415\n",
            "\n",
            "Test Results for FPN with FocalLoss:\n",
            "Test Loss: 0.0226\n",
            "Test IoU: 0.8556\n",
            "\n",
            "Training FPN with resnext50_32x4d encoder and BCEWithLogitsLoss.\n"
          ]
        },
        {
          "output_type": "stream",
          "name": "stderr",
          "text": [
            "Epoch 1/5: 100%|██████████| 1518/1518 [01:08<00:00, 22.23it/s, loss=0.117, IoU=0.854]\n"
          ]
        },
        {
          "output_type": "stream",
          "name": "stdout",
          "text": [
            "Epoch 1/5 - Validation Loss: 0.0819, Validation IoU: 0.8803\n"
          ]
        },
        {
          "output_type": "stream",
          "name": "stderr",
          "text": [
            "Epoch 2/5: 100%|██████████| 1518/1518 [01:08<00:00, 22.28it/s, loss=0.0863, IoU=0.88]\n"
          ]
        },
        {
          "output_type": "stream",
          "name": "stdout",
          "text": [
            "Epoch 2/5 - Validation Loss: 0.0903, Validation IoU: 0.8665\n"
          ]
        },
        {
          "output_type": "stream",
          "name": "stderr",
          "text": [
            "Epoch 3/5: 100%|██████████| 1518/1518 [01:07<00:00, 22.42it/s, loss=0.0808, IoU=0.885]\n"
          ]
        },
        {
          "output_type": "stream",
          "name": "stdout",
          "text": [
            "Epoch 3/5 - Validation Loss: 0.1217, Validation IoU: 0.8689\n"
          ]
        },
        {
          "output_type": "stream",
          "name": "stderr",
          "text": [
            "Epoch 4/5: 100%|██████████| 1518/1518 [01:07<00:00, 22.33it/s, loss=0.0775, IoU=0.888]\n"
          ]
        },
        {
          "output_type": "stream",
          "name": "stdout",
          "text": [
            "Epoch 4/5 - Validation Loss: 0.0955, Validation IoU: 0.8784\n"
          ]
        },
        {
          "output_type": "stream",
          "name": "stderr",
          "text": [
            "Epoch 5/5: 100%|██████████| 1518/1518 [01:07<00:00, 22.40it/s, loss=0.0771, IoU=0.887]\n"
          ]
        },
        {
          "output_type": "stream",
          "name": "stdout",
          "text": [
            "Epoch 5/5 - Validation Loss: 0.0780, Validation IoU: 0.8971\n",
            "\n",
            "Test Results for FPN with BCEWithLogitsLoss:\n",
            "Test Loss: 0.0795\n",
            "Test IoU: 0.8977\n",
            "\n",
            "Training FPN with resnext50_32x4d encoder and DiceLoss_plus_FocalLoss.\n"
          ]
        },
        {
          "output_type": "stream",
          "name": "stderr",
          "text": [
            "Epoch 1/5: 100%|██████████| 1518/1518 [01:09<00:00, 21.83it/s, loss=0.244, IoU=0.859]\n"
          ]
        },
        {
          "output_type": "stream",
          "name": "stdout",
          "text": [
            "Epoch 1/5 - Validation Loss: 0.1991, Validation IoU: 0.8725\n"
          ]
        },
        {
          "output_type": "stream",
          "name": "stderr",
          "text": [
            "Epoch 2/5: 100%|██████████| 1518/1518 [01:10<00:00, 21.55it/s, loss=0.185, IoU=0.882]\n"
          ]
        },
        {
          "output_type": "stream",
          "name": "stdout",
          "text": [
            "Epoch 2/5 - Validation Loss: 0.1575, Validation IoU: 0.8968\n"
          ]
        },
        {
          "output_type": "stream",
          "name": "stderr",
          "text": [
            "Epoch 3/5: 100%|██████████| 1518/1518 [01:10<00:00, 21.66it/s, loss=0.183, IoU=0.886]\n"
          ]
        },
        {
          "output_type": "stream",
          "name": "stdout",
          "text": [
            "Epoch 3/5 - Validation Loss: 0.1619, Validation IoU: 0.8917\n"
          ]
        },
        {
          "output_type": "stream",
          "name": "stderr",
          "text": [
            "Epoch 4/5: 100%|██████████| 1518/1518 [01:09<00:00, 21.69it/s, loss=0.17, IoU=0.891]\n"
          ]
        },
        {
          "output_type": "stream",
          "name": "stdout",
          "text": [
            "Epoch 4/5 - Validation Loss: 0.2560, Validation IoU: 0.8601\n"
          ]
        },
        {
          "output_type": "stream",
          "name": "stderr",
          "text": [
            "Epoch 5/5: 100%|██████████| 1518/1518 [01:10<00:00, 21.57it/s, loss=0.157, IoU=0.897]\n"
          ]
        },
        {
          "output_type": "stream",
          "name": "stdout",
          "text": [
            "Epoch 5/5 - Validation Loss: 0.1447, Validation IoU: 0.8973\n",
            "\n",
            "Test Results for FPN with DiceLoss_plus_FocalLoss:\n",
            "Test Loss: 0.1509\n",
            "Test IoU: 0.8962\n",
            "\n",
            "Training FPN with resnext50_32x4d encoder and DiceLoss_plus_BCEWithLogitsLoss.\n"
          ]
        },
        {
          "output_type": "stream",
          "name": "stderr",
          "text": [
            "Epoch 1/5: 100%|██████████| 1518/1518 [01:10<00:00, 21.68it/s, loss=0.276, IoU=0.863]\n"
          ]
        },
        {
          "output_type": "stream",
          "name": "stdout",
          "text": [
            "Epoch 1/5 - Validation Loss: 0.2636, Validation IoU: 0.8653\n"
          ]
        },
        {
          "output_type": "stream",
          "name": "stderr",
          "text": [
            "Epoch 2/5: 100%|██████████| 1518/1518 [01:09<00:00, 21.69it/s, loss=0.213, IoU=0.887]\n"
          ]
        },
        {
          "output_type": "stream",
          "name": "stdout",
          "text": [
            "Epoch 2/5 - Validation Loss: 0.1953, Validation IoU: 0.8875\n"
          ]
        },
        {
          "output_type": "stream",
          "name": "stderr",
          "text": [
            "Epoch 3/5: 100%|██████████| 1518/1518 [01:09<00:00, 21.90it/s, loss=0.201, IoU=0.891]\n"
          ]
        },
        {
          "output_type": "stream",
          "name": "stdout",
          "text": [
            "Epoch 3/5 - Validation Loss: 0.1711, Validation IoU: 0.8981\n"
          ]
        },
        {
          "output_type": "stream",
          "name": "stderr",
          "text": [
            "Epoch 4/5: 100%|██████████| 1518/1518 [01:09<00:00, 21.83it/s, loss=0.189, IoU=0.894]\n"
          ]
        },
        {
          "output_type": "stream",
          "name": "stdout",
          "text": [
            "Epoch 4/5 - Validation Loss: 0.1789, Validation IoU: 0.8987\n"
          ]
        },
        {
          "output_type": "stream",
          "name": "stderr",
          "text": [
            "Epoch 5/5: 100%|██████████| 1518/1518 [01:09<00:00, 21.76it/s, loss=0.183, IoU=0.897]\n"
          ]
        },
        {
          "output_type": "stream",
          "name": "stdout",
          "text": [
            "Epoch 5/5 - Validation Loss: 0.1843, Validation IoU: 0.9007\n",
            "\n",
            "Test Results for FPN with DiceLoss_plus_BCEWithLogitsLoss:\n",
            "Test Loss: 0.1936\n",
            "Test IoU: 0.8986\n",
            "\n",
            "Completed training with resnext50_32x4d\n"
          ]
        }
      ],
      "source": [
        "encoder_name = 'resnext50_32x4d'\n",
        "results = []\n",
        "print(f\"Training with {encoder_name} encoder\")\n",
        "# Iterate over models\n",
        "for model_info in model_classes:\n",
        "    model_class = model_info['class']\n",
        "    model_args = model_info['args']\n",
        "    model_name = model_info['name']\n",
        "    # Iterate over loss functions\n",
        "    for loss_func_info in loss_functions:\n",
        "        loss_func_name = loss_func_info['name']\n",
        "        loss_function = loss_func_info['function']\n",
        "        model_filename = f\"{model_name}_{encoder_name}_{loss_func_name}.pth\".replace(' ', '_').replace('+', 'plus')\n",
        "\n",
        "        # Skip if model file already exists\n",
        "        if os.path.exists(model_filename):\n",
        "            print(f\"Skipping {model_filename} - already exists\")\n",
        "            continue\n",
        "        # Define the model\n",
        "        model = model_class(\n",
        "            encoder_name=encoder_name,\n",
        "            encoder_weights=\"imagenet\",\n",
        "            in_channels=3,\n",
        "            classes=1,\n",
        "            **model_args\n",
        "        ).to(device)\n",
        "        # Reset model weights\n",
        "        model.apply(reset_weights)\n",
        "        # Define loss function and optimizer\n",
        "        criterion = loss_function\n",
        "        optimizer = optim.Adam(model.parameters(), lr=0.001)\n",
        "        # Train the model\n",
        "        print(f\"Training {model_name} with {encoder_name} encoder and {loss_func_name}.\")\n",
        "        train_model(\n",
        "            model, train_loader, val_loader, criterion, optimizer, device,\n",
        "            num_epochs=5, model_filename=model_filename\n",
        "        )\n",
        "        # Load the best model and evaluate on test set\n",
        "        model.load_state_dict(torch.load(model_filename))\n",
        "        test_loss, test_iou = evaluate(model, test_loader, criterion, device)\n",
        "\n",
        "        # Print test metrics\n",
        "        print(f\"\\nTest Results for {model_name} with {loss_func_name}:\")\n",
        "        print(f\"Test Loss: {test_loss:.4f}\")\n",
        "        print(f\"Test IoU: {test_iou:.4f}\\n\")\n",
        "\n",
        "        # Log results\n",
        "        results.append({\n",
        "            'Encoder': encoder_name,\n",
        "            'Model': model_name,\n",
        "            'Loss Function': loss_func_name,\n",
        "            'Epochs': 5,\n",
        "            'Test Loss': test_loss,    # Changed from Validation Loss\n",
        "            'Test IoU': test_iou,      # Changed from Validation IoU\n",
        "            'Model Filename': model_filename\n",
        "        })\n",
        "        # Save interim results\n",
        "        interim_df = pd.DataFrame(results)\n",
        "        interim_df.to_csv(f'results_{encoder_name}.csv', index=False)\n",
        "print(f\"Completed training with {encoder_name}\")"
      ]
    },
    {
      "cell_type": "markdown",
      "source": [
        "## Encoder 2: resnet34"
      ],
      "metadata": {
        "id": "8M-jlHwyWW4D"
      }
    },
    {
      "cell_type": "code",
      "execution_count": null,
      "metadata": {
        "id": "vTg87sD4eNkz",
        "colab": {
          "base_uri": "https://localhost:8080/"
        },
        "outputId": "31e77822-b2d2-4720-de43-f053eadb2765"
      },
      "outputs": [
        {
          "output_type": "stream",
          "name": "stdout",
          "text": [
            "Training with resnet34 encoder\n"
          ]
        },
        {
          "output_type": "stream",
          "name": "stderr",
          "text": [
            "Downloading: \"https://download.pytorch.org/models/resnet34-333f7ec4.pth\" to /root/.cache/torch/hub/checkpoints/resnet34-333f7ec4.pth\n",
            "100%|██████████| 83.3M/83.3M [00:00<00:00, 268MB/s]\n"
          ]
        },
        {
          "output_type": "stream",
          "name": "stdout",
          "text": [
            "Training U-Net++ with resnet34 encoder and DiceLoss.\n"
          ]
        },
        {
          "output_type": "stream",
          "name": "stderr",
          "text": [
            "Epoch 1/5: 100%|██████████| 1518/1518 [01:27<00:00, 17.45it/s, loss=0.147, IoU=0.849]\n"
          ]
        },
        {
          "output_type": "stream",
          "name": "stdout",
          "text": [
            "Epoch 1/5 - Validation Loss: 0.6294, Validation IoU: 0.3439\n"
          ]
        },
        {
          "output_type": "stream",
          "name": "stderr",
          "text": [
            "Epoch 2/5: 100%|██████████| 1518/1518 [01:24<00:00, 17.94it/s, loss=0.119, IoU=0.865]\n"
          ]
        },
        {
          "output_type": "stream",
          "name": "stdout",
          "text": [
            "Epoch 2/5 - Validation Loss: 0.1284, Validation IoU: 0.8615\n"
          ]
        },
        {
          "output_type": "stream",
          "name": "stderr",
          "text": [
            "Epoch 3/5: 100%|██████████| 1518/1518 [01:24<00:00, 17.90it/s, loss=0.114, IoU=0.868]\n"
          ]
        },
        {
          "output_type": "stream",
          "name": "stdout",
          "text": [
            "Epoch 3/5 - Validation Loss: 0.1039, Validation IoU: 0.8782\n"
          ]
        },
        {
          "output_type": "stream",
          "name": "stderr",
          "text": [
            "Epoch 4/5: 100%|██████████| 1518/1518 [01:24<00:00, 17.92it/s, loss=0.108, IoU=0.873]\n"
          ]
        },
        {
          "output_type": "stream",
          "name": "stdout",
          "text": [
            "Epoch 4/5 - Validation Loss: 0.5504, Validation IoU: 0.4224\n"
          ]
        },
        {
          "output_type": "stream",
          "name": "stderr",
          "text": [
            "Epoch 5/5: 100%|██████████| 1518/1518 [01:24<00:00, 17.92it/s, loss=0.102, IoU=0.878]\n"
          ]
        },
        {
          "output_type": "stream",
          "name": "stdout",
          "text": [
            "Epoch 5/5 - Validation Loss: 0.0958, Validation IoU: 0.8702\n"
          ]
        },
        {
          "output_type": "stream",
          "name": "stderr",
          "text": [
            "<ipython-input-6-a2db59ada588>:39: FutureWarning: You are using `torch.load` with `weights_only=False` (the current default value), which uses the default pickle module implicitly. It is possible to construct malicious pickle data which will execute arbitrary code during unpickling (See https://github.com/pytorch/pytorch/blob/main/SECURITY.md#untrusted-models for more details). In a future release, the default value for `weights_only` will be flipped to `True`. This limits the functions that could be executed during unpickling. Arbitrary objects will no longer be allowed to be loaded via this mode unless they are explicitly allowlisted by the user via `torch.serialization.add_safe_globals`. We recommend you start setting `weights_only=True` for any use case where you don't have full control of the loaded file. Please open an issue on GitHub for any issues related to this experimental feature.\n",
            "  model.load_state_dict(torch.load(model_filename))\n"
          ]
        },
        {
          "output_type": "stream",
          "name": "stdout",
          "text": [
            "\n",
            "Test Results for U-Net++ with DiceLoss:\n",
            "Test Loss: 0.1086\n",
            "Test IoU: 0.8793\n",
            "\n",
            "Training U-Net++ with resnet34 encoder and TverskyLoss.\n"
          ]
        },
        {
          "output_type": "stream",
          "name": "stderr",
          "text": [
            "Epoch 1/5: 100%|██████████| 1518/1518 [01:24<00:00, 17.86it/s, loss=0.152, IoU=0.847]\n"
          ]
        },
        {
          "output_type": "stream",
          "name": "stdout",
          "text": [
            "Epoch 1/5 - Validation Loss: 0.2294, Validation IoU: 0.7214\n"
          ]
        },
        {
          "output_type": "stream",
          "name": "stderr",
          "text": [
            "Epoch 2/5: 100%|██████████| 1518/1518 [01:24<00:00, 17.86it/s, loss=0.119, IoU=0.863]\n"
          ]
        },
        {
          "output_type": "stream",
          "name": "stdout",
          "text": [
            "Epoch 2/5 - Validation Loss: 0.2523, Validation IoU: 0.6761\n"
          ]
        },
        {
          "output_type": "stream",
          "name": "stderr",
          "text": [
            "Epoch 3/5: 100%|██████████| 1518/1518 [01:24<00:00, 17.90it/s, loss=0.113, IoU=0.871]\n"
          ]
        },
        {
          "output_type": "stream",
          "name": "stdout",
          "text": [
            "Epoch 3/5 - Validation Loss: 0.1023, Validation IoU: 0.8817\n"
          ]
        },
        {
          "output_type": "stream",
          "name": "stderr",
          "text": [
            "Epoch 4/5: 100%|██████████| 1518/1518 [01:24<00:00, 17.91it/s, loss=0.109, IoU=0.873]\n"
          ]
        },
        {
          "output_type": "stream",
          "name": "stdout",
          "text": [
            "Epoch 4/5 - Validation Loss: 0.1117, Validation IoU: 0.8752\n"
          ]
        },
        {
          "output_type": "stream",
          "name": "stderr",
          "text": [
            "Epoch 5/5: 100%|██████████| 1518/1518 [01:24<00:00, 17.93it/s, loss=0.107, IoU=0.875]\n"
          ]
        },
        {
          "output_type": "stream",
          "name": "stdout",
          "text": [
            "Epoch 5/5 - Validation Loss: 0.0961, Validation IoU: 0.8833\n",
            "\n",
            "Test Results for U-Net++ with TverskyLoss:\n",
            "Test Loss: 0.0994\n",
            "Test IoU: 0.8844\n",
            "\n",
            "Training U-Net++ with resnet34 encoder and FocalLoss.\n"
          ]
        },
        {
          "output_type": "stream",
          "name": "stderr",
          "text": [
            "Epoch 1/5: 100%|██████████| 1518/1518 [01:24<00:00, 17.88it/s, loss=0.0374, IoU=0.838]\n"
          ]
        },
        {
          "output_type": "stream",
          "name": "stdout",
          "text": [
            "Epoch 1/5 - Validation Loss: 0.2468, Validation IoU: 0.3998\n"
          ]
        },
        {
          "output_type": "stream",
          "name": "stderr",
          "text": [
            "Epoch 2/5: 100%|██████████| 1518/1518 [01:24<00:00, 17.87it/s, loss=0.0306, IoU=0.857]\n"
          ]
        },
        {
          "output_type": "stream",
          "name": "stdout",
          "text": [
            "Epoch 2/5 - Validation Loss: 0.1112, Validation IoU: 0.8733\n"
          ]
        },
        {
          "output_type": "stream",
          "name": "stderr",
          "text": [
            "Epoch 3/5: 100%|██████████| 1518/1518 [01:25<00:00, 17.84it/s, loss=0.027, IoU=0.863]\n"
          ]
        },
        {
          "output_type": "stream",
          "name": "stdout",
          "text": [
            "Epoch 3/5 - Validation Loss: 0.0228, Validation IoU: 0.8732\n"
          ]
        },
        {
          "output_type": "stream",
          "name": "stderr",
          "text": [
            "Epoch 4/5: 100%|██████████| 1518/1518 [01:24<00:00, 17.86it/s, loss=0.0248, IoU=0.866]\n"
          ]
        },
        {
          "output_type": "stream",
          "name": "stdout",
          "text": [
            "Epoch 4/5 - Validation Loss: 0.0276, Validation IoU: 0.8437\n"
          ]
        },
        {
          "output_type": "stream",
          "name": "stderr",
          "text": [
            "Epoch 5/5: 100%|██████████| 1518/1518 [01:25<00:00, 17.84it/s, loss=0.0229, IoU=0.869]\n"
          ]
        },
        {
          "output_type": "stream",
          "name": "stdout",
          "text": [
            "Epoch 5/5 - Validation Loss: 0.0717, Validation IoU: 0.8138\n",
            "\n",
            "Test Results for U-Net++ with FocalLoss:\n",
            "Test Loss: 0.1125\n",
            "Test IoU: 0.8738\n",
            "\n",
            "Training U-Net++ with resnet34 encoder and BCEWithLogitsLoss.\n"
          ]
        },
        {
          "output_type": "stream",
          "name": "stderr",
          "text": [
            "Epoch 1/5: 100%|██████████| 1518/1518 [01:24<00:00, 17.91it/s, loss=0.137, IoU=0.856]\n"
          ]
        },
        {
          "output_type": "stream",
          "name": "stdout",
          "text": [
            "Epoch 1/5 - Validation Loss: 0.1957, Validation IoU: 0.8786\n"
          ]
        },
        {
          "output_type": "stream",
          "name": "stderr",
          "text": [
            "Epoch 2/5: 100%|██████████| 1518/1518 [01:24<00:00, 17.90it/s, loss=0.103, IoU=0.876]\n"
          ]
        },
        {
          "output_type": "stream",
          "name": "stdout",
          "text": [
            "Epoch 2/5 - Validation Loss: 0.0824, Validation IoU: 0.8919\n"
          ]
        },
        {
          "output_type": "stream",
          "name": "stderr",
          "text": [
            "Epoch 3/5: 100%|██████████| 1518/1518 [01:24<00:00, 17.90it/s, loss=0.0917, IoU=0.881]\n"
          ]
        },
        {
          "output_type": "stream",
          "name": "stdout",
          "text": [
            "Epoch 3/5 - Validation Loss: 0.0885, Validation IoU: 0.8840\n"
          ]
        },
        {
          "output_type": "stream",
          "name": "stderr",
          "text": [
            "Epoch 4/5: 100%|██████████| 1518/1518 [01:24<00:00, 17.95it/s, loss=0.0841, IoU=0.885]\n"
          ]
        },
        {
          "output_type": "stream",
          "name": "stdout",
          "text": [
            "Epoch 4/5 - Validation Loss: 0.1031, Validation IoU: 0.8772\n"
          ]
        },
        {
          "output_type": "stream",
          "name": "stderr",
          "text": [
            "Epoch 5/5: 100%|██████████| 1518/1518 [01:24<00:00, 17.88it/s, loss=0.08, IoU=0.889]\n"
          ]
        },
        {
          "output_type": "stream",
          "name": "stdout",
          "text": [
            "Epoch 5/5 - Validation Loss: 0.1091, Validation IoU: 0.8704\n",
            "\n",
            "Test Results for U-Net++ with BCEWithLogitsLoss:\n",
            "Test Loss: 0.0834\n",
            "Test IoU: 0.8922\n",
            "\n",
            "Training U-Net++ with resnet34 encoder and DiceLoss_plus_FocalLoss.\n"
          ]
        },
        {
          "output_type": "stream",
          "name": "stderr",
          "text": [
            "Epoch 1/5: 100%|██████████| 1518/1518 [01:24<00:00, 17.89it/s, loss=0.274, IoU=0.858]\n"
          ]
        },
        {
          "output_type": "stream",
          "name": "stdout",
          "text": [
            "Epoch 1/5 - Validation Loss: 0.3388, Validation IoU: 0.8446\n"
          ]
        },
        {
          "output_type": "stream",
          "name": "stderr",
          "text": [
            "Epoch 2/5: 100%|██████████| 1518/1518 [01:24<00:00, 17.89it/s, loss=0.218, IoU=0.878]\n"
          ]
        },
        {
          "output_type": "stream",
          "name": "stdout",
          "text": [
            "Epoch 2/5 - Validation Loss: 0.1997, Validation IoU: 0.8883\n"
          ]
        },
        {
          "output_type": "stream",
          "name": "stderr",
          "text": [
            "Epoch 3/5: 100%|██████████| 1518/1518 [01:24<00:00, 17.88it/s, loss=0.2, IoU=0.884]\n"
          ]
        },
        {
          "output_type": "stream",
          "name": "stdout",
          "text": [
            "Epoch 3/5 - Validation Loss: 0.2495, Validation IoU: 0.8522\n"
          ]
        },
        {
          "output_type": "stream",
          "name": "stderr",
          "text": [
            "Epoch 4/5: 100%|██████████| 1518/1518 [01:25<00:00, 17.85it/s, loss=0.183, IoU=0.889]\n"
          ]
        },
        {
          "output_type": "stream",
          "name": "stdout",
          "text": [
            "Epoch 4/5 - Validation Loss: 0.3602, Validation IoU: 0.8507\n"
          ]
        },
        {
          "output_type": "stream",
          "name": "stderr",
          "text": [
            "Epoch 5/5: 100%|██████████| 1518/1518 [01:25<00:00, 17.82it/s, loss=0.177, IoU=0.89]\n"
          ]
        },
        {
          "output_type": "stream",
          "name": "stdout",
          "text": [
            "Epoch 5/5 - Validation Loss: 0.1647, Validation IoU: 0.8911\n",
            "\n",
            "Test Results for U-Net++ with DiceLoss_plus_FocalLoss:\n",
            "Test Loss: 0.1693\n",
            "Test IoU: 0.8911\n",
            "\n",
            "Training U-Net++ with resnet34 encoder and DiceLoss_plus_BCEWithLogitsLoss.\n"
          ]
        },
        {
          "output_type": "stream",
          "name": "stderr",
          "text": [
            "Epoch 1/5: 100%|██████████| 1518/1518 [01:25<00:00, 17.82it/s, loss=0.313, IoU=0.859]\n"
          ]
        },
        {
          "output_type": "stream",
          "name": "stdout",
          "text": [
            "Epoch 1/5 - Validation Loss: 0.2482, Validation IoU: 0.8800\n"
          ]
        },
        {
          "output_type": "stream",
          "name": "stderr",
          "text": [
            "Epoch 2/5: 100%|██████████| 1518/1518 [01:24<00:00, 17.93it/s, loss=0.267, IoU=0.873]\n"
          ]
        },
        {
          "output_type": "stream",
          "name": "stdout",
          "text": [
            "Epoch 2/5 - Validation Loss: 0.2372, Validation IoU: 0.8843\n"
          ]
        },
        {
          "output_type": "stream",
          "name": "stderr",
          "text": [
            "Epoch 3/5: 100%|██████████| 1518/1518 [01:24<00:00, 17.86it/s, loss=0.241, IoU=0.881]\n"
          ]
        },
        {
          "output_type": "stream",
          "name": "stdout",
          "text": [
            "Epoch 3/5 - Validation Loss: 3.0471, Validation IoU: 0.3145\n"
          ]
        },
        {
          "output_type": "stream",
          "name": "stderr",
          "text": [
            "Epoch 4/5: 100%|██████████| 1518/1518 [01:25<00:00, 17.84it/s, loss=0.226, IoU=0.885]\n"
          ]
        },
        {
          "output_type": "stream",
          "name": "stdout",
          "text": [
            "Epoch 4/5 - Validation Loss: 0.8444, Validation IoU: 0.5052\n"
          ]
        },
        {
          "output_type": "stream",
          "name": "stderr",
          "text": [
            "Epoch 5/5: 100%|██████████| 1518/1518 [01:24<00:00, 17.89it/s, loss=0.213, IoU=0.889]\n"
          ]
        },
        {
          "output_type": "stream",
          "name": "stdout",
          "text": [
            "Epoch 5/5 - Validation Loss: 0.2651, Validation IoU: 0.8719\n",
            "\n",
            "Test Results for U-Net++ with DiceLoss_plus_BCEWithLogitsLoss:\n",
            "Test Loss: 0.2404\n",
            "Test IoU: 0.8848\n",
            "\n",
            "Training U-Net++ with SCSE with resnet34 encoder and DiceLoss.\n"
          ]
        },
        {
          "output_type": "stream",
          "name": "stderr",
          "text": [
            "Epoch 1/5: 100%|██████████| 1518/1518 [02:05<00:00, 12.06it/s, loss=0.142, IoU=0.851]\n"
          ]
        },
        {
          "output_type": "stream",
          "name": "stdout",
          "text": [
            "Epoch 1/5 - Validation Loss: 0.1129, Validation IoU: 0.8741\n"
          ]
        },
        {
          "output_type": "stream",
          "name": "stderr",
          "text": [
            "Epoch 2/5: 100%|██████████| 1518/1518 [02:05<00:00, 12.12it/s, loss=0.108, IoU=0.875]\n"
          ]
        },
        {
          "output_type": "stream",
          "name": "stdout",
          "text": [
            "Epoch 2/5 - Validation Loss: 0.1013, Validation IoU: 0.8632\n"
          ]
        },
        {
          "output_type": "stream",
          "name": "stderr",
          "text": [
            "Epoch 3/5: 100%|██████████| 1518/1518 [02:05<00:00, 12.13it/s, loss=0.105, IoU=0.879]\n"
          ]
        },
        {
          "output_type": "stream",
          "name": "stdout",
          "text": [
            "Epoch 3/5 - Validation Loss: 0.1511, Validation IoU: 0.8439\n"
          ]
        },
        {
          "output_type": "stream",
          "name": "stderr",
          "text": [
            "Epoch 4/5: 100%|██████████| 1518/1518 [02:05<00:00, 12.13it/s, loss=0.102, IoU=0.882]\n"
          ]
        },
        {
          "output_type": "stream",
          "name": "stdout",
          "text": [
            "Epoch 4/5 - Validation Loss: 0.4076, Validation IoU: 0.5927\n"
          ]
        },
        {
          "output_type": "stream",
          "name": "stderr",
          "text": [
            "Epoch 5/5: 100%|██████████| 1518/1518 [02:05<00:00, 12.13it/s, loss=0.105, IoU=0.878]\n"
          ]
        },
        {
          "output_type": "stream",
          "name": "stdout",
          "text": [
            "Epoch 5/5 - Validation Loss: 0.5554, Validation IoU: 0.4541\n",
            "\n",
            "Test Results for U-Net++ with SCSE with DiceLoss:\n",
            "Test Loss: 0.1188\n",
            "Test IoU: 0.8745\n",
            "\n",
            "Training U-Net++ with SCSE with resnet34 encoder and TverskyLoss.\n"
          ]
        },
        {
          "output_type": "stream",
          "name": "stderr",
          "text": [
            "Epoch 1/5: 100%|██████████| 1518/1518 [02:05<00:00, 12.08it/s, loss=0.141, IoU=0.853]\n"
          ]
        },
        {
          "output_type": "stream",
          "name": "stdout",
          "text": [
            "Epoch 1/5 - Validation Loss: 0.1206, Validation IoU: 0.8419\n"
          ]
        },
        {
          "output_type": "stream",
          "name": "stderr",
          "text": [
            "Epoch 2/5: 100%|██████████| 1518/1518 [02:05<00:00, 12.10it/s, loss=0.107, IoU=0.873]\n"
          ]
        },
        {
          "output_type": "stream",
          "name": "stdout",
          "text": [
            "Epoch 2/5 - Validation Loss: 0.1287, Validation IoU: 0.8616\n"
          ]
        },
        {
          "output_type": "stream",
          "name": "stderr",
          "text": [
            "Epoch 3/5: 100%|██████████| 1518/1518 [02:05<00:00, 12.08it/s, loss=0.102, IoU=0.877]\n"
          ]
        },
        {
          "output_type": "stream",
          "name": "stdout",
          "text": [
            "Epoch 3/5 - Validation Loss: 0.1031, Validation IoU: 0.8817\n"
          ]
        },
        {
          "output_type": "stream",
          "name": "stderr",
          "text": [
            "Epoch 4/5: 100%|██████████| 1518/1518 [02:05<00:00, 12.11it/s, loss=0.103, IoU=0.88]\n"
          ]
        },
        {
          "output_type": "stream",
          "name": "stdout",
          "text": [
            "Epoch 4/5 - Validation Loss: 0.6378, Validation IoU: 0.3307\n"
          ]
        },
        {
          "output_type": "stream",
          "name": "stderr",
          "text": [
            "Epoch 5/5: 100%|██████████| 1518/1518 [02:05<00:00, 12.10it/s, loss=0.1, IoU=0.883]\n"
          ]
        },
        {
          "output_type": "stream",
          "name": "stdout",
          "text": [
            "Epoch 5/5 - Validation Loss: 0.0895, Validation IoU: 0.8929\n",
            "\n",
            "Test Results for U-Net++ with SCSE with TverskyLoss:\n",
            "Test Loss: 0.0937\n",
            "Test IoU: 0.8931\n",
            "\n",
            "Training U-Net++ with SCSE with resnet34 encoder and FocalLoss.\n"
          ]
        },
        {
          "output_type": "stream",
          "name": "stderr",
          "text": [
            "Epoch 1/5: 100%|██████████| 1518/1518 [02:05<00:00, 12.12it/s, loss=0.0357, IoU=0.839]\n"
          ]
        },
        {
          "output_type": "stream",
          "name": "stdout",
          "text": [
            "Epoch 1/5 - Validation Loss: 0.0302, Validation IoU: 0.8672\n"
          ]
        },
        {
          "output_type": "stream",
          "name": "stderr",
          "text": [
            "Epoch 2/5: 100%|██████████| 1518/1518 [02:05<00:00, 12.10it/s, loss=0.0281, IoU=0.86]\n"
          ]
        },
        {
          "output_type": "stream",
          "name": "stdout",
          "text": [
            "Epoch 2/5 - Validation Loss: 0.2413, Validation IoU: 0.4330\n"
          ]
        },
        {
          "output_type": "stream",
          "name": "stderr",
          "text": [
            "Epoch 3/5: 100%|██████████| 1518/1518 [02:05<00:00, 12.11it/s, loss=0.0255, IoU=0.862]\n"
          ]
        },
        {
          "output_type": "stream",
          "name": "stdout",
          "text": [
            "Epoch 3/5 - Validation Loss: 0.0243, Validation IoU: 0.8804\n"
          ]
        },
        {
          "output_type": "stream",
          "name": "stderr",
          "text": [
            "Epoch 4/5: 100%|██████████| 1518/1518 [02:04<00:00, 12.15it/s, loss=0.0233, IoU=0.865]\n"
          ]
        },
        {
          "output_type": "stream",
          "name": "stdout",
          "text": [
            "Epoch 4/5 - Validation Loss: 0.0251, Validation IoU: 0.8666\n"
          ]
        },
        {
          "output_type": "stream",
          "name": "stderr",
          "text": [
            "Epoch 5/5: 100%|██████████| 1518/1518 [02:05<00:00, 12.09it/s, loss=0.0221, IoU=0.869]\n"
          ]
        },
        {
          "output_type": "stream",
          "name": "stdout",
          "text": [
            "Epoch 5/5 - Validation Loss: 0.3173, Validation IoU: 0.3173\n",
            "\n",
            "Test Results for U-Net++ with SCSE with FocalLoss:\n",
            "Test Loss: 0.0244\n",
            "Test IoU: 0.8807\n",
            "\n",
            "Training U-Net++ with SCSE with resnet34 encoder and BCEWithLogitsLoss.\n"
          ]
        },
        {
          "output_type": "stream",
          "name": "stderr",
          "text": [
            "Epoch 1/5: 100%|██████████| 1518/1518 [02:04<00:00, 12.15it/s, loss=0.129, IoU=0.859]\n"
          ]
        },
        {
          "output_type": "stream",
          "name": "stdout",
          "text": [
            "Epoch 1/5 - Validation Loss: 2.0880, Validation IoU: 0.3042\n"
          ]
        },
        {
          "output_type": "stream",
          "name": "stderr",
          "text": [
            "Epoch 2/5: 100%|██████████| 1518/1518 [02:06<00:00, 12.03it/s, loss=0.106, IoU=0.875]\n"
          ]
        },
        {
          "output_type": "stream",
          "name": "stdout",
          "text": [
            "Epoch 2/5 - Validation Loss: 1.1175, Validation IoU: 0.3196\n"
          ]
        },
        {
          "output_type": "stream",
          "name": "stderr",
          "text": [
            "Epoch 3/5: 100%|██████████| 1518/1518 [02:06<00:00, 12.04it/s, loss=0.0939, IoU=0.882]\n"
          ]
        },
        {
          "output_type": "stream",
          "name": "stdout",
          "text": [
            "Epoch 3/5 - Validation Loss: 0.0968, Validation IoU: 0.8823\n"
          ]
        },
        {
          "output_type": "stream",
          "name": "stderr",
          "text": [
            "Epoch 4/5: 100%|██████████| 1518/1518 [02:06<00:00, 12.04it/s, loss=0.085, IoU=0.886]\n"
          ]
        },
        {
          "output_type": "stream",
          "name": "stdout",
          "text": [
            "Epoch 4/5 - Validation Loss: 1.0730, Validation IoU: 0.3644\n"
          ]
        },
        {
          "output_type": "stream",
          "name": "stderr",
          "text": [
            "Epoch 5/5: 100%|██████████| 1518/1518 [02:05<00:00, 12.07it/s, loss=0.0817, IoU=0.888]\n"
          ]
        },
        {
          "output_type": "stream",
          "name": "stdout",
          "text": [
            "Epoch 5/5 - Validation Loss: 0.0712, Validation IoU: 0.8937\n",
            "\n",
            "Test Results for U-Net++ with SCSE with BCEWithLogitsLoss:\n",
            "Test Loss: 0.0720\n",
            "Test IoU: 0.8932\n",
            "\n",
            "Training U-Net++ with SCSE with resnet34 encoder and DiceLoss_plus_FocalLoss.\n"
          ]
        },
        {
          "output_type": "stream",
          "name": "stderr",
          "text": [
            "Epoch 1/5: 100%|██████████| 1518/1518 [02:06<00:00, 12.02it/s, loss=0.267, IoU=0.858]\n"
          ]
        },
        {
          "output_type": "stream",
          "name": "stdout",
          "text": [
            "Epoch 1/5 - Validation Loss: 0.2959, Validation IoU: 0.8579\n"
          ]
        },
        {
          "output_type": "stream",
          "name": "stderr",
          "text": [
            "Epoch 2/5: 100%|██████████| 1518/1518 [02:05<00:00, 12.06it/s, loss=0.215, IoU=0.877]\n"
          ]
        },
        {
          "output_type": "stream",
          "name": "stdout",
          "text": [
            "Epoch 2/5 - Validation Loss: 0.2217, Validation IoU: 0.8736\n"
          ]
        },
        {
          "output_type": "stream",
          "name": "stderr",
          "text": [
            "Epoch 3/5: 100%|██████████| 1518/1518 [02:05<00:00, 12.09it/s, loss=0.198, IoU=0.884]\n"
          ]
        },
        {
          "output_type": "stream",
          "name": "stdout",
          "text": [
            "Epoch 3/5 - Validation Loss: 0.2311, Validation IoU: 0.8716\n"
          ]
        },
        {
          "output_type": "stream",
          "name": "stderr",
          "text": [
            "Epoch 4/5: 100%|██████████| 1518/1518 [02:06<00:00, 12.04it/s, loss=0.184, IoU=0.889]\n"
          ]
        },
        {
          "output_type": "stream",
          "name": "stdout",
          "text": [
            "Epoch 4/5 - Validation Loss: 0.1676, Validation IoU: 0.8847\n"
          ]
        },
        {
          "output_type": "stream",
          "name": "stderr",
          "text": [
            "Epoch 5/5: 100%|██████████| 1518/1518 [02:05<00:00, 12.10it/s, loss=0.184, IoU=0.888]\n"
          ]
        },
        {
          "output_type": "stream",
          "name": "stdout",
          "text": [
            "Epoch 5/5 - Validation Loss: 0.1595, Validation IoU: 0.8920\n",
            "\n",
            "Test Results for U-Net++ with SCSE with DiceLoss_plus_FocalLoss:\n",
            "Test Loss: 0.1651\n",
            "Test IoU: 0.8912\n",
            "\n",
            "Training U-Net++ with SCSE with resnet34 encoder and DiceLoss_plus_BCEWithLogitsLoss.\n"
          ]
        },
        {
          "output_type": "stream",
          "name": "stderr",
          "text": [
            "Epoch 1/5: 100%|██████████| 1518/1518 [02:05<00:00, 12.11it/s, loss=0.302, IoU=0.862]\n"
          ]
        },
        {
          "output_type": "stream",
          "name": "stdout",
          "text": [
            "Epoch 1/5 - Validation Loss: 1.8294, Validation IoU: 0.4058\n"
          ]
        },
        {
          "output_type": "stream",
          "name": "stderr",
          "text": [
            "Epoch 2/5: 100%|██████████| 1518/1518 [02:06<00:00, 11.97it/s, loss=0.249, IoU=0.878]\n"
          ]
        },
        {
          "output_type": "stream",
          "name": "stdout",
          "text": [
            "Epoch 2/5 - Validation Loss: 0.2968, Validation IoU: 0.8742\n"
          ]
        },
        {
          "output_type": "stream",
          "name": "stderr",
          "text": [
            "Epoch 3/5: 100%|██████████| 1518/1518 [02:06<00:00, 12.01it/s, loss=0.228, IoU=0.886]\n"
          ]
        },
        {
          "output_type": "stream",
          "name": "stdout",
          "text": [
            "Epoch 3/5 - Validation Loss: 0.2624, Validation IoU: 0.8788\n"
          ]
        },
        {
          "output_type": "stream",
          "name": "stderr",
          "text": [
            "Epoch 4/5: 100%|██████████| 1518/1518 [02:06<00:00, 11.96it/s, loss=0.214, IoU=0.889]\n"
          ]
        },
        {
          "output_type": "stream",
          "name": "stdout",
          "text": [
            "Epoch 4/5 - Validation Loss: 0.2095, Validation IoU: 0.8920\n"
          ]
        },
        {
          "output_type": "stream",
          "name": "stderr",
          "text": [
            "Epoch 5/5: 100%|██████████| 1518/1518 [02:06<00:00, 11.98it/s, loss=0.202, IoU=0.893]\n"
          ]
        },
        {
          "output_type": "stream",
          "name": "stdout",
          "text": [
            "Epoch 5/5 - Validation Loss: 0.3003, Validation IoU: 0.8777\n",
            "\n",
            "Test Results for U-Net++ with SCSE with DiceLoss_plus_BCEWithLogitsLoss:\n",
            "Test Loss: 0.2086\n",
            "Test IoU: 0.8923\n",
            "\n",
            "Training PAN with resnet34 encoder and DiceLoss.\n"
          ]
        },
        {
          "output_type": "stream",
          "name": "stderr",
          "text": [
            "Epoch 1/5: 100%|██████████| 1518/1518 [01:13<00:00, 20.63it/s, loss=0.151, IoU=0.837]\n"
          ]
        },
        {
          "output_type": "stream",
          "name": "stdout",
          "text": [
            "Epoch 1/5 - Validation Loss: 0.1431, Validation IoU: 0.8447\n"
          ]
        },
        {
          "output_type": "stream",
          "name": "stderr",
          "text": [
            "Epoch 2/5: 100%|██████████| 1518/1518 [01:12<00:00, 20.92it/s, loss=0.11, IoU=0.874]\n"
          ]
        },
        {
          "output_type": "stream",
          "name": "stdout",
          "text": [
            "Epoch 2/5 - Validation Loss: 0.0958, Validation IoU: 0.8865\n"
          ]
        },
        {
          "output_type": "stream",
          "name": "stderr",
          "text": [
            "Epoch 3/5: 100%|██████████| 1518/1518 [01:12<00:00, 20.86it/s, loss=0.114, IoU=0.872]\n"
          ]
        },
        {
          "output_type": "stream",
          "name": "stdout",
          "text": [
            "Epoch 3/5 - Validation Loss: 0.1204, Validation IoU: 0.8657\n"
          ]
        },
        {
          "output_type": "stream",
          "name": "stderr",
          "text": [
            "Epoch 4/5: 100%|██████████| 1518/1518 [01:12<00:00, 21.03it/s, loss=0.102, IoU=0.882]\n"
          ]
        },
        {
          "output_type": "stream",
          "name": "stdout",
          "text": [
            "Epoch 4/5 - Validation Loss: 0.1443, Validation IoU: 0.8481\n"
          ]
        },
        {
          "output_type": "stream",
          "name": "stderr",
          "text": [
            "Epoch 5/5: 100%|██████████| 1518/1518 [01:12<00:00, 20.97it/s, loss=0.101, IoU=0.885]\n"
          ]
        },
        {
          "output_type": "stream",
          "name": "stdout",
          "text": [
            "Epoch 5/5 - Validation Loss: 0.6561, Validation IoU: 0.2974\n",
            "\n",
            "Test Results for PAN with DiceLoss:\n",
            "Test Loss: 0.1000\n",
            "Test IoU: 0.8855\n",
            "\n",
            "Training PAN with resnet34 encoder and TverskyLoss.\n"
          ]
        },
        {
          "output_type": "stream",
          "name": "stderr",
          "text": [
            "Epoch 1/5: 100%|██████████| 1518/1518 [01:12<00:00, 20.85it/s, loss=0.14, IoU=0.848]\n"
          ]
        },
        {
          "output_type": "stream",
          "name": "stdout",
          "text": [
            "Epoch 1/5 - Validation Loss: 0.1057, Validation IoU: 0.8771\n"
          ]
        },
        {
          "output_type": "stream",
          "name": "stderr",
          "text": [
            "Epoch 2/5: 100%|██████████| 1518/1518 [01:12<00:00, 20.90it/s, loss=0.116, IoU=0.87]\n"
          ]
        },
        {
          "output_type": "stream",
          "name": "stdout",
          "text": [
            "Epoch 2/5 - Validation Loss: 0.1104, Validation IoU: 0.8755\n"
          ]
        },
        {
          "output_type": "stream",
          "name": "stderr",
          "text": [
            "Epoch 3/5: 100%|██████████| 1518/1518 [01:13<00:00, 20.74it/s, loss=0.106, IoU=0.88]\n"
          ]
        },
        {
          "output_type": "stream",
          "name": "stdout",
          "text": [
            "Epoch 3/5 - Validation Loss: 0.0967, Validation IoU: 0.8867\n"
          ]
        },
        {
          "output_type": "stream",
          "name": "stderr",
          "text": [
            "Epoch 4/5: 100%|██████████| 1518/1518 [01:12<00:00, 20.85it/s, loss=0.101, IoU=0.885]\n"
          ]
        },
        {
          "output_type": "stream",
          "name": "stdout",
          "text": [
            "Epoch 4/5 - Validation Loss: 0.0928, Validation IoU: 0.8907\n"
          ]
        },
        {
          "output_type": "stream",
          "name": "stderr",
          "text": [
            "Epoch 5/5: 100%|██████████| 1518/1518 [01:12<00:00, 20.90it/s, loss=0.0947, IoU=0.89]\n"
          ]
        },
        {
          "output_type": "stream",
          "name": "stdout",
          "text": [
            "Epoch 5/5 - Validation Loss: 0.1170, Validation IoU: 0.8682\n",
            "\n",
            "Test Results for PAN with TverskyLoss:\n",
            "Test Loss: 0.0966\n",
            "Test IoU: 0.8897\n",
            "\n",
            "Training PAN with resnet34 encoder and FocalLoss.\n"
          ]
        },
        {
          "output_type": "stream",
          "name": "stderr",
          "text": [
            "Epoch 1/5: 100%|██████████| 1518/1518 [01:12<00:00, 21.07it/s, loss=0.049, IoU=0.812]\n"
          ]
        },
        {
          "output_type": "stream",
          "name": "stdout",
          "text": [
            "Epoch 1/5 - Validation Loss: 0.0474, Validation IoU: 0.8142\n"
          ]
        },
        {
          "output_type": "stream",
          "name": "stderr",
          "text": [
            "Epoch 2/5: 100%|██████████| 1518/1518 [01:11<00:00, 21.10it/s, loss=0.0326, IoU=0.845]\n"
          ]
        },
        {
          "output_type": "stream",
          "name": "stdout",
          "text": [
            "Epoch 2/5 - Validation Loss: 0.0904, Validation IoU: 0.7754\n"
          ]
        },
        {
          "output_type": "stream",
          "name": "stderr",
          "text": [
            "Epoch 3/5: 100%|██████████| 1518/1518 [01:12<00:00, 21.03it/s, loss=0.0296, IoU=0.852]\n"
          ]
        },
        {
          "output_type": "stream",
          "name": "stdout",
          "text": [
            "Epoch 3/5 - Validation Loss: 0.0237, Validation IoU: 0.8716\n"
          ]
        },
        {
          "output_type": "stream",
          "name": "stderr",
          "text": [
            "Epoch 4/5: 100%|██████████| 1518/1518 [01:12<00:00, 21.02it/s, loss=0.0262, IoU=0.859]\n"
          ]
        },
        {
          "output_type": "stream",
          "name": "stdout",
          "text": [
            "Epoch 4/5 - Validation Loss: 0.0289, Validation IoU: 0.8603\n"
          ]
        },
        {
          "output_type": "stream",
          "name": "stderr",
          "text": [
            "Epoch 5/5: 100%|██████████| 1518/1518 [01:12<00:00, 21.04it/s, loss=0.025, IoU=0.861]\n"
          ]
        },
        {
          "output_type": "stream",
          "name": "stdout",
          "text": [
            "Epoch 5/5 - Validation Loss: 0.0247, Validation IoU: 0.8508\n",
            "\n",
            "Test Results for PAN with FocalLoss:\n",
            "Test Loss: 0.0238\n",
            "Test IoU: 0.8710\n",
            "\n",
            "Training PAN with resnet34 encoder and BCEWithLogitsLoss.\n"
          ]
        },
        {
          "output_type": "stream",
          "name": "stderr",
          "text": [
            "Epoch 1/5: 100%|██████████| 1518/1518 [01:11<00:00, 21.22it/s, loss=0.136, IoU=0.847]\n"
          ]
        },
        {
          "output_type": "stream",
          "name": "stdout",
          "text": [
            "Epoch 1/5 - Validation Loss: 0.1287, Validation IoU: 0.8397\n"
          ]
        },
        {
          "output_type": "stream",
          "name": "stderr",
          "text": [
            "Epoch 2/5: 100%|██████████| 1518/1518 [01:11<00:00, 21.24it/s, loss=0.104, IoU=0.872]\n"
          ]
        },
        {
          "output_type": "stream",
          "name": "stdout",
          "text": [
            "Epoch 2/5 - Validation Loss: 0.0873, Validation IoU: 0.8762\n"
          ]
        },
        {
          "output_type": "stream",
          "name": "stderr",
          "text": [
            "Epoch 3/5: 100%|██████████| 1518/1518 [01:11<00:00, 21.19it/s, loss=0.0894, IoU=0.88]\n"
          ]
        },
        {
          "output_type": "stream",
          "name": "stdout",
          "text": [
            "Epoch 3/5 - Validation Loss: 0.1215, Validation IoU: 0.8458\n"
          ]
        },
        {
          "output_type": "stream",
          "name": "stderr",
          "text": [
            "Epoch 4/5: 100%|██████████| 1518/1518 [01:11<00:00, 21.16it/s, loss=0.0874, IoU=0.883]\n"
          ]
        },
        {
          "output_type": "stream",
          "name": "stdout",
          "text": [
            "Epoch 4/5 - Validation Loss: 0.1304, Validation IoU: 0.8834\n"
          ]
        },
        {
          "output_type": "stream",
          "name": "stderr",
          "text": [
            "Epoch 5/5: 100%|██████████| 1518/1518 [01:12<00:00, 20.92it/s, loss=0.0887, IoU=0.882]\n"
          ]
        },
        {
          "output_type": "stream",
          "name": "stdout",
          "text": [
            "Epoch 5/5 - Validation Loss: 0.0842, Validation IoU: 0.8914\n",
            "\n",
            "Test Results for PAN with BCEWithLogitsLoss:\n",
            "Test Loss: 0.0849\n",
            "Test IoU: 0.8905\n",
            "\n",
            "Training PAN with resnet34 encoder and DiceLoss_plus_FocalLoss.\n"
          ]
        },
        {
          "output_type": "stream",
          "name": "stderr",
          "text": [
            "Epoch 1/5: 100%|██████████| 1518/1518 [01:13<00:00, 20.70it/s, loss=0.283, IoU=0.852]\n"
          ]
        },
        {
          "output_type": "stream",
          "name": "stdout",
          "text": [
            "Epoch 1/5 - Validation Loss: 1.7633, Validation IoU: 0.3220\n"
          ]
        },
        {
          "output_type": "stream",
          "name": "stderr",
          "text": [
            "Epoch 2/5: 100%|██████████| 1518/1518 [01:13<00:00, 20.70it/s, loss=0.222, IoU=0.874]\n"
          ]
        },
        {
          "output_type": "stream",
          "name": "stdout",
          "text": [
            "Epoch 2/5 - Validation Loss: 0.2842, Validation IoU: 0.8521\n"
          ]
        },
        {
          "output_type": "stream",
          "name": "stderr",
          "text": [
            "Epoch 3/5: 100%|██████████| 1518/1518 [01:15<00:00, 20.10it/s, loss=0.194, IoU=0.883]\n"
          ]
        },
        {
          "output_type": "stream",
          "name": "stdout",
          "text": [
            "Epoch 3/5 - Validation Loss: 0.2323, Validation IoU: 0.8510\n"
          ]
        },
        {
          "output_type": "stream",
          "name": "stderr",
          "text": [
            "Epoch 4/5: 100%|██████████| 1518/1518 [01:13<00:00, 20.69it/s, loss=0.181, IoU=0.888]\n"
          ]
        },
        {
          "output_type": "stream",
          "name": "stdout",
          "text": [
            "Epoch 4/5 - Validation Loss: 0.3130, Validation IoU: 0.8457\n"
          ]
        },
        {
          "output_type": "stream",
          "name": "stderr",
          "text": [
            "Epoch 5/5: 100%|██████████| 1518/1518 [01:13<00:00, 20.79it/s, loss=0.173, IoU=0.893]\n"
          ]
        },
        {
          "output_type": "stream",
          "name": "stdout",
          "text": [
            "Epoch 5/5 - Validation Loss: 0.2591, Validation IoU: 0.8536\n",
            "\n",
            "Test Results for PAN with DiceLoss_plus_FocalLoss:\n",
            "Test Loss: 0.2595\n",
            "Test IoU: 0.8528\n",
            "\n",
            "Training PAN with resnet34 encoder and DiceLoss_plus_BCEWithLogitsLoss.\n"
          ]
        },
        {
          "output_type": "stream",
          "name": "stderr",
          "text": [
            "Epoch 1/5: 100%|██████████| 1518/1518 [01:12<00:00, 20.85it/s, loss=0.322, IoU=0.853]\n"
          ]
        },
        {
          "output_type": "stream",
          "name": "stdout",
          "text": [
            "Epoch 1/5 - Validation Loss: 0.4126, Validation IoU: 0.8326\n"
          ]
        },
        {
          "output_type": "stream",
          "name": "stderr",
          "text": [
            "Epoch 2/5: 100%|██████████| 1518/1518 [01:12<00:00, 20.88it/s, loss=0.268, IoU=0.872]\n"
          ]
        },
        {
          "output_type": "stream",
          "name": "stdout",
          "text": [
            "Epoch 2/5 - Validation Loss: 0.5035, Validation IoU: 0.8141\n"
          ]
        },
        {
          "output_type": "stream",
          "name": "stderr",
          "text": [
            "Epoch 3/5: 100%|██████████| 1518/1518 [01:12<00:00, 20.91it/s, loss=0.236, IoU=0.88]\n"
          ]
        },
        {
          "output_type": "stream",
          "name": "stdout",
          "text": [
            "Epoch 3/5 - Validation Loss: 2.1196, Validation IoU: 0.3578\n"
          ]
        },
        {
          "output_type": "stream",
          "name": "stderr",
          "text": [
            "Epoch 4/5: 100%|██████████| 1518/1518 [01:13<00:00, 20.76it/s, loss=0.215, IoU=0.887]\n"
          ]
        },
        {
          "output_type": "stream",
          "name": "stdout",
          "text": [
            "Epoch 4/5 - Validation Loss: 3.7062, Validation IoU: 0.3096\n"
          ]
        },
        {
          "output_type": "stream",
          "name": "stderr",
          "text": [
            "Epoch 5/5: 100%|██████████| 1518/1518 [01:12<00:00, 20.86it/s, loss=0.204, IoU=0.891]\n"
          ]
        },
        {
          "output_type": "stream",
          "name": "stdout",
          "text": [
            "Epoch 5/5 - Validation Loss: 0.2169, Validation IoU: 0.8890\n",
            "\n",
            "Test Results for PAN with DiceLoss_plus_BCEWithLogitsLoss:\n",
            "Test Loss: 0.2176\n",
            "Test IoU: 0.8894\n",
            "\n",
            "Training FPN with resnet34 encoder and DiceLoss.\n"
          ]
        },
        {
          "output_type": "stream",
          "name": "stderr",
          "text": [
            "Epoch 1/5: 100%|██████████| 1518/1518 [00:58<00:00, 26.12it/s, loss=0.143, IoU=0.846]\n"
          ]
        },
        {
          "output_type": "stream",
          "name": "stdout",
          "text": [
            "Epoch 1/5 - Validation Loss: 0.1054, Validation IoU: 0.8772\n"
          ]
        },
        {
          "output_type": "stream",
          "name": "stderr",
          "text": [
            "Epoch 2/5: 100%|██████████| 1518/1518 [00:58<00:00, 26.11it/s, loss=0.116, IoU=0.87]\n"
          ]
        },
        {
          "output_type": "stream",
          "name": "stdout",
          "text": [
            "Epoch 2/5 - Validation Loss: 0.1312, Validation IoU: 0.8633\n"
          ]
        },
        {
          "output_type": "stream",
          "name": "stderr",
          "text": [
            "Epoch 3/5: 100%|██████████| 1518/1518 [00:58<00:00, 25.90it/s, loss=0.106, IoU=0.881]\n"
          ]
        },
        {
          "output_type": "stream",
          "name": "stdout",
          "text": [
            "Epoch 3/5 - Validation Loss: 0.0947, Validation IoU: 0.8887\n"
          ]
        },
        {
          "output_type": "stream",
          "name": "stderr",
          "text": [
            "Epoch 4/5: 100%|██████████| 1518/1518 [00:58<00:00, 25.84it/s, loss=0.1, IoU=0.883]\n"
          ]
        },
        {
          "output_type": "stream",
          "name": "stdout",
          "text": [
            "Epoch 4/5 - Validation Loss: 0.6343, Validation IoU: 0.3444\n"
          ]
        },
        {
          "output_type": "stream",
          "name": "stderr",
          "text": [
            "Epoch 5/5: 100%|██████████| 1518/1518 [00:58<00:00, 26.09it/s, loss=0.0999, IoU=0.883]\n"
          ]
        },
        {
          "output_type": "stream",
          "name": "stdout",
          "text": [
            "Epoch 5/5 - Validation Loss: 0.0971, Validation IoU: 0.8863\n",
            "\n",
            "Test Results for FPN with DiceLoss:\n",
            "Test Loss: 0.0987\n",
            "Test IoU: 0.8887\n",
            "\n",
            "Training FPN with resnet34 encoder and TverskyLoss.\n"
          ]
        },
        {
          "output_type": "stream",
          "name": "stderr",
          "text": [
            "Epoch 1/5: 100%|██████████| 1518/1518 [00:58<00:00, 25.76it/s, loss=0.148, IoU=0.842]\n"
          ]
        },
        {
          "output_type": "stream",
          "name": "stdout",
          "text": [
            "Epoch 1/5 - Validation Loss: 0.1711, Validation IoU: 0.8292\n"
          ]
        },
        {
          "output_type": "stream",
          "name": "stderr",
          "text": [
            "Epoch 2/5: 100%|██████████| 1518/1518 [00:58<00:00, 25.79it/s, loss=0.115, IoU=0.872]\n"
          ]
        },
        {
          "output_type": "stream",
          "name": "stdout",
          "text": [
            "Epoch 2/5 - Validation Loss: 0.1001, Validation IoU: 0.8831\n"
          ]
        },
        {
          "output_type": "stream",
          "name": "stderr",
          "text": [
            "Epoch 3/5: 100%|██████████| 1518/1518 [00:58<00:00, 25.95it/s, loss=0.105, IoU=0.88]\n"
          ]
        },
        {
          "output_type": "stream",
          "name": "stdout",
          "text": [
            "Epoch 3/5 - Validation Loss: 0.1045, Validation IoU: 0.8793\n"
          ]
        },
        {
          "output_type": "stream",
          "name": "stderr",
          "text": [
            "Epoch 4/5: 100%|██████████| 1518/1518 [00:58<00:00, 25.87it/s, loss=0.1, IoU=0.885]\n"
          ]
        },
        {
          "output_type": "stream",
          "name": "stdout",
          "text": [
            "Epoch 4/5 - Validation Loss: 0.1455, Validation IoU: 0.8488\n"
          ]
        },
        {
          "output_type": "stream",
          "name": "stderr",
          "text": [
            "Epoch 5/5: 100%|██████████| 1518/1518 [00:58<00:00, 25.98it/s, loss=0.0971, IoU=0.887]\n"
          ]
        },
        {
          "output_type": "stream",
          "name": "stdout",
          "text": [
            "Epoch 5/5 - Validation Loss: 0.1162, Validation IoU: 0.8718\n",
            "\n",
            "Test Results for FPN with TverskyLoss:\n",
            "Test Loss: 0.1045\n",
            "Test IoU: 0.8831\n",
            "\n",
            "Training FPN with resnet34 encoder and FocalLoss.\n"
          ]
        },
        {
          "output_type": "stream",
          "name": "stderr",
          "text": [
            "Epoch 1/5: 100%|██████████| 1518/1518 [00:58<00:00, 26.11it/s, loss=0.0392, IoU=0.82]\n"
          ]
        },
        {
          "output_type": "stream",
          "name": "stdout",
          "text": [
            "Epoch 1/5 - Validation Loss: 0.2396, Validation IoU: 0.5289\n"
          ]
        },
        {
          "output_type": "stream",
          "name": "stderr",
          "text": [
            "Epoch 2/5: 100%|██████████| 1518/1518 [00:58<00:00, 26.08it/s, loss=0.0283, IoU=0.849]\n"
          ]
        },
        {
          "output_type": "stream",
          "name": "stdout",
          "text": [
            "Epoch 2/5 - Validation Loss: 0.0374, Validation IoU: 0.7930\n"
          ]
        },
        {
          "output_type": "stream",
          "name": "stderr",
          "text": [
            "Epoch 3/5: 100%|██████████| 1518/1518 [00:58<00:00, 26.14it/s, loss=0.025, IoU=0.856]\n"
          ]
        },
        {
          "output_type": "stream",
          "name": "stdout",
          "text": [
            "Epoch 3/5 - Validation Loss: 0.0217, Validation IoU: 0.8537\n"
          ]
        },
        {
          "output_type": "stream",
          "name": "stderr",
          "text": [
            "Epoch 4/5: 100%|██████████| 1518/1518 [00:57<00:00, 26.24it/s, loss=0.0243, IoU=0.858]\n"
          ]
        },
        {
          "output_type": "stream",
          "name": "stdout",
          "text": [
            "Epoch 4/5 - Validation Loss: 0.0489, Validation IoU: 0.8397\n"
          ]
        },
        {
          "output_type": "stream",
          "name": "stderr",
          "text": [
            "Epoch 5/5: 100%|██████████| 1518/1518 [00:57<00:00, 26.20it/s, loss=0.0228, IoU=0.862]\n"
          ]
        },
        {
          "output_type": "stream",
          "name": "stdout",
          "text": [
            "Epoch 5/5 - Validation Loss: 0.0198, Validation IoU: 0.8619\n",
            "\n",
            "Test Results for FPN with FocalLoss:\n",
            "Test Loss: 0.0204\n",
            "Test IoU: 0.8612\n",
            "\n",
            "Training FPN with resnet34 encoder and BCEWithLogitsLoss.\n"
          ]
        },
        {
          "output_type": "stream",
          "name": "stderr",
          "text": [
            "Epoch 1/5: 100%|██████████| 1518/1518 [00:57<00:00, 26.54it/s, loss=0.126, IoU=0.852]\n"
          ]
        },
        {
          "output_type": "stream",
          "name": "stdout",
          "text": [
            "Epoch 1/5 - Validation Loss: 0.1079, Validation IoU: 0.8700\n"
          ]
        },
        {
          "output_type": "stream",
          "name": "stderr",
          "text": [
            "Epoch 2/5: 100%|██████████| 1518/1518 [00:56<00:00, 26.63it/s, loss=0.104, IoU=0.869]\n"
          ]
        },
        {
          "output_type": "stream",
          "name": "stdout",
          "text": [
            "Epoch 2/5 - Validation Loss: 0.1176, Validation IoU: 0.8591\n"
          ]
        },
        {
          "output_type": "stream",
          "name": "stderr",
          "text": [
            "Epoch 3/5: 100%|██████████| 1518/1518 [00:56<00:00, 26.70it/s, loss=0.0874, IoU=0.88]\n"
          ]
        },
        {
          "output_type": "stream",
          "name": "stdout",
          "text": [
            "Epoch 3/5 - Validation Loss: 0.0779, Validation IoU: 0.8866\n"
          ]
        },
        {
          "output_type": "stream",
          "name": "stderr",
          "text": [
            "Epoch 4/5: 100%|██████████| 1518/1518 [00:56<00:00, 26.65it/s, loss=0.0832, IoU=0.884]\n"
          ]
        },
        {
          "output_type": "stream",
          "name": "stdout",
          "text": [
            "Epoch 4/5 - Validation Loss: 0.0756, Validation IoU: 0.8824\n"
          ]
        },
        {
          "output_type": "stream",
          "name": "stderr",
          "text": [
            "Epoch 5/5: 100%|██████████| 1518/1518 [00:56<00:00, 26.64it/s, loss=0.0818, IoU=0.886]\n"
          ]
        },
        {
          "output_type": "stream",
          "name": "stdout",
          "text": [
            "Epoch 5/5 - Validation Loss: 0.5475, Validation IoU: 0.5377\n",
            "\n",
            "Test Results for FPN with BCEWithLogitsLoss:\n",
            "Test Loss: 0.0794\n",
            "Test IoU: 0.8857\n",
            "\n",
            "Training FPN with resnet34 encoder and DiceLoss_plus_FocalLoss.\n"
          ]
        },
        {
          "output_type": "stream",
          "name": "stderr",
          "text": [
            "Epoch 1/5: 100%|██████████| 1518/1518 [00:58<00:00, 25.88it/s, loss=0.269, IoU=0.854]\n"
          ]
        },
        {
          "output_type": "stream",
          "name": "stdout",
          "text": [
            "Epoch 1/5 - Validation Loss: 0.2057, Validation IoU: 0.8810\n"
          ]
        },
        {
          "output_type": "stream",
          "name": "stderr",
          "text": [
            "Epoch 2/5: 100%|██████████| 1518/1518 [00:58<00:00, 25.79it/s, loss=0.207, IoU=0.875]\n"
          ]
        },
        {
          "output_type": "stream",
          "name": "stdout",
          "text": [
            "Epoch 2/5 - Validation Loss: 2.3560, Validation IoU: 0.2876\n"
          ]
        },
        {
          "output_type": "stream",
          "name": "stderr",
          "text": [
            "Epoch 3/5: 100%|██████████| 1518/1518 [00:59<00:00, 25.70it/s, loss=0.187, IoU=0.883]\n"
          ]
        },
        {
          "output_type": "stream",
          "name": "stdout",
          "text": [
            "Epoch 3/5 - Validation Loss: 0.2117, Validation IoU: 0.8717\n"
          ]
        },
        {
          "output_type": "stream",
          "name": "stderr",
          "text": [
            "Epoch 4/5: 100%|██████████| 1518/1518 [01:01<00:00, 24.75it/s, loss=0.176, IoU=0.889]\n"
          ]
        },
        {
          "output_type": "stream",
          "name": "stdout",
          "text": [
            "Epoch 4/5 - Validation Loss: 0.1566, Validation IoU: 0.8890\n"
          ]
        },
        {
          "output_type": "stream",
          "name": "stderr",
          "text": [
            "Epoch 5/5: 100%|██████████| 1518/1518 [01:01<00:00, 24.87it/s, loss=0.174, IoU=0.889]\n"
          ]
        },
        {
          "output_type": "stream",
          "name": "stdout",
          "text": [
            "Epoch 5/5 - Validation Loss: 0.1587, Validation IoU: 0.8929\n",
            "\n",
            "Test Results for FPN with DiceLoss_plus_FocalLoss:\n",
            "Test Loss: 0.1622\n",
            "Test IoU: 0.8924\n",
            "\n",
            "Training FPN with resnet34 encoder and DiceLoss_plus_BCEWithLogitsLoss.\n"
          ]
        },
        {
          "output_type": "stream",
          "name": "stderr",
          "text": [
            "Epoch 1/5: 100%|██████████| 1518/1518 [01:01<00:00, 24.78it/s, loss=0.3, IoU=0.857]\n"
          ]
        },
        {
          "output_type": "stream",
          "name": "stdout",
          "text": [
            "Epoch 1/5 - Validation Loss: 2.9528, Validation IoU: 0.3080\n"
          ]
        },
        {
          "output_type": "stream",
          "name": "stderr",
          "text": [
            "Epoch 2/5: 100%|██████████| 1518/1518 [01:01<00:00, 24.49it/s, loss=0.232, IoU=0.88]\n"
          ]
        },
        {
          "output_type": "stream",
          "name": "stdout",
          "text": [
            "Epoch 2/5 - Validation Loss: 0.8980, Validation IoU: 0.6076\n"
          ]
        },
        {
          "output_type": "stream",
          "name": "stderr",
          "text": [
            "Epoch 3/5: 100%|██████████| 1518/1518 [01:01<00:00, 24.71it/s, loss=0.21, IoU=0.887]\n"
          ]
        },
        {
          "output_type": "stream",
          "name": "stdout",
          "text": [
            "Epoch 3/5 - Validation Loss: 0.3178, Validation IoU: 0.8571\n"
          ]
        },
        {
          "output_type": "stream",
          "name": "stderr",
          "text": [
            "Epoch 4/5: 100%|██████████| 1518/1518 [01:01<00:00, 24.69it/s, loss=0.201, IoU=0.891]\n"
          ]
        },
        {
          "output_type": "stream",
          "name": "stdout",
          "text": [
            "Epoch 4/5 - Validation Loss: 0.1936, Validation IoU: 0.8925\n"
          ]
        },
        {
          "output_type": "stream",
          "name": "stderr",
          "text": [
            "Epoch 5/5: 100%|██████████| 1518/1518 [01:00<00:00, 25.24it/s, loss=0.202, IoU=0.89]\n"
          ]
        },
        {
          "output_type": "stream",
          "name": "stdout",
          "text": [
            "Epoch 5/5 - Validation Loss: 0.1812, Validation IoU: 0.8925\n",
            "\n",
            "Test Results for FPN with DiceLoss_plus_BCEWithLogitsLoss:\n",
            "Test Loss: 0.1859\n",
            "Test IoU: 0.8914\n",
            "\n",
            "Completed training with resnet34\n"
          ]
        }
      ],
      "source": [
        "encoder_name = 'resnet34'\n",
        "results = []\n",
        "print(f\"Training with {encoder_name} encoder\")\n",
        "# Iterate over models\n",
        "for model_info in model_classes:\n",
        "    model_class = model_info['class']\n",
        "    model_args = model_info['args']\n",
        "    model_name = model_info['name']\n",
        "    # Iterate over loss functions\n",
        "    for loss_func_info in loss_functions:\n",
        "        loss_func_name = loss_func_info['name']\n",
        "        loss_function = loss_func_info['function']\n",
        "        model_filename = f\"{model_name}_{encoder_name}_{loss_func_name}.pth\".replace(' ', '_').replace('+', 'plus')\n",
        "\n",
        "        # Skip if model file already exists\n",
        "        if os.path.exists(model_filename):\n",
        "            print(f\"Skipping {model_filename} - already exists\")\n",
        "            continue\n",
        "        # Define the model\n",
        "        model = model_class(\n",
        "            encoder_name=encoder_name,\n",
        "            encoder_weights=\"imagenet\",\n",
        "            in_channels=3,\n",
        "            classes=1,\n",
        "            **model_args\n",
        "        ).to(device)\n",
        "        # Reset model weights\n",
        "        model.apply(reset_weights)\n",
        "        # Define loss function and optimizer\n",
        "        criterion = loss_function\n",
        "        optimizer = optim.Adam(model.parameters(), lr=0.001)\n",
        "        # Train the model\n",
        "        print(f\"Training {model_name} with {encoder_name} encoder and {loss_func_name}.\")\n",
        "        train_model(\n",
        "            model, train_loader, val_loader, criterion, optimizer, device,\n",
        "            num_epochs=5, model_filename=model_filename\n",
        "        )\n",
        "        # Load the best model and evaluate on test set\n",
        "        model.load_state_dict(torch.load(model_filename))\n",
        "        test_loss, test_iou = evaluate(model, test_loader, criterion, device)\n",
        "\n",
        "        # Print test metrics\n",
        "        print(f\"\\nTest Results for {model_name} with {loss_func_name}:\")\n",
        "        print(f\"Test Loss: {test_loss:.4f}\")\n",
        "        print(f\"Test IoU: {test_iou:.4f}\\n\")\n",
        "\n",
        "        # Log results\n",
        "        results.append({\n",
        "            'Encoder': encoder_name,\n",
        "            'Model': model_name,\n",
        "            'Loss Function': loss_func_name,\n",
        "            'Epochs': 5,\n",
        "            'Test Loss': test_loss,    # Changed from Validation Loss\n",
        "            'Test IoU': test_iou,      # Changed from Validation IoU\n",
        "            'Model Filename': model_filename\n",
        "        })\n",
        "        # Save interim results\n",
        "        interim_df = pd.DataFrame(results)\n",
        "        interim_df.to_csv(f'results_{encoder_name}.csv', index=False)\n",
        "print(f\"Completed training with {encoder_name}\")"
      ]
    },
    {
      "cell_type": "markdown",
      "source": [
        "## Encoder 3: efficientnet-b4"
      ],
      "metadata": {
        "id": "_5ylXI4RWaHP"
      }
    },
    {
      "cell_type": "code",
      "source": [
        "encoder_name = 'efficientnet-b4'\n",
        "results = []\n",
        "print(f\"Training with {encoder_name} encoder\")\n",
        "# Iterate over models\n",
        "for model_info in model_classes:\n",
        "    model_class = model_info['class']\n",
        "    model_args = model_info['args']\n",
        "    model_name = model_info['name']\n",
        "    # Iterate over loss functions\n",
        "    for loss_func_info in loss_functions:\n",
        "        loss_func_name = loss_func_info['name']\n",
        "        loss_function = loss_func_info['function']\n",
        "        model_filename = f\"{model_name}_{encoder_name}_{loss_func_name}.pth\".replace(' ', '_').replace('+', 'plus')\n",
        "\n",
        "        # Skip if model file already exists\n",
        "        if os.path.exists(model_filename):\n",
        "            print(f\"Skipping {model_filename} - already exists\")\n",
        "            continue\n",
        "        # Define the model\n",
        "        model = model_class(\n",
        "            encoder_name=encoder_name,\n",
        "            encoder_weights=\"imagenet\",\n",
        "            in_channels=3,\n",
        "            classes=1,\n",
        "            **model_args\n",
        "        ).to(device)\n",
        "        # Reset model weights\n",
        "        model.apply(reset_weights)\n",
        "        # Define loss function and optimizer\n",
        "        criterion = loss_function\n",
        "        optimizer = optim.Adam(model.parameters(), lr=0.001)\n",
        "        # Train the model\n",
        "        print(f\"Training {model_name} with {encoder_name} encoder and {loss_func_name}.\")\n",
        "        train_model(\n",
        "            model, train_loader, val_loader, criterion, optimizer, device,\n",
        "            num_epochs=5, model_filename=model_filename\n",
        "        )\n",
        "        # Load the best model and evaluate on test set\n",
        "        model.load_state_dict(torch.load(model_filename))\n",
        "        test_loss, test_iou = evaluate(model, test_loader, criterion, device)\n",
        "\n",
        "        # Print test metrics\n",
        "        print(f\"\\nTest Results for {model_name} with {loss_func_name}:\")\n",
        "        print(f\"Test Loss: {test_loss:.4f}\")\n",
        "        print(f\"Test IoU: {test_iou:.4f}\\n\")\n",
        "\n",
        "        # Log results\n",
        "        results.append({\n",
        "            'Encoder': encoder_name,\n",
        "            'Model': model_name,\n",
        "            'Loss Function': loss_func_name,\n",
        "            'Epochs': 5,\n",
        "            'Test Loss': test_loss,    # Changed from Validation Loss\n",
        "            'Test IoU': test_iou,      # Changed from Validation IoU\n",
        "            'Model Filename': model_filename\n",
        "        })\n",
        "        # Save interim results\n",
        "        interim_df = pd.DataFrame(results)\n",
        "        interim_df.to_csv(f'results_{encoder_name}.csv', index=False)\n",
        "print(f\"Completed training with {encoder_name}\")"
      ],
      "metadata": {
        "colab": {
          "base_uri": "https://localhost:8080/"
        },
        "id": "lR64kjGpc9Fs",
        "outputId": "f36fe894-b63d-4f41-ce32-ee526b010544"
      },
      "execution_count": null,
      "outputs": [
        {
          "output_type": "stream",
          "name": "stdout",
          "text": [
            "Training with efficientnet-b4 encoder\n",
            "Training U-Net++ with efficientnet-b4 encoder and DiceLoss.\n"
          ]
        },
        {
          "output_type": "stream",
          "name": "stderr",
          "text": [
            "Epoch 1/5: 100%|██████████| 1518/1518 [02:53<00:00,  8.75it/s, loss=0.117, IoU=0.873]\n"
          ]
        },
        {
          "output_type": "stream",
          "name": "stdout",
          "text": [
            "Epoch 1/5 - Validation Loss: 0.0969, Validation IoU: 0.8866\n"
          ]
        },
        {
          "output_type": "stream",
          "name": "stderr",
          "text": [
            "Epoch 2/5: 100%|██████████| 1518/1518 [02:55<00:00,  8.63it/s, loss=0.0843, IoU=0.898]\n"
          ]
        },
        {
          "output_type": "stream",
          "name": "stdout",
          "text": [
            "Epoch 2/5 - Validation Loss: 0.0836, Validation IoU: 0.8987\n"
          ]
        },
        {
          "output_type": "stream",
          "name": "stderr",
          "text": [
            "Epoch 3/5: 100%|██████████| 1518/1518 [02:55<00:00,  8.66it/s, loss=0.0844, IoU=0.901]\n"
          ]
        },
        {
          "output_type": "stream",
          "name": "stdout",
          "text": [
            "Epoch 3/5 - Validation Loss: 0.0853, Validation IoU: 0.8987\n"
          ]
        },
        {
          "output_type": "stream",
          "name": "stderr",
          "text": [
            "Epoch 4/5: 100%|██████████| 1518/1518 [02:54<00:00,  8.69it/s, loss=0.0795, IoU=0.904]\n"
          ]
        },
        {
          "output_type": "stream",
          "name": "stdout",
          "text": [
            "Epoch 4/5 - Validation Loss: 0.0731, Validation IoU: 0.9073\n"
          ]
        },
        {
          "output_type": "stream",
          "name": "stderr",
          "text": [
            "Epoch 5/5: 100%|██████████| 1518/1518 [02:53<00:00,  8.75it/s, loss=0.0777, IoU=0.905]\n"
          ]
        },
        {
          "output_type": "stream",
          "name": "stdout",
          "text": [
            "Epoch 5/5 - Validation Loss: 0.0779, Validation IoU: 0.9033\n"
          ]
        },
        {
          "output_type": "stream",
          "name": "stderr",
          "text": [
            "<ipython-input-15-71fff5b37316>:39: FutureWarning: You are using `torch.load` with `weights_only=False` (the current default value), which uses the default pickle module implicitly. It is possible to construct malicious pickle data which will execute arbitrary code during unpickling (See https://github.com/pytorch/pytorch/blob/main/SECURITY.md#untrusted-models for more details). In a future release, the default value for `weights_only` will be flipped to `True`. This limits the functions that could be executed during unpickling. Arbitrary objects will no longer be allowed to be loaded via this mode unless they are explicitly allowlisted by the user via `torch.serialization.add_safe_globals`. We recommend you start setting `weights_only=True` for any use case where you don't have full control of the loaded file. Please open an issue on GitHub for any issues related to this experimental feature.\n",
            "  model.load_state_dict(torch.load(model_filename))\n"
          ]
        },
        {
          "output_type": "stream",
          "name": "stdout",
          "text": [
            "\n",
            "Test Results for U-Net++ with DiceLoss:\n",
            "Test Loss: 0.0770\n",
            "Test IoU: 0.9069\n",
            "\n",
            "Training U-Net++ with efficientnet-b4 encoder and TverskyLoss.\n"
          ]
        },
        {
          "output_type": "stream",
          "name": "stderr",
          "text": [
            "Epoch 1/5: 100%|██████████| 1518/1518 [02:54<00:00,  8.68it/s, loss=0.118, IoU=0.871]\n"
          ]
        },
        {
          "output_type": "stream",
          "name": "stdout",
          "text": [
            "Epoch 1/5 - Validation Loss: 0.1144, Validation IoU: 0.8741\n"
          ]
        },
        {
          "output_type": "stream",
          "name": "stderr",
          "text": [
            "Epoch 2/5: 100%|██████████| 1518/1518 [02:54<00:00,  8.70it/s, loss=0.0884, IoU=0.896]\n"
          ]
        },
        {
          "output_type": "stream",
          "name": "stdout",
          "text": [
            "Epoch 2/5 - Validation Loss: 0.6205, Validation IoU: 0.3917\n"
          ]
        },
        {
          "output_type": "stream",
          "name": "stderr",
          "text": [
            "Epoch 3/5: 100%|██████████| 1518/1518 [02:55<00:00,  8.67it/s, loss=0.0861, IoU=0.896]\n"
          ]
        },
        {
          "output_type": "stream",
          "name": "stdout",
          "text": [
            "Epoch 3/5 - Validation Loss: 0.0786, Validation IoU: 0.9031\n"
          ]
        },
        {
          "output_type": "stream",
          "name": "stderr",
          "text": [
            "Epoch 4/5: 100%|██████████| 1518/1518 [02:54<00:00,  8.69it/s, loss=0.0811, IoU=0.902]\n"
          ]
        },
        {
          "output_type": "stream",
          "name": "stdout",
          "text": [
            "Epoch 4/5 - Validation Loss: 0.1028, Validation IoU: 0.8839\n"
          ]
        },
        {
          "output_type": "stream",
          "name": "stderr",
          "text": [
            "Epoch 5/5: 100%|██████████| 1518/1518 [02:59<00:00,  8.45it/s, loss=0.0798, IoU=0.904]\n"
          ]
        },
        {
          "output_type": "stream",
          "name": "stdout",
          "text": [
            "Epoch 5/5 - Validation Loss: 0.0831, Validation IoU: 0.8993\n",
            "\n",
            "Test Results for U-Net++ with TverskyLoss:\n",
            "Test Loss: 0.0837\n",
            "Test IoU: 0.9017\n",
            "\n",
            "Training U-Net++ with efficientnet-b4 encoder and FocalLoss.\n"
          ]
        },
        {
          "output_type": "stream",
          "name": "stderr",
          "text": [
            "Epoch 1/5: 100%|██████████| 1518/1518 [03:01<00:00,  8.35it/s, loss=0.0277, IoU=0.848]\n"
          ]
        },
        {
          "output_type": "stream",
          "name": "stdout",
          "text": [
            "Epoch 1/5 - Validation Loss: 0.0248, Validation IoU: 0.8960\n"
          ]
        },
        {
          "output_type": "stream",
          "name": "stderr",
          "text": [
            "Epoch 2/5: 100%|██████████| 1518/1518 [02:54<00:00,  8.71it/s, loss=0.0214, IoU=0.87]\n"
          ]
        },
        {
          "output_type": "stream",
          "name": "stdout",
          "text": [
            "Epoch 2/5 - Validation Loss: 0.0251, Validation IoU: 0.8783\n"
          ]
        },
        {
          "output_type": "stream",
          "name": "stderr",
          "text": [
            "Epoch 3/5: 100%|██████████| 1518/1518 [02:55<00:00,  8.67it/s, loss=0.02, IoU=0.875]\n"
          ]
        },
        {
          "output_type": "stream",
          "name": "stdout",
          "text": [
            "Epoch 3/5 - Validation Loss: 0.0180, Validation IoU: 0.8729\n"
          ]
        },
        {
          "output_type": "stream",
          "name": "stderr",
          "text": [
            "Epoch 4/5: 100%|██████████| 1518/1518 [03:02<00:00,  8.30it/s, loss=0.0194, IoU=0.874]\n"
          ]
        },
        {
          "output_type": "stream",
          "name": "stdout",
          "text": [
            "Epoch 4/5 - Validation Loss: 0.0213, Validation IoU: 0.8496\n"
          ]
        },
        {
          "output_type": "stream",
          "name": "stderr",
          "text": [
            "Epoch 5/5: 100%|██████████| 1518/1518 [02:57<00:00,  8.56it/s, loss=0.0188, IoU=0.877]\n"
          ]
        },
        {
          "output_type": "stream",
          "name": "stdout",
          "text": [
            "Epoch 5/5 - Validation Loss: 0.0189, Validation IoU: 0.8804\n",
            "\n",
            "Test Results for U-Net++ with FocalLoss:\n",
            "Test Loss: 0.0255\n",
            "Test IoU: 0.8950\n",
            "\n",
            "Training U-Net++ with efficientnet-b4 encoder and BCEWithLogitsLoss.\n"
          ]
        },
        {
          "output_type": "stream",
          "name": "stderr",
          "text": [
            "Epoch 1/5: 100%|██████████| 1518/1518 [03:01<00:00,  8.39it/s, loss=0.0997, IoU=0.874]\n"
          ]
        },
        {
          "output_type": "stream",
          "name": "stdout",
          "text": [
            "Epoch 1/5 - Validation Loss: 0.0698, Validation IoU: 0.8951\n"
          ]
        },
        {
          "output_type": "stream",
          "name": "stderr",
          "text": [
            "Epoch 2/5: 100%|██████████| 1518/1518 [03:06<00:00,  8.16it/s, loss=0.0757, IoU=0.893]\n"
          ]
        },
        {
          "output_type": "stream",
          "name": "stdout",
          "text": [
            "Epoch 2/5 - Validation Loss: 0.0686, Validation IoU: 0.9074\n"
          ]
        },
        {
          "output_type": "stream",
          "name": "stderr",
          "text": [
            "Epoch 3/5: 100%|██████████| 1518/1518 [03:05<00:00,  8.16it/s, loss=0.0708, IoU=0.898]\n"
          ]
        },
        {
          "output_type": "stream",
          "name": "stdout",
          "text": [
            "Epoch 3/5 - Validation Loss: 0.0701, Validation IoU: 0.8811\n"
          ]
        },
        {
          "output_type": "stream",
          "name": "stderr",
          "text": [
            "Epoch 4/5: 100%|██████████| 1518/1518 [03:04<00:00,  8.24it/s, loss=0.0686, IoU=0.9]\n"
          ]
        },
        {
          "output_type": "stream",
          "name": "stdout",
          "text": [
            "Epoch 4/5 - Validation Loss: 0.7456, Validation IoU: 0.3295\n"
          ]
        },
        {
          "output_type": "stream",
          "name": "stderr",
          "text": [
            "Epoch 5/5: 100%|██████████| 1518/1518 [03:04<00:00,  8.25it/s, loss=0.0664, IoU=0.902]\n"
          ]
        },
        {
          "output_type": "stream",
          "name": "stdout",
          "text": [
            "Epoch 5/5 - Validation Loss: 0.0600, Validation IoU: 0.9013\n",
            "\n",
            "Test Results for U-Net++ with BCEWithLogitsLoss:\n",
            "Test Loss: 0.0706\n",
            "Test IoU: 0.9063\n",
            "\n",
            "Training U-Net++ with efficientnet-b4 encoder and DiceLoss_plus_FocalLoss.\n"
          ]
        },
        {
          "output_type": "stream",
          "name": "stderr",
          "text": [
            "Epoch 1/5: 100%|██████████| 1518/1518 [03:06<00:00,  8.15it/s, loss=0.211, IoU=0.877]\n"
          ]
        },
        {
          "output_type": "stream",
          "name": "stdout",
          "text": [
            "Epoch 1/5 - Validation Loss: 0.1655, Validation IoU: 0.8885\n"
          ]
        },
        {
          "output_type": "stream",
          "name": "stderr",
          "text": [
            "Epoch 2/5: 100%|██████████| 1518/1518 [03:05<00:00,  8.18it/s, loss=0.159, IoU=0.898]\n"
          ]
        },
        {
          "output_type": "stream",
          "name": "stdout",
          "text": [
            "Epoch 2/5 - Validation Loss: 0.3333, Validation IoU: 0.8581\n"
          ]
        },
        {
          "output_type": "stream",
          "name": "stderr",
          "text": [
            "Epoch 3/5: 100%|██████████| 1518/1518 [03:05<00:00,  8.17it/s, loss=0.147, IoU=0.903]\n"
          ]
        },
        {
          "output_type": "stream",
          "name": "stdout",
          "text": [
            "Epoch 3/5 - Validation Loss: 0.1378, Validation IoU: 0.9065\n"
          ]
        },
        {
          "output_type": "stream",
          "name": "stderr",
          "text": [
            "Epoch 4/5: 100%|██████████| 1518/1518 [02:55<00:00,  8.63it/s, loss=0.143, IoU=0.906]\n"
          ]
        },
        {
          "output_type": "stream",
          "name": "stdout",
          "text": [
            "Epoch 4/5 - Validation Loss: 0.1357, Validation IoU: 0.9041\n"
          ]
        },
        {
          "output_type": "stream",
          "name": "stderr",
          "text": [
            "Epoch 5/5: 100%|██████████| 1518/1518 [02:56<00:00,  8.62it/s, loss=0.144, IoU=0.905]\n"
          ]
        },
        {
          "output_type": "stream",
          "name": "stdout",
          "text": [
            "Epoch 5/5 - Validation Loss: 0.1342, Validation IoU: 0.9038\n",
            "\n",
            "Test Results for U-Net++ with DiceLoss_plus_FocalLoss:\n",
            "Test Loss: 0.1421\n",
            "Test IoU: 0.9062\n",
            "\n",
            "Training U-Net++ with efficientnet-b4 encoder and DiceLoss_plus_BCEWithLogitsLoss.\n"
          ]
        },
        {
          "output_type": "stream",
          "name": "stderr",
          "text": [
            "Epoch 1/5: 100%|██████████| 1518/1518 [02:54<00:00,  8.71it/s, loss=0.238, IoU=0.881]\n"
          ]
        },
        {
          "output_type": "stream",
          "name": "stdout",
          "text": [
            "Epoch 1/5 - Validation Loss: 0.2123, Validation IoU: 0.8865\n"
          ]
        },
        {
          "output_type": "stream",
          "name": "stderr",
          "text": [
            "Epoch 2/5: 100%|██████████| 1518/1518 [02:54<00:00,  8.68it/s, loss=0.184, IoU=0.9]\n"
          ]
        },
        {
          "output_type": "stream",
          "name": "stdout",
          "text": [
            "Epoch 2/5 - Validation Loss: 0.1925, Validation IoU: 0.8934\n"
          ]
        },
        {
          "output_type": "stream",
          "name": "stderr",
          "text": [
            "Epoch 3/5: 100%|██████████| 1518/1518 [02:54<00:00,  8.72it/s, loss=0.172, IoU=0.904]\n"
          ]
        },
        {
          "output_type": "stream",
          "name": "stdout",
          "text": [
            "Epoch 3/5 - Validation Loss: 0.2106, Validation IoU: 0.8894\n"
          ]
        },
        {
          "output_type": "stream",
          "name": "stderr",
          "text": [
            "Epoch 4/5: 100%|██████████| 1518/1518 [02:54<00:00,  8.71it/s, loss=0.168, IoU=0.905]\n"
          ]
        },
        {
          "output_type": "stream",
          "name": "stdout",
          "text": [
            "Epoch 4/5 - Validation Loss: 0.1553, Validation IoU: 0.9057\n"
          ]
        },
        {
          "output_type": "stream",
          "name": "stderr",
          "text": [
            "Epoch 5/5: 100%|██████████| 1518/1518 [02:55<00:00,  8.64it/s, loss=0.162, IoU=0.908]\n"
          ]
        },
        {
          "output_type": "stream",
          "name": "stdout",
          "text": [
            "Epoch 5/5 - Validation Loss: 0.1453, Validation IoU: 0.9128\n",
            "\n",
            "Test Results for U-Net++ with DiceLoss_plus_BCEWithLogitsLoss:\n",
            "Test Loss: 0.1514\n",
            "Test IoU: 0.9118\n",
            "\n",
            "Training U-Net++ with SCSE with efficientnet-b4 encoder and DiceLoss.\n"
          ]
        },
        {
          "output_type": "stream",
          "name": "stderr",
          "text": [
            "Epoch 1/5: 100%|██████████| 1518/1518 [03:30<00:00,  7.23it/s, loss=0.124, IoU=0.87]\n"
          ]
        },
        {
          "output_type": "stream",
          "name": "stdout",
          "text": [
            "Epoch 1/5 - Validation Loss: 0.1212, Validation IoU: 0.8690\n"
          ]
        },
        {
          "output_type": "stream",
          "name": "stderr",
          "text": [
            "Epoch 2/5: 100%|██████████| 1518/1518 [03:30<00:00,  7.20it/s, loss=0.0906, IoU=0.893]\n"
          ]
        },
        {
          "output_type": "stream",
          "name": "stdout",
          "text": [
            "Epoch 2/5 - Validation Loss: 0.1170, Validation IoU: 0.8726\n"
          ]
        },
        {
          "output_type": "stream",
          "name": "stderr",
          "text": [
            "Epoch 3/5: 100%|██████████| 1518/1518 [03:30<00:00,  7.20it/s, loss=0.0829, IoU=0.9]\n"
          ]
        },
        {
          "output_type": "stream",
          "name": "stdout",
          "text": [
            "Epoch 3/5 - Validation Loss: 0.1965, Validation IoU: 0.7686\n"
          ]
        },
        {
          "output_type": "stream",
          "name": "stderr",
          "text": [
            "Epoch 4/5: 100%|██████████| 1518/1518 [03:30<00:00,  7.20it/s, loss=0.0827, IoU=0.902]\n"
          ]
        },
        {
          "output_type": "stream",
          "name": "stdout",
          "text": [
            "Epoch 4/5 - Validation Loss: 0.1111, Validation IoU: 0.8775\n"
          ]
        },
        {
          "output_type": "stream",
          "name": "stderr",
          "text": [
            "Epoch 5/5: 100%|██████████| 1518/1518 [03:30<00:00,  7.23it/s, loss=0.0795, IoU=0.904]\n"
          ]
        },
        {
          "output_type": "stream",
          "name": "stdout",
          "text": [
            "Epoch 5/5 - Validation Loss: 0.0723, Validation IoU: 0.9089\n",
            "\n",
            "Test Results for U-Net++ with SCSE with DiceLoss:\n",
            "Test Loss: 0.0766\n",
            "Test IoU: 0.9079\n",
            "\n",
            "Training U-Net++ with SCSE with efficientnet-b4 encoder and TverskyLoss.\n"
          ]
        },
        {
          "output_type": "stream",
          "name": "stderr",
          "text": [
            "Epoch 1/5: 100%|██████████| 1518/1518 [03:30<00:00,  7.20it/s, loss=0.119, IoU=0.872]\n"
          ]
        },
        {
          "output_type": "stream",
          "name": "stdout",
          "text": [
            "Epoch 1/5 - Validation Loss: 0.1463, Validation IoU: 0.8499\n"
          ]
        },
        {
          "output_type": "stream",
          "name": "stderr",
          "text": [
            "Epoch 2/5: 100%|██████████| 1518/1518 [03:30<00:00,  7.22it/s, loss=0.0894, IoU=0.895]\n"
          ]
        },
        {
          "output_type": "stream",
          "name": "stdout",
          "text": [
            "Epoch 2/5 - Validation Loss: 0.0907, Validation IoU: 0.8911\n"
          ]
        },
        {
          "output_type": "stream",
          "name": "stderr",
          "text": [
            "Epoch 3/5: 100%|██████████| 1518/1518 [03:34<00:00,  7.09it/s, loss=0.0833, IoU=0.9]\n"
          ]
        },
        {
          "output_type": "stream",
          "name": "stdout",
          "text": [
            "Epoch 3/5 - Validation Loss: 0.0987, Validation IoU: 0.8876\n"
          ]
        },
        {
          "output_type": "stream",
          "name": "stderr",
          "text": [
            "Epoch 4/5: 100%|██████████| 1518/1518 [03:36<00:00,  7.00it/s, loss=0.0833, IoU=0.9]\n"
          ]
        },
        {
          "output_type": "stream",
          "name": "stdout",
          "text": [
            "Epoch 4/5 - Validation Loss: 0.3016, Validation IoU: 0.7433\n"
          ]
        },
        {
          "output_type": "stream",
          "name": "stderr",
          "text": [
            "Epoch 5/5: 100%|██████████| 1518/1518 [03:33<00:00,  7.12it/s, loss=0.081, IoU=0.903]\n"
          ]
        },
        {
          "output_type": "stream",
          "name": "stdout",
          "text": [
            "Epoch 5/5 - Validation Loss: 0.0742, Validation IoU: 0.9068\n",
            "\n",
            "Test Results for U-Net++ with SCSE with TverskyLoss:\n",
            "Test Loss: 0.0786\n",
            "Test IoU: 0.9055\n",
            "\n",
            "Training U-Net++ with SCSE with efficientnet-b4 encoder and FocalLoss.\n"
          ]
        },
        {
          "output_type": "stream",
          "name": "stderr",
          "text": [
            "Epoch 1/5: 100%|██████████| 1518/1518 [03:32<00:00,  7.15it/s, loss=0.0267, IoU=0.855]\n"
          ]
        },
        {
          "output_type": "stream",
          "name": "stdout",
          "text": [
            "Epoch 1/5 - Validation Loss: 0.0304, Validation IoU: 0.8240\n"
          ]
        },
        {
          "output_type": "stream",
          "name": "stderr",
          "text": [
            "Epoch 2/5: 100%|██████████| 1518/1518 [03:30<00:00,  7.22it/s, loss=0.0208, IoU=0.871]\n"
          ]
        },
        {
          "output_type": "stream",
          "name": "stdout",
          "text": [
            "Epoch 2/5 - Validation Loss: 0.0253, Validation IoU: 0.8532\n"
          ]
        },
        {
          "output_type": "stream",
          "name": "stderr",
          "text": [
            "Epoch 3/5: 100%|██████████| 1518/1518 [03:30<00:00,  7.21it/s, loss=0.0195, IoU=0.874]\n"
          ]
        },
        {
          "output_type": "stream",
          "name": "stdout",
          "text": [
            "Epoch 3/5 - Validation Loss: 0.0476, Validation IoU: 0.7664\n"
          ]
        },
        {
          "output_type": "stream",
          "name": "stderr",
          "text": [
            "Epoch 4/5: 100%|██████████| 1518/1518 [03:31<00:00,  7.18it/s, loss=0.0188, IoU=0.875]\n"
          ]
        },
        {
          "output_type": "stream",
          "name": "stdout",
          "text": [
            "Epoch 4/5 - Validation Loss: 0.0192, Validation IoU: 0.8962\n"
          ]
        },
        {
          "output_type": "stream",
          "name": "stderr",
          "text": [
            "Epoch 5/5: 100%|██████████| 1518/1518 [03:35<00:00,  7.05it/s, loss=0.0184, IoU=0.876]\n"
          ]
        },
        {
          "output_type": "stream",
          "name": "stdout",
          "text": [
            "Epoch 5/5 - Validation Loss: 0.0176, Validation IoU: 0.8742\n",
            "\n",
            "Test Results for U-Net++ with SCSE with FocalLoss:\n",
            "Test Loss: 0.0197\n",
            "Test IoU: 0.8949\n",
            "\n",
            "Training U-Net++ with SCSE with efficientnet-b4 encoder and BCEWithLogitsLoss.\n"
          ]
        },
        {
          "output_type": "stream",
          "name": "stderr",
          "text": [
            "Epoch 1/5: 100%|██████████| 1518/1518 [03:31<00:00,  7.19it/s, loss=0.0987, IoU=0.876]\n"
          ]
        },
        {
          "output_type": "stream",
          "name": "stdout",
          "text": [
            "Epoch 1/5 - Validation Loss: 0.1585, Validation IoU: 0.8537\n"
          ]
        },
        {
          "output_type": "stream",
          "name": "stderr",
          "text": [
            "Epoch 2/5: 100%|██████████| 1518/1518 [03:31<00:00,  7.17it/s, loss=0.0757, IoU=0.893]\n"
          ]
        },
        {
          "output_type": "stream",
          "name": "stdout",
          "text": [
            "Epoch 2/5 - Validation Loss: 0.0736, Validation IoU: 0.8865\n"
          ]
        },
        {
          "output_type": "stream",
          "name": "stderr",
          "text": [
            "Epoch 3/5: 100%|██████████| 1518/1518 [03:30<00:00,  7.22it/s, loss=0.0706, IoU=0.898]\n"
          ]
        },
        {
          "output_type": "stream",
          "name": "stdout",
          "text": [
            "Epoch 3/5 - Validation Loss: 0.0671, Validation IoU: 0.8867\n"
          ]
        },
        {
          "output_type": "stream",
          "name": "stderr",
          "text": [
            "Epoch 4/5: 100%|██████████| 1518/1518 [03:30<00:00,  7.23it/s, loss=0.0677, IoU=0.9]\n"
          ]
        },
        {
          "output_type": "stream",
          "name": "stdout",
          "text": [
            "Epoch 4/5 - Validation Loss: 0.0674, Validation IoU: 0.8995\n"
          ]
        },
        {
          "output_type": "stream",
          "name": "stderr",
          "text": [
            "Epoch 5/5: 100%|██████████| 1518/1518 [03:29<00:00,  7.24it/s, loss=0.0654, IoU=0.902]\n"
          ]
        },
        {
          "output_type": "stream",
          "name": "stdout",
          "text": [
            "Epoch 5/5 - Validation Loss: 0.0610, Validation IoU: 0.9102\n",
            "\n",
            "Test Results for U-Net++ with SCSE with BCEWithLogitsLoss:\n",
            "Test Loss: 0.0627\n",
            "Test IoU: 0.9089\n",
            "\n",
            "Training U-Net++ with SCSE with efficientnet-b4 encoder and DiceLoss_plus_FocalLoss.\n"
          ]
        },
        {
          "output_type": "stream",
          "name": "stderr",
          "text": [
            "Epoch 1/5: 100%|██████████| 1518/1518 [03:32<00:00,  7.16it/s, loss=0.21, IoU=0.877]\n"
          ]
        },
        {
          "output_type": "stream",
          "name": "stdout",
          "text": [
            "Epoch 1/5 - Validation Loss: 0.1746, Validation IoU: 0.8909\n"
          ]
        },
        {
          "output_type": "stream",
          "name": "stderr",
          "text": [
            "Epoch 2/5: 100%|██████████| 1518/1518 [03:31<00:00,  7.18it/s, loss=0.159, IoU=0.897]\n"
          ]
        },
        {
          "output_type": "stream",
          "name": "stdout",
          "text": [
            "Epoch 2/5 - Validation Loss: 0.1954, Validation IoU: 0.8721\n"
          ]
        },
        {
          "output_type": "stream",
          "name": "stderr",
          "text": [
            "Epoch 3/5: 100%|██████████| 1518/1518 [03:34<00:00,  7.08it/s, loss=0.15, IoU=0.901]\n"
          ]
        },
        {
          "output_type": "stream",
          "name": "stdout",
          "text": [
            "Epoch 3/5 - Validation Loss: 0.1770, Validation IoU: 0.8974\n"
          ]
        },
        {
          "output_type": "stream",
          "name": "stderr",
          "text": [
            "Epoch 4/5: 100%|██████████| 1518/1518 [03:32<00:00,  7.14it/s, loss=0.142, IoU=0.904]\n"
          ]
        },
        {
          "output_type": "stream",
          "name": "stdout",
          "text": [
            "Epoch 4/5 - Validation Loss: 0.1495, Validation IoU: 0.9010\n"
          ]
        },
        {
          "output_type": "stream",
          "name": "stderr",
          "text": [
            "Epoch 5/5: 100%|██████████| 1518/1518 [03:32<00:00,  7.15it/s, loss=0.142, IoU=0.904]\n"
          ]
        },
        {
          "output_type": "stream",
          "name": "stdout",
          "text": [
            "Epoch 5/5 - Validation Loss: 0.4338, Validation IoU: 0.8320\n",
            "\n",
            "Test Results for U-Net++ with SCSE with DiceLoss_plus_FocalLoss:\n",
            "Test Loss: 0.1528\n",
            "Test IoU: 0.9012\n",
            "\n",
            "Training U-Net++ with SCSE with efficientnet-b4 encoder and DiceLoss_plus_BCEWithLogitsLoss.\n"
          ]
        },
        {
          "output_type": "stream",
          "name": "stderr",
          "text": [
            "Epoch 1/5: 100%|██████████| 1518/1518 [03:30<00:00,  7.19it/s, loss=0.238, IoU=0.883]\n"
          ]
        },
        {
          "output_type": "stream",
          "name": "stdout",
          "text": [
            "Epoch 1/5 - Validation Loss: 0.2000, Validation IoU: 0.8910\n"
          ]
        },
        {
          "output_type": "stream",
          "name": "stderr",
          "text": [
            "Epoch 2/5: 100%|██████████| 1518/1518 [03:32<00:00,  7.14it/s, loss=0.184, IoU=0.899]\n"
          ]
        },
        {
          "output_type": "stream",
          "name": "stdout",
          "text": [
            "Epoch 2/5 - Validation Loss: 0.1713, Validation IoU: 0.9026\n"
          ]
        },
        {
          "output_type": "stream",
          "name": "stderr",
          "text": [
            "Epoch 3/5: 100%|██████████| 1518/1518 [03:32<00:00,  7.15it/s, loss=0.174, IoU=0.903]\n"
          ]
        },
        {
          "output_type": "stream",
          "name": "stdout",
          "text": [
            "Epoch 3/5 - Validation Loss: 0.1687, Validation IoU: 0.9023\n"
          ]
        },
        {
          "output_type": "stream",
          "name": "stderr",
          "text": [
            "Epoch 4/5: 100%|██████████| 1518/1518 [03:31<00:00,  7.17it/s, loss=0.165, IoU=0.906]\n"
          ]
        },
        {
          "output_type": "stream",
          "name": "stdout",
          "text": [
            "Epoch 4/5 - Validation Loss: 0.4386, Validation IoU: 0.8082\n"
          ]
        },
        {
          "output_type": "stream",
          "name": "stderr",
          "text": [
            "Epoch 5/5: 100%|██████████| 1518/1518 [03:32<00:00,  7.15it/s, loss=0.159, IoU=0.909]\n"
          ]
        },
        {
          "output_type": "stream",
          "name": "stdout",
          "text": [
            "Epoch 5/5 - Validation Loss: 0.2032, Validation IoU: 0.8900\n",
            "\n",
            "Test Results for U-Net++ with SCSE with DiceLoss_plus_BCEWithLogitsLoss:\n",
            "Test Loss: 0.1754\n",
            "Test IoU: 0.9020\n",
            "\n",
            "Training FPN with efficientnet-b4 encoder and DiceLoss.\n"
          ]
        },
        {
          "output_type": "stream",
          "name": "stderr",
          "text": [
            "Epoch 1/5: 100%|██████████| 1518/1518 [02:45<00:00,  9.18it/s, loss=0.119, IoU=0.866]\n"
          ]
        },
        {
          "output_type": "stream",
          "name": "stdout",
          "text": [
            "Epoch 1/5 - Validation Loss: 0.0892, Validation IoU: 0.8896\n"
          ]
        },
        {
          "output_type": "stream",
          "name": "stderr",
          "text": [
            "Epoch 2/5: 100%|██████████| 1518/1518 [02:44<00:00,  9.23it/s, loss=0.0935, IoU=0.89]\n"
          ]
        },
        {
          "output_type": "stream",
          "name": "stdout",
          "text": [
            "Epoch 2/5 - Validation Loss: 0.2051, Validation IoU: 0.7871\n"
          ]
        },
        {
          "output_type": "stream",
          "name": "stderr",
          "text": [
            "Epoch 3/5: 100%|██████████| 1518/1518 [02:44<00:00,  9.20it/s, loss=0.0953, IoU=0.889]\n"
          ]
        },
        {
          "output_type": "stream",
          "name": "stdout",
          "text": [
            "Epoch 3/5 - Validation Loss: 0.1023, Validation IoU: 0.8795\n"
          ]
        },
        {
          "output_type": "stream",
          "name": "stderr",
          "text": [
            "Epoch 4/5: 100%|██████████| 1518/1518 [02:44<00:00,  9.21it/s, loss=0.0856, IoU=0.897]\n"
          ]
        },
        {
          "output_type": "stream",
          "name": "stdout",
          "text": [
            "Epoch 4/5 - Validation Loss: 0.0772, Validation IoU: 0.9029\n"
          ]
        },
        {
          "output_type": "stream",
          "name": "stderr",
          "text": [
            "Epoch 5/5: 100%|██████████| 1518/1518 [02:44<00:00,  9.20it/s, loss=0.0839, IoU=0.899]\n"
          ]
        },
        {
          "output_type": "stream",
          "name": "stdout",
          "text": [
            "Epoch 5/5 - Validation Loss: 0.0778, Validation IoU: 0.9026\n",
            "\n",
            "Test Results for FPN with DiceLoss:\n",
            "Test Loss: 0.0811\n",
            "Test IoU: 0.9019\n",
            "\n",
            "Training FPN with efficientnet-b4 encoder and TverskyLoss.\n"
          ]
        },
        {
          "output_type": "stream",
          "name": "stderr",
          "text": [
            "Epoch 1/5: 100%|██████████| 1518/1518 [02:45<00:00,  9.18it/s, loss=0.118, IoU=0.868]\n"
          ]
        },
        {
          "output_type": "stream",
          "name": "stdout",
          "text": [
            "Epoch 1/5 - Validation Loss: 0.1561, Validation IoU: 0.8323\n"
          ]
        },
        {
          "output_type": "stream",
          "name": "stderr",
          "text": [
            "Epoch 2/5: 100%|██████████| 1518/1518 [02:44<00:00,  9.21it/s, loss=0.0923, IoU=0.891]\n"
          ]
        },
        {
          "output_type": "stream",
          "name": "stdout",
          "text": [
            "Epoch 2/5 - Validation Loss: 0.6277, Validation IoU: 0.3699\n"
          ]
        },
        {
          "output_type": "stream",
          "name": "stderr",
          "text": [
            "Epoch 3/5: 100%|██████████| 1518/1518 [02:45<00:00,  9.19it/s, loss=0.0873, IoU=0.895]\n"
          ]
        },
        {
          "output_type": "stream",
          "name": "stdout",
          "text": [
            "Epoch 3/5 - Validation Loss: 0.0840, Validation IoU: 0.8970\n"
          ]
        },
        {
          "output_type": "stream",
          "name": "stderr",
          "text": [
            "Epoch 4/5: 100%|██████████| 1518/1518 [02:45<00:00,  9.16it/s, loss=0.0848, IoU=0.898]\n"
          ]
        },
        {
          "output_type": "stream",
          "name": "stdout",
          "text": [
            "Epoch 4/5 - Validation Loss: 0.0811, Validation IoU: 0.9007\n"
          ]
        },
        {
          "output_type": "stream",
          "name": "stderr",
          "text": [
            "Epoch 5/5: 100%|██████████| 1518/1518 [02:45<00:00,  9.16it/s, loss=0.0811, IoU=0.902]\n"
          ]
        },
        {
          "output_type": "stream",
          "name": "stdout",
          "text": [
            "Epoch 5/5 - Validation Loss: 0.0751, Validation IoU: 0.9063\n",
            "\n",
            "Test Results for FPN with TverskyLoss:\n",
            "Test Loss: 0.0787\n",
            "Test IoU: 0.9050\n",
            "\n",
            "Training FPN with efficientnet-b4 encoder and FocalLoss.\n"
          ]
        },
        {
          "output_type": "stream",
          "name": "stderr",
          "text": [
            "Epoch 1/5: 100%|██████████| 1518/1518 [02:44<00:00,  9.23it/s, loss=0.0342, IoU=0.83]\n"
          ]
        },
        {
          "output_type": "stream",
          "name": "stdout",
          "text": [
            "Epoch 1/5 - Validation Loss: 0.0334, Validation IoU: 0.8506\n"
          ]
        },
        {
          "output_type": "stream",
          "name": "stderr",
          "text": [
            "Epoch 2/5: 100%|██████████| 1518/1518 [02:44<00:00,  9.24it/s, loss=0.0241, IoU=0.855]\n"
          ]
        },
        {
          "output_type": "stream",
          "name": "stdout",
          "text": [
            "Epoch 2/5 - Validation Loss: 0.0202, Validation IoU: 0.8732\n"
          ]
        },
        {
          "output_type": "stream",
          "name": "stderr",
          "text": [
            "Epoch 3/5: 100%|██████████| 1518/1518 [02:44<00:00,  9.20it/s, loss=0.0211, IoU=0.866]\n"
          ]
        },
        {
          "output_type": "stream",
          "name": "stdout",
          "text": [
            "Epoch 3/5 - Validation Loss: 0.0191, Validation IoU: 0.8631\n"
          ]
        },
        {
          "output_type": "stream",
          "name": "stderr",
          "text": [
            "Epoch 4/5: 100%|██████████| 1518/1518 [02:51<00:00,  8.85it/s, loss=0.0202, IoU=0.867]\n"
          ]
        },
        {
          "output_type": "stream",
          "name": "stdout",
          "text": [
            "Epoch 4/5 - Validation Loss: 0.0181, Validation IoU: 0.8797\n"
          ]
        },
        {
          "output_type": "stream",
          "name": "stderr",
          "text": [
            "Epoch 5/5: 100%|██████████| 1518/1518 [02:48<00:00,  8.99it/s, loss=0.0196, IoU=0.869]\n"
          ]
        },
        {
          "output_type": "stream",
          "name": "stdout",
          "text": [
            "Epoch 5/5 - Validation Loss: 0.0278, Validation IoU: 0.8049\n",
            "\n",
            "Test Results for FPN with FocalLoss:\n",
            "Test Loss: 0.0187\n",
            "Test IoU: 0.8787\n",
            "\n",
            "Training FPN with efficientnet-b4 encoder and BCEWithLogitsLoss.\n"
          ]
        },
        {
          "output_type": "stream",
          "name": "stderr",
          "text": [
            "Epoch 1/5: 100%|██████████| 1518/1518 [02:44<00:00,  9.22it/s, loss=0.102, IoU=0.865]\n"
          ]
        },
        {
          "output_type": "stream",
          "name": "stdout",
          "text": [
            "Epoch 1/5 - Validation Loss: 0.0802, Validation IoU: 0.8867\n"
          ]
        },
        {
          "output_type": "stream",
          "name": "stderr",
          "text": [
            "Epoch 2/5: 100%|██████████| 1518/1518 [02:44<00:00,  9.24it/s, loss=0.0809, IoU=0.885]\n"
          ]
        },
        {
          "output_type": "stream",
          "name": "stdout",
          "text": [
            "Epoch 2/5 - Validation Loss: 0.2606, Validation IoU: 0.7923\n"
          ]
        },
        {
          "output_type": "stream",
          "name": "stderr",
          "text": [
            "Epoch 3/5: 100%|██████████| 1518/1518 [02:45<00:00,  9.19it/s, loss=0.0765, IoU=0.889]\n"
          ]
        },
        {
          "output_type": "stream",
          "name": "stdout",
          "text": [
            "Epoch 3/5 - Validation Loss: 0.0664, Validation IoU: 0.8961\n"
          ]
        },
        {
          "output_type": "stream",
          "name": "stderr",
          "text": [
            "Epoch 4/5: 100%|██████████| 1518/1518 [02:44<00:00,  9.21it/s, loss=0.0714, IoU=0.894]\n"
          ]
        },
        {
          "output_type": "stream",
          "name": "stdout",
          "text": [
            "Epoch 4/5 - Validation Loss: 0.0714, Validation IoU: 0.8836\n"
          ]
        },
        {
          "output_type": "stream",
          "name": "stderr",
          "text": [
            "Epoch 5/5: 100%|██████████| 1518/1518 [02:44<00:00,  9.25it/s, loss=0.0703, IoU=0.895]\n"
          ]
        },
        {
          "output_type": "stream",
          "name": "stdout",
          "text": [
            "Epoch 5/5 - Validation Loss: 0.0674, Validation IoU: 0.8945\n",
            "\n",
            "Test Results for FPN with BCEWithLogitsLoss:\n",
            "Test Loss: 0.0670\n",
            "Test IoU: 0.8952\n",
            "\n",
            "Training FPN with efficientnet-b4 encoder and DiceLoss_plus_FocalLoss.\n"
          ]
        },
        {
          "output_type": "stream",
          "name": "stderr",
          "text": [
            "Epoch 1/5: 100%|██████████| 1518/1518 [02:46<00:00,  9.12it/s, loss=0.226, IoU=0.868]\n"
          ]
        },
        {
          "output_type": "stream",
          "name": "stdout",
          "text": [
            "Epoch 1/5 - Validation Loss: 0.1843, Validation IoU: 0.8769\n"
          ]
        },
        {
          "output_type": "stream",
          "name": "stderr",
          "text": [
            "Epoch 2/5: 100%|██████████| 1518/1518 [02:45<00:00,  9.16it/s, loss=0.167, IoU=0.891]\n"
          ]
        },
        {
          "output_type": "stream",
          "name": "stdout",
          "text": [
            "Epoch 2/5 - Validation Loss: 0.1992, Validation IoU: 0.8787\n"
          ]
        },
        {
          "output_type": "stream",
          "name": "stderr",
          "text": [
            "Epoch 3/5: 100%|██████████| 1518/1518 [02:46<00:00,  9.10it/s, loss=0.163, IoU=0.894]\n"
          ]
        },
        {
          "output_type": "stream",
          "name": "stdout",
          "text": [
            "Epoch 3/5 - Validation Loss: 0.1670, Validation IoU: 0.8833\n"
          ]
        },
        {
          "output_type": "stream",
          "name": "stderr",
          "text": [
            "Epoch 4/5: 100%|██████████| 1518/1518 [02:46<00:00,  9.11it/s, loss=0.153, IoU=0.898]\n"
          ]
        },
        {
          "output_type": "stream",
          "name": "stdout",
          "text": [
            "Epoch 4/5 - Validation Loss: 0.1758, Validation IoU: 0.8966\n"
          ]
        },
        {
          "output_type": "stream",
          "name": "stderr",
          "text": [
            "Epoch 5/5: 100%|██████████| 1518/1518 [02:47<00:00,  9.06it/s, loss=0.151, IoU=0.899]\n"
          ]
        },
        {
          "output_type": "stream",
          "name": "stdout",
          "text": [
            "Epoch 5/5 - Validation Loss: 0.2139, Validation IoU: 0.8786\n",
            "\n",
            "Test Results for FPN with DiceLoss_plus_FocalLoss:\n",
            "Test Loss: 0.1833\n",
            "Test IoU: 0.8952\n",
            "\n",
            "Training FPN with efficientnet-b4 encoder and DiceLoss_plus_BCEWithLogitsLoss.\n"
          ]
        },
        {
          "output_type": "stream",
          "name": "stderr",
          "text": [
            "Epoch 1/5: 100%|██████████| 1518/1518 [02:46<00:00,  9.10it/s, loss=0.251, IoU=0.871]\n"
          ]
        },
        {
          "output_type": "stream",
          "name": "stdout",
          "text": [
            "Epoch 1/5 - Validation Loss: 0.2195, Validation IoU: 0.8791\n"
          ]
        },
        {
          "output_type": "stream",
          "name": "stderr",
          "text": [
            "Epoch 2/5: 100%|██████████| 1518/1518 [02:46<00:00,  9.11it/s, loss=0.193, IoU=0.893]\n"
          ]
        },
        {
          "output_type": "stream",
          "name": "stdout",
          "text": [
            "Epoch 2/5 - Validation Loss: 0.9176, Validation IoU: 0.6793\n"
          ]
        },
        {
          "output_type": "stream",
          "name": "stderr",
          "text": [
            "Epoch 3/5: 100%|██████████| 1518/1518 [02:45<00:00,  9.15it/s, loss=0.179, IoU=0.898]\n"
          ]
        },
        {
          "output_type": "stream",
          "name": "stdout",
          "text": [
            "Epoch 3/5 - Validation Loss: 0.1603, Validation IoU: 0.9016\n"
          ]
        },
        {
          "output_type": "stream",
          "name": "stderr",
          "text": [
            "Epoch 4/5: 100%|██████████| 1518/1518 [02:46<00:00,  9.12it/s, loss=0.18, IoU=0.9]\n"
          ]
        },
        {
          "output_type": "stream",
          "name": "stdout",
          "text": [
            "Epoch 4/5 - Validation Loss: 0.1953, Validation IoU: 0.8963\n"
          ]
        },
        {
          "output_type": "stream",
          "name": "stderr",
          "text": [
            "Epoch 5/5: 100%|██████████| 1518/1518 [02:46<00:00,  9.11it/s, loss=0.17, IoU=0.903]\n"
          ]
        },
        {
          "output_type": "stream",
          "name": "stdout",
          "text": [
            "Epoch 5/5 - Validation Loss: 0.2461, Validation IoU: 0.8718\n",
            "\n",
            "Test Results for FPN with DiceLoss_plus_BCEWithLogitsLoss:\n",
            "Test Loss: 0.1674\n",
            "Test IoU: 0.9001\n",
            "\n",
            "Completed training with efficientnet-b4\n"
          ]
        }
      ]
    },
    {
      "cell_type": "markdown",
      "source": [
        "## Encoder 4: se_resnext50_32x4d"
      ],
      "metadata": {
        "id": "fvYA-0HQWdci"
      }
    },
    {
      "cell_type": "code",
      "source": [
        "from google.colab import files\n",
        "files.download('results_efficientnet-b4.csv')"
      ],
      "metadata": {
        "id": "JkXh03uMEcEP",
        "colab": {
          "base_uri": "https://localhost:8080/",
          "height": 17
        },
        "outputId": "7a3eacb5-0312-4501-b170-9a3ecd21d070"
      },
      "execution_count": null,
      "outputs": [
        {
          "output_type": "display_data",
          "data": {
            "text/plain": [
              "<IPython.core.display.Javascript object>"
            ],
            "application/javascript": [
              "\n",
              "    async function download(id, filename, size) {\n",
              "      if (!google.colab.kernel.accessAllowed) {\n",
              "        return;\n",
              "      }\n",
              "      const div = document.createElement('div');\n",
              "      const label = document.createElement('label');\n",
              "      label.textContent = `Downloading \"${filename}\": `;\n",
              "      div.appendChild(label);\n",
              "      const progress = document.createElement('progress');\n",
              "      progress.max = size;\n",
              "      div.appendChild(progress);\n",
              "      document.body.appendChild(div);\n",
              "\n",
              "      const buffers = [];\n",
              "      let downloaded = 0;\n",
              "\n",
              "      const channel = await google.colab.kernel.comms.open(id);\n",
              "      // Send a message to notify the kernel that we're ready.\n",
              "      channel.send({})\n",
              "\n",
              "      for await (const message of channel.messages) {\n",
              "        // Send a message to notify the kernel that we're ready.\n",
              "        channel.send({})\n",
              "        if (message.buffers) {\n",
              "          for (const buffer of message.buffers) {\n",
              "            buffers.push(buffer);\n",
              "            downloaded += buffer.byteLength;\n",
              "            progress.value = downloaded;\n",
              "          }\n",
              "        }\n",
              "      }\n",
              "      const blob = new Blob(buffers, {type: 'application/binary'});\n",
              "      const a = document.createElement('a');\n",
              "      a.href = window.URL.createObjectURL(blob);\n",
              "      a.download = filename;\n",
              "      div.appendChild(a);\n",
              "      a.click();\n",
              "      div.remove();\n",
              "    }\n",
              "  "
            ]
          },
          "metadata": {}
        },
        {
          "output_type": "display_data",
          "data": {
            "text/plain": [
              "<IPython.core.display.Javascript object>"
            ],
            "application/javascript": [
              "download(\"download_74a1879f-01a4-406e-94cb-259fa8065484\", \"results_efficientnet-b4.csv\", 2515)"
            ]
          },
          "metadata": {}
        }
      ]
    },
    {
      "cell_type": "code",
      "source": [
        "import ssl\n",
        "\n",
        "try:\n",
        "  _create_unverified_https_context = ssl._create_unverified_context\n",
        "except AttributeError:\n",
        "  pass\n",
        "else:\n",
        "  ssl._create_default_https_context = _create_unverified_https_context"
      ],
      "metadata": {
        "id": "Olo4scvY_fJm"
      },
      "execution_count": null,
      "outputs": []
    },
    {
      "cell_type": "code",
      "source": [
        "encoder_name = 'se_resnext50_32x4d'\n",
        "results = []\n",
        "print(f\"Training with {encoder_name} encoder\")\n",
        "# Iterate over models\n",
        "for model_info in model_classes:\n",
        "    model_class = model_info['class']\n",
        "    model_args = model_info['args']\n",
        "    model_name = model_info['name']\n",
        "    # Iterate over loss functions\n",
        "    for loss_func_info in loss_functions:\n",
        "        loss_func_name = loss_func_info['name']\n",
        "        loss_function = loss_func_info['function']\n",
        "        model_filename = f\"{model_name}_{encoder_name}_{loss_func_name}.pth\".replace(' ', '_').replace('+', 'plus')\n",
        "\n",
        "        # Skip if model file already exists\n",
        "        if os.path.exists(model_filename):\n",
        "            print(f\"Skipping {model_filename} - already exists\")\n",
        "            continue\n",
        "        # Define the model\n",
        "        model = model_class(\n",
        "            encoder_name=encoder_name,\n",
        "            encoder_weights=\"imagenet\",\n",
        "            in_channels=3,\n",
        "            classes=1,\n",
        "            **model_args\n",
        "        ).to(device)\n",
        "        # Reset model weights\n",
        "        model.apply(reset_weights)\n",
        "        # Define loss function and optimizer\n",
        "        criterion = loss_function\n",
        "        optimizer = optim.Adam(model.parameters(), lr=0.001)\n",
        "        # Train the model\n",
        "        print(f\"Training {model_name} with {encoder_name} encoder and {loss_func_name}.\")\n",
        "        train_model(\n",
        "            model, train_loader, val_loader, criterion, optimizer, device,\n",
        "            num_epochs=5, model_filename=model_filename\n",
        "        )\n",
        "        # Load the best model and evaluate on test set\n",
        "        model.load_state_dict(torch.load(model_filename))\n",
        "        test_loss, test_iou = evaluate(model, test_loader, criterion, device)\n",
        "\n",
        "        # Print test metrics\n",
        "        print(f\"\\nTest Results for {model_name} with {loss_func_name}:\")\n",
        "        print(f\"Test Loss: {test_loss:.4f}\")\n",
        "        print(f\"Test IoU: {test_iou:.4f}\\n\")\n",
        "\n",
        "        # Log results\n",
        "        results.append({\n",
        "            'Encoder': encoder_name,\n",
        "            'Model': model_name,\n",
        "            'Loss Function': loss_func_name,\n",
        "            'Epochs': 5,\n",
        "            'Test Loss': test_loss,    # Changed from Validation Loss\n",
        "            'Test IoU': test_iou,      # Changed from Validation IoU\n",
        "            'Model Filename': model_filename\n",
        "        })\n",
        "        # Save interim results\n",
        "        interim_df = pd.DataFrame(results)\n",
        "        interim_df.to_csv(f'results_{encoder_name}.csv', index=False)\n",
        "print(f\"Completed training with {encoder_name}\")"
      ],
      "metadata": {
        "colab": {
          "base_uri": "https://localhost:8080/",
          "height": 1000
        },
        "id": "kjFqn-yW_wqB",
        "outputId": "69850ef4-ee7d-43bc-be83-fa452863209d"
      },
      "execution_count": null,
      "outputs": [
        {
          "output_type": "stream",
          "name": "stdout",
          "text": [
            "Training with se_resnext50_32x4d encoder\n"
          ]
        },
        {
          "output_type": "stream",
          "name": "stderr",
          "text": [
            "Downloading: \"http://data.lip6.fr/cadene/pretrainedmodels/se_resnext50_32x4d-a260b3a4.pth\" to /root/.cache/torch/hub/checkpoints/se_resnext50_32x4d-a260b3a4.pth\n",
            "100%|██████████| 105M/105M [05:10<00:00, 356kB/s]\n"
          ]
        },
        {
          "output_type": "stream",
          "name": "stdout",
          "text": [
            "Training U-Net++ with se_resnext50_32x4d encoder and DiceLoss.\n"
          ]
        },
        {
          "output_type": "stream",
          "name": "stderr",
          "text": [
            "Epoch 1/5: 100%|██████████| 1518/1518 [02:27<00:00, 10.27it/s, loss=0.133, IoU=0.864]\n"
          ]
        },
        {
          "output_type": "stream",
          "name": "stdout",
          "text": [
            "Epoch 1/5 - Validation Loss: 0.1207, Validation IoU: 0.8686\n"
          ]
        },
        {
          "output_type": "stream",
          "name": "stderr",
          "text": [
            "Epoch 2/5: 100%|██████████| 1518/1518 [02:25<00:00, 10.42it/s, loss=0.111, IoU=0.875]\n"
          ]
        },
        {
          "output_type": "stream",
          "name": "stdout",
          "text": [
            "Epoch 2/5 - Validation Loss: 0.1117, Validation IoU: 0.8763\n"
          ]
        },
        {
          "output_type": "stream",
          "name": "stderr",
          "text": [
            "Epoch 3/5: 100%|██████████| 1518/1518 [02:25<00:00, 10.40it/s, loss=0.101, IoU=0.886]\n"
          ]
        },
        {
          "output_type": "stream",
          "name": "stdout",
          "text": [
            "Epoch 3/5 - Validation Loss: 0.0957, Validation IoU: 0.8893\n"
          ]
        },
        {
          "output_type": "stream",
          "name": "stderr",
          "text": [
            "Epoch 4/5: 100%|██████████| 1518/1518 [02:25<00:00, 10.41it/s, loss=0.102, IoU=0.884]\n"
          ]
        },
        {
          "output_type": "stream",
          "name": "stdout",
          "text": [
            "Epoch 4/5 - Validation Loss: 0.1184, Validation IoU: 0.8702\n"
          ]
        },
        {
          "output_type": "stream",
          "name": "stderr",
          "text": [
            "Epoch 5/5: 100%|██████████| 1518/1518 [02:25<00:00, 10.40it/s, loss=0.0931, IoU=0.89]\n"
          ]
        },
        {
          "output_type": "stream",
          "name": "stdout",
          "text": [
            "Epoch 5/5 - Validation Loss: 0.1087, Validation IoU: 0.8778\n"
          ]
        },
        {
          "output_type": "stream",
          "name": "stderr",
          "text": [
            "<ipython-input-7-7ddd376825ef>:39: FutureWarning: You are using `torch.load` with `weights_only=False` (the current default value), which uses the default pickle module implicitly. It is possible to construct malicious pickle data which will execute arbitrary code during unpickling (See https://github.com/pytorch/pytorch/blob/main/SECURITY.md#untrusted-models for more details). In a future release, the default value for `weights_only` will be flipped to `True`. This limits the functions that could be executed during unpickling. Arbitrary objects will no longer be allowed to be loaded via this mode unless they are explicitly allowlisted by the user via `torch.serialization.add_safe_globals`. We recommend you start setting `weights_only=True` for any use case where you don't have full control of the loaded file. Please open an issue on GitHub for any issues related to this experimental feature.\n",
            "  model.load_state_dict(torch.load(model_filename))\n"
          ]
        },
        {
          "output_type": "stream",
          "name": "stdout",
          "text": [
            "\n",
            "Test Results for U-Net++ with DiceLoss:\n",
            "Test Loss: 0.0997\n",
            "Test IoU: 0.8893\n",
            "\n",
            "Training U-Net++ with se_resnext50_32x4d encoder and TverskyLoss.\n"
          ]
        },
        {
          "output_type": "stream",
          "name": "stderr",
          "text": [
            "Epoch 1/5: 100%|██████████| 1518/1518 [02:26<00:00, 10.38it/s, loss=0.138, IoU=0.859]\n"
          ]
        },
        {
          "output_type": "stream",
          "name": "stdout",
          "text": [
            "Epoch 1/5 - Validation Loss: 0.1044, Validation IoU: 0.8815\n"
          ]
        },
        {
          "output_type": "stream",
          "name": "stderr",
          "text": [
            "Epoch 2/5: 100%|██████████| 1518/1518 [02:25<00:00, 10.40it/s, loss=0.111, IoU=0.876]\n"
          ]
        },
        {
          "output_type": "stream",
          "name": "stdout",
          "text": [
            "Epoch 2/5 - Validation Loss: 0.1130, Validation IoU: 0.8763\n"
          ]
        },
        {
          "output_type": "stream",
          "name": "stderr",
          "text": [
            "Epoch 3/5: 100%|██████████| 1518/1518 [02:25<00:00, 10.41it/s, loss=0.0985, IoU=0.885]\n"
          ]
        },
        {
          "output_type": "stream",
          "name": "stdout",
          "text": [
            "Epoch 3/5 - Validation Loss: 0.0934, Validation IoU: 0.8918\n"
          ]
        },
        {
          "output_type": "stream",
          "name": "stderr",
          "text": [
            "Epoch 4/5: 100%|██████████| 1518/1518 [02:25<00:00, 10.41it/s, loss=0.0977, IoU=0.888]\n"
          ]
        },
        {
          "output_type": "stream",
          "name": "stdout",
          "text": [
            "Epoch 4/5 - Validation Loss: 0.0854, Validation IoU: 0.8969\n"
          ]
        },
        {
          "output_type": "stream",
          "name": "stderr",
          "text": [
            "Epoch 5/5: 100%|██████████| 1518/1518 [02:26<00:00, 10.36it/s, loss=0.0944, IoU=0.89]\n"
          ]
        },
        {
          "output_type": "stream",
          "name": "stdout",
          "text": [
            "Epoch 5/5 - Validation Loss: 0.0858, Validation IoU: 0.8967\n",
            "\n",
            "Test Results for U-Net++ with TverskyLoss:\n",
            "Test Loss: 0.0884\n",
            "Test IoU: 0.8976\n",
            "\n",
            "Training U-Net++ with se_resnext50_32x4d encoder and FocalLoss.\n"
          ]
        },
        {
          "output_type": "stream",
          "name": "stderr",
          "text": [
            "Epoch 1/5: 100%|██████████| 1518/1518 [02:26<00:00, 10.37it/s, loss=0.0298, IoU=0.848]\n"
          ]
        },
        {
          "output_type": "stream",
          "name": "stdout",
          "text": [
            "Epoch 1/5 - Validation Loss: 0.0307, Validation IoU: 0.8342\n"
          ]
        },
        {
          "output_type": "stream",
          "name": "stderr",
          "text": [
            "Epoch 2/5: 100%|██████████| 1518/1518 [02:26<00:00, 10.36it/s, loss=0.0234, IoU=0.863]\n"
          ]
        },
        {
          "output_type": "stream",
          "name": "stdout",
          "text": [
            "Epoch 2/5 - Validation Loss: 0.0236, Validation IoU: 0.8841\n"
          ]
        },
        {
          "output_type": "stream",
          "name": "stderr",
          "text": [
            "Epoch 3/5: 100%|██████████| 1518/1518 [02:26<00:00, 10.37it/s, loss=0.0232, IoU=0.862]\n"
          ]
        },
        {
          "output_type": "stream",
          "name": "stdout",
          "text": [
            "Epoch 3/5 - Validation Loss: 0.2510, Validation IoU: 0.4219\n"
          ]
        },
        {
          "output_type": "stream",
          "name": "stderr",
          "text": [
            "Epoch 4/5: 100%|██████████| 1518/1518 [02:26<00:00, 10.40it/s, loss=0.0211, IoU=0.867]\n"
          ]
        },
        {
          "output_type": "stream",
          "name": "stdout",
          "text": [
            "Epoch 4/5 - Validation Loss: 0.0259, Validation IoU: 0.8440\n"
          ]
        },
        {
          "output_type": "stream",
          "name": "stderr",
          "text": [
            "Epoch 5/5: 100%|██████████| 1518/1518 [02:26<00:00, 10.37it/s, loss=0.0195, IoU=0.87]\n"
          ]
        },
        {
          "output_type": "stream",
          "name": "stdout",
          "text": [
            "Epoch 5/5 - Validation Loss: 0.0243, Validation IoU: 0.8045\n",
            "\n",
            "Test Results for U-Net++ with FocalLoss:\n",
            "Test Loss: 0.0232\n",
            "Test IoU: 0.8840\n",
            "\n",
            "Training U-Net++ with se_resnext50_32x4d encoder and BCEWithLogitsLoss.\n"
          ]
        },
        {
          "output_type": "stream",
          "name": "stderr",
          "text": [
            "Epoch 1/5: 100%|██████████| 1518/1518 [02:26<00:00, 10.35it/s, loss=0.108, IoU=0.867]\n"
          ]
        },
        {
          "output_type": "stream",
          "name": "stdout",
          "text": [
            "Epoch 1/5 - Validation Loss: 0.0763, Validation IoU: 0.8898\n"
          ]
        },
        {
          "output_type": "stream",
          "name": "stderr",
          "text": [
            "Epoch 2/5: 100%|██████████| 1518/1518 [02:27<00:00, 10.32it/s, loss=0.083, IoU=0.886]\n"
          ]
        },
        {
          "output_type": "stream",
          "name": "stdout",
          "text": [
            "Epoch 2/5 - Validation Loss: 0.0975, Validation IoU: 0.8694\n"
          ]
        },
        {
          "output_type": "stream",
          "name": "stderr",
          "text": [
            "Epoch 3/5: 100%|██████████| 1518/1518 [02:26<00:00, 10.37it/s, loss=0.0781, IoU=0.89]\n"
          ]
        },
        {
          "output_type": "stream",
          "name": "stdout",
          "text": [
            "Epoch 3/5 - Validation Loss: 0.0800, Validation IoU: 0.8811\n"
          ]
        },
        {
          "output_type": "stream",
          "name": "stderr",
          "text": [
            "Epoch 4/5: 100%|██████████| 1518/1518 [02:26<00:00, 10.35it/s, loss=0.0755, IoU=0.892]\n"
          ]
        },
        {
          "output_type": "stream",
          "name": "stdout",
          "text": [
            "Epoch 4/5 - Validation Loss: 0.0658, Validation IoU: 0.8957\n"
          ]
        },
        {
          "output_type": "stream",
          "name": "stderr",
          "text": [
            "Epoch 5/5: 100%|██████████| 1518/1518 [02:26<00:00, 10.38it/s, loss=0.0711, IoU=0.896]\n"
          ]
        },
        {
          "output_type": "stream",
          "name": "stdout",
          "text": [
            "Epoch 5/5 - Validation Loss: 0.0765, Validation IoU: 0.8937\n",
            "\n",
            "Test Results for U-Net++ with BCEWithLogitsLoss:\n",
            "Test Loss: 0.0670\n",
            "Test IoU: 0.8956\n",
            "\n",
            "Training U-Net++ with se_resnext50_32x4d encoder and DiceLoss_plus_FocalLoss.\n"
          ]
        },
        {
          "output_type": "stream",
          "name": "stderr",
          "text": [
            "Epoch 1/5: 100%|██████████| 1518/1518 [02:26<00:00, 10.38it/s, loss=0.24, IoU=0.868]\n"
          ]
        },
        {
          "output_type": "stream",
          "name": "stdout",
          "text": [
            "Epoch 1/5 - Validation Loss: 0.2030, Validation IoU: 0.8663\n"
          ]
        },
        {
          "output_type": "stream",
          "name": "stderr",
          "text": [
            "Epoch 2/5: 100%|██████████| 1518/1518 [02:26<00:00, 10.35it/s, loss=0.184, IoU=0.886]\n"
          ]
        },
        {
          "output_type": "stream",
          "name": "stdout",
          "text": [
            "Epoch 2/5 - Validation Loss: 0.1722, Validation IoU: 0.8826\n"
          ]
        },
        {
          "output_type": "stream",
          "name": "stderr",
          "text": [
            "Epoch 3/5: 100%|██████████| 1518/1518 [02:26<00:00, 10.36it/s, loss=0.166, IoU=0.894]\n"
          ]
        },
        {
          "output_type": "stream",
          "name": "stdout",
          "text": [
            "Epoch 3/5 - Validation Loss: 0.3034, Validation IoU: 0.8470\n"
          ]
        },
        {
          "output_type": "stream",
          "name": "stderr",
          "text": [
            "Epoch 4/5: 100%|██████████| 1518/1518 [02:26<00:00, 10.36it/s, loss=0.163, IoU=0.895]\n"
          ]
        },
        {
          "output_type": "stream",
          "name": "stdout",
          "text": [
            "Epoch 4/5 - Validation Loss: 0.1767, Validation IoU: 0.8822\n"
          ]
        },
        {
          "output_type": "stream",
          "name": "stderr",
          "text": [
            "Epoch 5/5: 100%|██████████| 1518/1518 [02:26<00:00, 10.38it/s, loss=0.15, IoU=0.9]\n"
          ]
        },
        {
          "output_type": "stream",
          "name": "stdout",
          "text": [
            "Epoch 5/5 - Validation Loss: 0.6584, Validation IoU: 0.5842\n",
            "\n",
            "Test Results for U-Net++ with DiceLoss_plus_FocalLoss:\n",
            "Test Loss: 0.1736\n",
            "Test IoU: 0.8821\n",
            "\n",
            "Training U-Net++ with se_resnext50_32x4d encoder and DiceLoss_plus_BCEWithLogitsLoss.\n"
          ]
        },
        {
          "output_type": "stream",
          "name": "stderr",
          "text": [
            "Epoch 1/5: 100%|██████████| 1518/1518 [02:26<00:00, 10.35it/s, loss=0.279, IoU=0.869]\n"
          ]
        },
        {
          "output_type": "stream",
          "name": "stdout",
          "text": [
            "Epoch 1/5 - Validation Loss: 0.2276, Validation IoU: 0.8829\n"
          ]
        },
        {
          "output_type": "stream",
          "name": "stderr",
          "text": [
            "Epoch 2/5: 100%|██████████| 1518/1518 [02:26<00:00, 10.39it/s, loss=0.207, IoU=0.89]\n"
          ]
        },
        {
          "output_type": "stream",
          "name": "stdout",
          "text": [
            "Epoch 2/5 - Validation Loss: 0.1795, Validation IoU: 0.8988\n"
          ]
        },
        {
          "output_type": "stream",
          "name": "stderr",
          "text": [
            "Epoch 3/5: 100%|██████████| 1518/1518 [02:26<00:00, 10.39it/s, loss=0.192, IoU=0.896]\n"
          ]
        },
        {
          "output_type": "stream",
          "name": "stdout",
          "text": [
            "Epoch 3/5 - Validation Loss: 0.4542, Validation IoU: 0.8499\n"
          ]
        },
        {
          "output_type": "stream",
          "name": "stderr",
          "text": [
            "Epoch 4/5: 100%|██████████| 1518/1518 [02:26<00:00, 10.35it/s, loss=0.183, IoU=0.899]\n"
          ]
        },
        {
          "output_type": "stream",
          "name": "stdout",
          "text": [
            "Epoch 4/5 - Validation Loss: 0.1729, Validation IoU: 0.8977\n"
          ]
        },
        {
          "output_type": "stream",
          "name": "stderr",
          "text": [
            "Epoch 5/5: 100%|██████████| 1518/1518 [02:26<00:00, 10.37it/s, loss=0.179, IoU=0.901]\n"
          ]
        },
        {
          "output_type": "stream",
          "name": "stdout",
          "text": [
            "Epoch 5/5 - Validation Loss: 0.1964, Validation IoU: 0.8911\n",
            "\n",
            "Test Results for U-Net++ with DiceLoss_plus_BCEWithLogitsLoss:\n",
            "Test Loss: 0.1840\n",
            "Test IoU: 0.8981\n",
            "\n",
            "Training U-Net++ with SCSE with se_resnext50_32x4d encoder and DiceLoss.\n"
          ]
        },
        {
          "output_type": "stream",
          "name": "stderr",
          "text": [
            "Epoch 1/5: 100%|██████████| 1518/1518 [03:32<00:00,  7.14it/s, loss=0.139, IoU=0.857]\n"
          ]
        },
        {
          "output_type": "stream",
          "name": "stdout",
          "text": [
            "Epoch 1/5 - Validation Loss: 0.6174, Validation IoU: 0.3849\n"
          ]
        },
        {
          "output_type": "stream",
          "name": "stderr",
          "text": [
            "Epoch 2/5: 100%|██████████| 1518/1518 [03:32<00:00,  7.14it/s, loss=0.106, IoU=0.882]\n"
          ]
        },
        {
          "output_type": "stream",
          "name": "stdout",
          "text": [
            "Epoch 2/5 - Validation Loss: 0.0995, Validation IoU: 0.8841\n"
          ]
        },
        {
          "output_type": "stream",
          "name": "stderr",
          "text": [
            "Epoch 3/5: 100%|██████████| 1518/1518 [03:32<00:00,  7.14it/s, loss=0.099, IoU=0.886]\n"
          ]
        },
        {
          "output_type": "stream",
          "name": "stdout",
          "text": [
            "Epoch 3/5 - Validation Loss: 0.5410, Validation IoU: 0.5121\n"
          ]
        },
        {
          "output_type": "stream",
          "name": "stderr",
          "text": [
            "Epoch 4/5: 100%|██████████| 1518/1518 [03:32<00:00,  7.15it/s, loss=0.0957, IoU=0.887]\n"
          ]
        },
        {
          "output_type": "stream",
          "name": "stdout",
          "text": [
            "Epoch 4/5 - Validation Loss: 0.0864, Validation IoU: 0.8951\n"
          ]
        },
        {
          "output_type": "stream",
          "name": "stderr",
          "text": [
            "Epoch 5/5: 100%|██████████| 1518/1518 [03:31<00:00,  7.16it/s, loss=0.0989, IoU=0.886]\n"
          ]
        },
        {
          "output_type": "stream",
          "name": "stdout",
          "text": [
            "Epoch 5/5 - Validation Loss: 0.0940, Validation IoU: 0.8907\n",
            "\n",
            "Test Results for U-Net++ with SCSE with DiceLoss:\n",
            "Test Loss: 0.0896\n",
            "Test IoU: 0.8958\n",
            "\n",
            "Training U-Net++ with SCSE with se_resnext50_32x4d encoder and TverskyLoss.\n"
          ]
        },
        {
          "output_type": "stream",
          "name": "stderr",
          "text": [
            "Epoch 1/5: 100%|██████████| 1518/1518 [03:33<00:00,  7.10it/s, loss=0.134, IoU=0.861]\n"
          ]
        },
        {
          "output_type": "stream",
          "name": "stdout",
          "text": [
            "Epoch 1/5 - Validation Loss: 0.6312, Validation IoU: 0.3607\n"
          ]
        },
        {
          "output_type": "stream",
          "name": "stderr",
          "text": [
            "Epoch 2/5: 100%|██████████| 1518/1518 [03:33<00:00,  7.11it/s, loss=0.106, IoU=0.878]\n"
          ]
        },
        {
          "output_type": "stream",
          "name": "stdout",
          "text": [
            "Epoch 2/5 - Validation Loss: 0.1040, Validation IoU: 0.8812\n"
          ]
        },
        {
          "output_type": "stream",
          "name": "stderr",
          "text": [
            "Epoch 3/5: 100%|██████████| 1518/1518 [03:33<00:00,  7.12it/s, loss=0.0991, IoU=0.886]\n"
          ]
        },
        {
          "output_type": "stream",
          "name": "stdout",
          "text": [
            "Epoch 3/5 - Validation Loss: 0.1115, Validation IoU: 0.8778\n"
          ]
        },
        {
          "output_type": "stream",
          "name": "stderr",
          "text": [
            "Epoch 4/5: 100%|██████████| 1518/1518 [03:32<00:00,  7.13it/s, loss=0.0971, IoU=0.886]\n"
          ]
        },
        {
          "output_type": "stream",
          "name": "stdout",
          "text": [
            "Epoch 4/5 - Validation Loss: 0.0923, Validation IoU: 0.8886\n"
          ]
        },
        {
          "output_type": "stream",
          "name": "stderr",
          "text": [
            "Epoch 5/5: 100%|██████████| 1518/1518 [03:33<00:00,  7.12it/s, loss=0.0984, IoU=0.886]\n"
          ]
        },
        {
          "output_type": "stream",
          "name": "stdout",
          "text": [
            "Epoch 5/5 - Validation Loss: 0.2078, Validation IoU: 0.8240\n",
            "\n",
            "Test Results for U-Net++ with SCSE with TverskyLoss:\n",
            "Test Loss: 0.0965\n",
            "Test IoU: 0.8888\n",
            "\n",
            "Training U-Net++ with SCSE with se_resnext50_32x4d encoder and FocalLoss.\n"
          ]
        },
        {
          "output_type": "stream",
          "name": "stderr",
          "text": [
            "Epoch 1/5: 100%|██████████| 1518/1518 [03:32<00:00,  7.13it/s, loss=0.0313, IoU=0.846]\n"
          ]
        },
        {
          "output_type": "stream",
          "name": "stdout",
          "text": [
            "Epoch 1/5 - Validation Loss: 0.0204, Validation IoU: 0.8652\n"
          ]
        },
        {
          "output_type": "stream",
          "name": "stderr",
          "text": [
            "Epoch 2/5: 100%|██████████| 1518/1518 [03:32<00:00,  7.14it/s, loss=0.0234, IoU=0.863]\n"
          ]
        },
        {
          "output_type": "stream",
          "name": "stdout",
          "text": [
            "Epoch 2/5 - Validation Loss: 0.0701, Validation IoU: 0.8629\n"
          ]
        },
        {
          "output_type": "stream",
          "name": "stderr",
          "text": [
            "Epoch 3/5: 100%|██████████| 1518/1518 [03:32<00:00,  7.16it/s, loss=0.0217, IoU=0.868]\n"
          ]
        },
        {
          "output_type": "stream",
          "name": "stdout",
          "text": [
            "Epoch 3/5 - Validation Loss: 0.3914, Validation IoU: 0.2410\n"
          ]
        },
        {
          "output_type": "stream",
          "name": "stderr",
          "text": [
            "Epoch 4/5: 100%|██████████| 1518/1518 [03:32<00:00,  7.13it/s, loss=0.0212, IoU=0.868]\n"
          ]
        },
        {
          "output_type": "stream",
          "name": "stdout",
          "text": [
            "Epoch 4/5 - Validation Loss: 0.0280, Validation IoU: 0.7523\n"
          ]
        },
        {
          "output_type": "stream",
          "name": "stderr",
          "text": [
            "Epoch 5/5: 100%|██████████| 1518/1518 [03:32<00:00,  7.14it/s, loss=0.0201, IoU=0.871]\n"
          ]
        },
        {
          "output_type": "stream",
          "name": "stdout",
          "text": [
            "Epoch 5/5 - Validation Loss: 0.0223, Validation IoU: 0.8543\n",
            "\n",
            "Test Results for U-Net++ with SCSE with FocalLoss:\n",
            "Test Loss: 0.0207\n",
            "Test IoU: 0.8638\n",
            "\n",
            "Training U-Net++ with SCSE with se_resnext50_32x4d encoder and BCEWithLogitsLoss.\n"
          ]
        },
        {
          "output_type": "stream",
          "name": "stderr",
          "text": [
            "Epoch 1/5: 100%|██████████| 1518/1518 [03:32<00:00,  7.13it/s, loss=0.112, IoU=0.868]\n"
          ]
        },
        {
          "output_type": "stream",
          "name": "stdout",
          "text": [
            "Epoch 1/5 - Validation Loss: 0.1236, Validation IoU: 0.8645\n"
          ]
        },
        {
          "output_type": "stream",
          "name": "stderr",
          "text": [
            "Epoch 2/5: 100%|██████████| 1518/1518 [03:33<00:00,  7.09it/s, loss=0.0845, IoU=0.884]\n"
          ]
        },
        {
          "output_type": "stream",
          "name": "stdout",
          "text": [
            "Epoch 2/5 - Validation Loss: 0.8940, Validation IoU: 0.3282\n"
          ]
        },
        {
          "output_type": "stream",
          "name": "stderr",
          "text": [
            "Epoch 3/5: 100%|██████████| 1518/1518 [03:33<00:00,  7.12it/s, loss=0.0779, IoU=0.89]\n"
          ]
        },
        {
          "output_type": "stream",
          "name": "stdout",
          "text": [
            "Epoch 3/5 - Validation Loss: 0.4960, Validation IoU: 0.5920\n"
          ]
        },
        {
          "output_type": "stream",
          "name": "stderr",
          "text": [
            "Epoch 4/5: 100%|██████████| 1518/1518 [03:33<00:00,  7.12it/s, loss=0.0746, IoU=0.893]\n"
          ]
        },
        {
          "output_type": "stream",
          "name": "stdout",
          "text": [
            "Epoch 4/5 - Validation Loss: 0.0710, Validation IoU: 0.8838\n"
          ]
        },
        {
          "output_type": "stream",
          "name": "stderr",
          "text": [
            "Epoch 5/5: 100%|██████████| 1518/1518 [03:32<00:00,  7.13it/s, loss=0.0733, IoU=0.894]\n"
          ]
        },
        {
          "output_type": "stream",
          "name": "stdout",
          "text": [
            "Epoch 5/5 - Validation Loss: 0.0684, Validation IoU: 0.8957\n",
            "\n",
            "Test Results for U-Net++ with SCSE with BCEWithLogitsLoss:\n",
            "Test Loss: 0.0688\n",
            "Test IoU: 0.8957\n",
            "\n",
            "Training U-Net++ with SCSE with se_resnext50_32x4d encoder and DiceLoss_plus_FocalLoss.\n"
          ]
        },
        {
          "output_type": "stream",
          "name": "stderr",
          "text": [
            "Epoch 1/5: 100%|██████████| 1518/1518 [03:33<00:00,  7.12it/s, loss=0.245, IoU=0.867]\n"
          ]
        },
        {
          "output_type": "stream",
          "name": "stdout",
          "text": [
            "Epoch 1/5 - Validation Loss: 0.2029, Validation IoU: 0.8824\n"
          ]
        },
        {
          "output_type": "stream",
          "name": "stderr",
          "text": [
            "Epoch 2/5: 100%|██████████| 1518/1518 [03:32<00:00,  7.14it/s, loss=0.179, IoU=0.888]\n"
          ]
        },
        {
          "output_type": "stream",
          "name": "stdout",
          "text": [
            "Epoch 2/5 - Validation Loss: 2.1345, Validation IoU: 0.3091\n"
          ]
        },
        {
          "output_type": "stream",
          "name": "stderr",
          "text": [
            "Epoch 3/5: 100%|██████████| 1518/1518 [03:33<00:00,  7.12it/s, loss=0.168, IoU=0.893]\n"
          ]
        },
        {
          "output_type": "stream",
          "name": "stdout",
          "text": [
            "Epoch 3/5 - Validation Loss: 0.1597, Validation IoU: 0.8934\n"
          ]
        },
        {
          "output_type": "stream",
          "name": "stderr",
          "text": [
            "Epoch 4/5: 100%|██████████| 1518/1518 [03:33<00:00,  7.12it/s, loss=0.163, IoU=0.895]\n"
          ]
        },
        {
          "output_type": "stream",
          "name": "stdout",
          "text": [
            "Epoch 4/5 - Validation Loss: 0.1455, Validation IoU: 0.9054\n"
          ]
        },
        {
          "output_type": "stream",
          "name": "stderr",
          "text": [
            "Epoch 5/5: 100%|██████████| 1518/1518 [03:33<00:00,  7.12it/s, loss=0.154, IoU=0.899]\n"
          ]
        },
        {
          "output_type": "stream",
          "name": "stdout",
          "text": [
            "Epoch 5/5 - Validation Loss: 0.1577, Validation IoU: 0.8985\n",
            "\n",
            "Test Results for U-Net++ with SCSE with DiceLoss_plus_FocalLoss:\n",
            "Test Loss: 0.1520\n",
            "Test IoU: 0.9055\n",
            "\n",
            "Training U-Net++ with SCSE with se_resnext50_32x4d encoder and DiceLoss_plus_BCEWithLogitsLoss.\n"
          ]
        },
        {
          "output_type": "stream",
          "name": "stderr",
          "text": [
            "Epoch 1/5: 100%|██████████| 1518/1518 [03:33<00:00,  7.11it/s, loss=0.27, IoU=0.871]\n"
          ]
        },
        {
          "output_type": "stream",
          "name": "stdout",
          "text": [
            "Epoch 1/5 - Validation Loss: 0.3192, Validation IoU: 0.8466\n"
          ]
        },
        {
          "output_type": "stream",
          "name": "stderr",
          "text": [
            "Epoch 2/5: 100%|██████████| 1518/1518 [03:33<00:00,  7.11it/s, loss=0.213, IoU=0.888]\n"
          ]
        },
        {
          "output_type": "stream",
          "name": "stdout",
          "text": [
            "Epoch 2/5 - Validation Loss: 0.2622, Validation IoU: 0.8773\n"
          ]
        },
        {
          "output_type": "stream",
          "name": "stderr",
          "text": [
            "Epoch 3/5: 100%|██████████| 1518/1518 [03:33<00:00,  7.11it/s, loss=0.193, IoU=0.895]\n"
          ]
        },
        {
          "output_type": "stream",
          "name": "stdout",
          "text": [
            "Epoch 3/5 - Validation Loss: 0.1650, Validation IoU: 0.9042\n"
          ]
        },
        {
          "output_type": "stream",
          "name": "stderr",
          "text": [
            "Epoch 4/5: 100%|██████████| 1518/1518 [03:33<00:00,  7.11it/s, loss=0.186, IoU=0.898]\n"
          ]
        },
        {
          "output_type": "stream",
          "name": "stdout",
          "text": [
            "Epoch 4/5 - Validation Loss: 0.2305, Validation IoU: 0.8815\n"
          ]
        },
        {
          "output_type": "stream",
          "name": "stderr",
          "text": [
            "Epoch 5/5: 100%|██████████| 1518/1518 [03:32<00:00,  7.14it/s, loss=0.174, IoU=0.903]\n"
          ]
        },
        {
          "output_type": "stream",
          "name": "stdout",
          "text": [
            "Epoch 5/5 - Validation Loss: 0.1693, Validation IoU: 0.8978\n",
            "\n",
            "Test Results for U-Net++ with SCSE with DiceLoss_plus_BCEWithLogitsLoss:\n",
            "Test Loss: 0.1711\n",
            "Test IoU: 0.9039\n",
            "\n",
            "Training FPN with se_resnext50_32x4d encoder and DiceLoss.\n"
          ]
        },
        {
          "output_type": "stream",
          "name": "stderr",
          "text": [
            "Epoch 1/5: 100%|██████████| 1518/1518 [01:25<00:00, 17.73it/s, loss=0.13, IoU=0.859]\n"
          ]
        },
        {
          "output_type": "stream",
          "name": "stdout",
          "text": [
            "Epoch 1/5 - Validation Loss: 0.1080, Validation IoU: 0.8774\n"
          ]
        },
        {
          "output_type": "stream",
          "name": "stderr",
          "text": [
            "Epoch 2/5: 100%|██████████| 1518/1518 [01:26<00:00, 17.61it/s, loss=0.104, IoU=0.882]\n"
          ]
        },
        {
          "output_type": "stream",
          "name": "stdout",
          "text": [
            "Epoch 2/5 - Validation Loss: 0.0969, Validation IoU: 0.8861\n"
          ]
        },
        {
          "output_type": "stream",
          "name": "stderr",
          "text": [
            "Epoch 3/5: 100%|██████████| 1518/1518 [01:25<00:00, 17.73it/s, loss=0.0984, IoU=0.886]\n"
          ]
        },
        {
          "output_type": "stream",
          "name": "stdout",
          "text": [
            "Epoch 3/5 - Validation Loss: 0.0885, Validation IoU: 0.8926\n"
          ]
        },
        {
          "output_type": "stream",
          "name": "stderr",
          "text": [
            "Epoch 4/5: 100%|██████████| 1518/1518 [01:25<00:00, 17.71it/s, loss=0.094, IoU=0.89]\n"
          ]
        },
        {
          "output_type": "stream",
          "name": "stdout",
          "text": [
            "Epoch 4/5 - Validation Loss: 0.0880, Validation IoU: 0.8944\n"
          ]
        },
        {
          "output_type": "stream",
          "name": "stderr",
          "text": [
            "Epoch 5/5: 100%|██████████| 1518/1518 [01:25<00:00, 17.67it/s, loss=0.0884, IoU=0.896]\n"
          ]
        },
        {
          "output_type": "stream",
          "name": "stdout",
          "text": [
            "Epoch 5/5 - Validation Loss: 0.0840, Validation IoU: 0.8969\n",
            "\n",
            "Test Results for FPN with DiceLoss:\n",
            "Test Loss: 0.0890\n",
            "Test IoU: 0.8964\n",
            "\n",
            "Training FPN with se_resnext50_32x4d encoder and TverskyLoss.\n"
          ]
        },
        {
          "output_type": "stream",
          "name": "stderr",
          "text": [
            "Epoch 1/5: 100%|██████████| 1518/1518 [01:26<00:00, 17.58it/s, loss=0.13, IoU=0.858]\n"
          ]
        },
        {
          "output_type": "stream",
          "name": "stdout",
          "text": [
            "Epoch 1/5 - Validation Loss: 0.1213, Validation IoU: 0.8666\n"
          ]
        },
        {
          "output_type": "stream",
          "name": "stderr",
          "text": [
            "Epoch 2/5: 100%|██████████| 1518/1518 [01:25<00:00, 17.69it/s, loss=0.106, IoU=0.88]\n"
          ]
        },
        {
          "output_type": "stream",
          "name": "stdout",
          "text": [
            "Epoch 2/5 - Validation Loss: 0.1034, Validation IoU: 0.8789\n"
          ]
        },
        {
          "output_type": "stream",
          "name": "stderr",
          "text": [
            "Epoch 3/5: 100%|██████████| 1518/1518 [01:26<00:00, 17.61it/s, loss=0.0944, IoU=0.889]\n"
          ]
        },
        {
          "output_type": "stream",
          "name": "stdout",
          "text": [
            "Epoch 3/5 - Validation Loss: 0.0930, Validation IoU: 0.8879\n"
          ]
        },
        {
          "output_type": "stream",
          "name": "stderr",
          "text": [
            "Epoch 4/5: 100%|██████████| 1518/1518 [01:26<00:00, 17.53it/s, loss=0.0937, IoU=0.889]\n"
          ]
        },
        {
          "output_type": "stream",
          "name": "stdout",
          "text": [
            "Epoch 4/5 - Validation Loss: 0.0901, Validation IoU: 0.8923\n"
          ]
        },
        {
          "output_type": "stream",
          "name": "stderr",
          "text": [
            "Epoch 5/5: 100%|██████████| 1518/1518 [01:25<00:00, 17.66it/s, loss=0.0903, IoU=0.893]\n"
          ]
        },
        {
          "output_type": "stream",
          "name": "stdout",
          "text": [
            "Epoch 5/5 - Validation Loss: 0.1069, Validation IoU: 0.8773\n",
            "\n",
            "Test Results for FPN with TverskyLoss:\n",
            "Test Loss: 0.0936\n",
            "Test IoU: 0.8926\n",
            "\n",
            "Training FPN with se_resnext50_32x4d encoder and FocalLoss.\n"
          ]
        },
        {
          "output_type": "stream",
          "name": "stderr",
          "text": [
            "Epoch 1/5: 100%|██████████| 1518/1518 [01:25<00:00, 17.73it/s, loss=0.0357, IoU=0.826]\n"
          ]
        },
        {
          "output_type": "stream",
          "name": "stdout",
          "text": [
            "Epoch 1/5 - Validation Loss: 0.0530, Validation IoU: 0.8530\n"
          ]
        },
        {
          "output_type": "stream",
          "name": "stderr",
          "text": [
            "Epoch 2/5: 100%|██████████| 1518/1518 [01:25<00:00, 17.83it/s, loss=0.0256, IoU=0.854]\n"
          ]
        },
        {
          "output_type": "stream",
          "name": "stdout",
          "text": [
            "Epoch 2/5 - Validation Loss: 0.0278, Validation IoU: 0.8154\n"
          ]
        },
        {
          "output_type": "stream",
          "name": "stderr",
          "text": [
            "Epoch 3/5: 100%|██████████| 1518/1518 [01:24<00:00, 17.91it/s, loss=0.0232, IoU=0.858]\n"
          ]
        },
        {
          "output_type": "stream",
          "name": "stdout",
          "text": [
            "Epoch 3/5 - Validation Loss: 0.4986, Validation IoU: 0.3416\n"
          ]
        },
        {
          "output_type": "stream",
          "name": "stderr",
          "text": [
            "Epoch 4/5: 100%|██████████| 1518/1518 [01:25<00:00, 17.76it/s, loss=0.0219, IoU=0.862]\n"
          ]
        },
        {
          "output_type": "stream",
          "name": "stdout",
          "text": [
            "Epoch 4/5 - Validation Loss: 0.0277, Validation IoU: 0.8249\n"
          ]
        },
        {
          "output_type": "stream",
          "name": "stderr",
          "text": [
            "Epoch 5/5: 100%|██████████| 1518/1518 [01:25<00:00, 17.69it/s, loss=0.0215, IoU=0.865]\n"
          ]
        },
        {
          "output_type": "stream",
          "name": "stdout",
          "text": [
            "Epoch 5/5 - Validation Loss: 0.0372, Validation IoU: 0.8265\n",
            "\n",
            "Test Results for FPN with FocalLoss:\n",
            "Test Loss: 0.0531\n",
            "Test IoU: 0.8538\n",
            "\n",
            "Training FPN with se_resnext50_32x4d encoder and BCEWithLogitsLoss.\n"
          ]
        },
        {
          "output_type": "stream",
          "name": "stderr",
          "text": [
            "Epoch 1/5: 100%|██████████| 1518/1518 [01:24<00:00, 17.90it/s, loss=0.108, IoU=0.862]\n"
          ]
        },
        {
          "output_type": "stream",
          "name": "stdout",
          "text": [
            "Epoch 1/5 - Validation Loss: 0.7194, Validation IoU: 0.4879\n"
          ]
        },
        {
          "output_type": "stream",
          "name": "stderr",
          "text": [
            "Epoch 2/5: 100%|██████████| 1518/1518 [01:24<00:00, 17.87it/s, loss=0.0871, IoU=0.88]\n"
          ]
        },
        {
          "output_type": "stream",
          "name": "stdout",
          "text": [
            "Epoch 2/5 - Validation Loss: 0.1167, Validation IoU: 0.8402\n"
          ]
        },
        {
          "output_type": "stream",
          "name": "stderr",
          "text": [
            "Epoch 3/5: 100%|██████████| 1518/1518 [01:24<00:00, 17.89it/s, loss=0.079, IoU=0.886]\n"
          ]
        },
        {
          "output_type": "stream",
          "name": "stdout",
          "text": [
            "Epoch 3/5 - Validation Loss: 0.0682, Validation IoU: 0.8974\n"
          ]
        },
        {
          "output_type": "stream",
          "name": "stderr",
          "text": [
            "Epoch 4/5: 100%|██████████| 1518/1518 [01:24<00:00, 17.98it/s, loss=0.0764, IoU=0.889]\n"
          ]
        },
        {
          "output_type": "stream",
          "name": "stdout",
          "text": [
            "Epoch 4/5 - Validation Loss: 0.0664, Validation IoU: 0.8935\n"
          ]
        },
        {
          "output_type": "stream",
          "name": "stderr",
          "text": [
            "Epoch 5/5: 100%|██████████| 1518/1518 [01:24<00:00, 17.99it/s, loss=0.0737, IoU=0.891]\n"
          ]
        },
        {
          "output_type": "stream",
          "name": "stdout",
          "text": [
            "Epoch 5/5 - Validation Loss: 1.1209, Validation IoU: 0.3594\n",
            "\n",
            "Test Results for FPN with BCEWithLogitsLoss:\n",
            "Test Loss: 0.0709\n",
            "Test IoU: 0.8962\n",
            "\n",
            "Training FPN with se_resnext50_32x4d encoder and DiceLoss_plus_FocalLoss.\n"
          ]
        },
        {
          "output_type": "stream",
          "name": "stderr",
          "text": [
            "Epoch 1/5: 100%|██████████| 1518/1518 [01:26<00:00, 17.57it/s, loss=0.241, IoU=0.861]\n"
          ]
        },
        {
          "output_type": "stream",
          "name": "stdout",
          "text": [
            "Epoch 1/5 - Validation Loss: 0.5224, Validation IoU: 0.7221\n"
          ]
        },
        {
          "output_type": "stream",
          "name": "stderr",
          "text": [
            "Epoch 2/5: 100%|██████████| 1518/1518 [01:26<00:00, 17.59it/s, loss=0.184, IoU=0.884]\n"
          ]
        },
        {
          "output_type": "stream",
          "name": "stdout",
          "text": [
            "Epoch 2/5 - Validation Loss: 2.4964, Validation IoU: 0.3373\n"
          ]
        },
        {
          "output_type": "stream",
          "name": "stderr",
          "text": [
            "Epoch 3/5: 100%|██████████| 1518/1518 [01:26<00:00, 17.57it/s, loss=0.169, IoU=0.891]\n"
          ]
        },
        {
          "output_type": "stream",
          "name": "stdout",
          "text": [
            "Epoch 3/5 - Validation Loss: 0.2531, Validation IoU: 0.8534\n"
          ]
        },
        {
          "output_type": "stream",
          "name": "stderr",
          "text": [
            "Epoch 4/5: 100%|██████████| 1518/1518 [01:26<00:00, 17.55it/s, loss=0.164, IoU=0.893]\n"
          ]
        },
        {
          "output_type": "stream",
          "name": "stdout",
          "text": [
            "Epoch 4/5 - Validation Loss: 0.1660, Validation IoU: 0.8872\n"
          ]
        },
        {
          "output_type": "stream",
          "name": "stderr",
          "text": [
            "Epoch 5/5: 100%|██████████| 1518/1518 [01:26<00:00, 17.58it/s, loss=0.157, IoU=0.896]\n"
          ]
        },
        {
          "output_type": "stream",
          "name": "stdout",
          "text": [
            "Epoch 5/5 - Validation Loss: 0.1427, Validation IoU: 0.8959\n",
            "\n",
            "Test Results for FPN with DiceLoss_plus_FocalLoss:\n",
            "Test Loss: 0.1497\n",
            "Test IoU: 0.8948\n",
            "\n",
            "Training FPN with se_resnext50_32x4d encoder and DiceLoss_plus_BCEWithLogitsLoss.\n"
          ]
        },
        {
          "output_type": "stream",
          "name": "stderr",
          "text": [
            "Epoch 1/5: 100%|██████████| 1518/1518 [01:26<00:00, 17.62it/s, loss=0.27, IoU=0.865]\n"
          ]
        },
        {
          "output_type": "stream",
          "name": "stdout",
          "text": [
            "Epoch 1/5 - Validation Loss: 3.0788, Validation IoU: 0.3377\n"
          ]
        },
        {
          "output_type": "stream",
          "name": "stderr",
          "text": [
            "Epoch 2/5: 100%|██████████| 1518/1518 [01:26<00:00, 17.60it/s, loss=0.213, IoU=0.885]\n"
          ]
        },
        {
          "output_type": "stream",
          "name": "stdout",
          "text": [
            "Epoch 2/5 - Validation Loss: 0.1738, Validation IoU: 0.8969\n"
          ]
        },
        {
          "output_type": "stream",
          "name": "stderr",
          "text": [
            "Epoch 3/5: 100%|██████████| 1518/1518 [01:26<00:00, 17.62it/s, loss=0.191, IoU=0.894]\n"
          ]
        },
        {
          "output_type": "stream",
          "name": "stdout",
          "text": [
            "Epoch 3/5 - Validation Loss: 0.1930, Validation IoU: 0.8844\n"
          ]
        },
        {
          "output_type": "stream",
          "name": "stderr",
          "text": [
            "Epoch 4/5: 100%|██████████| 1518/1518 [01:26<00:00, 17.51it/s, loss=0.183, IoU=0.896]\n"
          ]
        },
        {
          "output_type": "stream",
          "name": "stdout",
          "text": [
            "Epoch 4/5 - Validation Loss: 0.1829, Validation IoU: 0.8966\n"
          ]
        },
        {
          "output_type": "stream",
          "name": "stderr",
          "text": [
            "Epoch 5/5: 100%|██████████| 1518/1518 [01:26<00:00, 17.60it/s, loss=0.176, IoU=0.9]\n"
          ]
        },
        {
          "output_type": "stream",
          "name": "stdout",
          "text": [
            "Epoch 5/5 - Validation Loss: 2.4701, Validation IoU: 0.3671\n",
            "\n",
            "Test Results for FPN with DiceLoss_plus_BCEWithLogitsLoss:\n",
            "Test Loss: 0.1798\n",
            "Test IoU: 0.8962\n",
            "\n",
            "Training PAN with se_resnext50_32x4d encoder and DiceLoss.\n"
          ]
        },
        {
          "output_type": "stream",
          "name": "stderr",
          "text": [
            "Epoch 1/5: 100%|██████████| 1518/1518 [13:27<00:00,  1.88it/s, loss=0.128, IoU=0.859]\n"
          ]
        },
        {
          "output_type": "stream",
          "name": "stdout",
          "text": [
            "Epoch 1/5 - Validation Loss: 0.1053, Validation IoU: 0.8721\n"
          ]
        },
        {
          "output_type": "stream",
          "name": "stderr",
          "text": [
            "Epoch 2/5:   3%|▎         | 50/1518 [00:27<13:16,  1.84it/s, loss=0.0888, IoU=0.883]\n"
          ]
        },
        {
          "output_type": "error",
          "ename": "KeyboardInterrupt",
          "evalue": "",
          "traceback": [
            "\u001b[0;31m---------------------------------------------------------------------------\u001b[0m",
            "\u001b[0;31mKeyboardInterrupt\u001b[0m                         Traceback (most recent call last)",
            "\u001b[0;32m<ipython-input-7-7ddd376825ef>\u001b[0m in \u001b[0;36m<cell line: 5>\u001b[0;34m()\u001b[0m\n\u001b[1;32m     32\u001b[0m         \u001b[0;31m# Train the model\u001b[0m\u001b[0;34m\u001b[0m\u001b[0;34m\u001b[0m\u001b[0m\n\u001b[1;32m     33\u001b[0m         \u001b[0mprint\u001b[0m\u001b[0;34m(\u001b[0m\u001b[0;34mf\"Training {model_name} with {encoder_name} encoder and {loss_func_name}.\"\u001b[0m\u001b[0;34m)\u001b[0m\u001b[0;34m\u001b[0m\u001b[0;34m\u001b[0m\u001b[0m\n\u001b[0;32m---> 34\u001b[0;31m         train_model(\n\u001b[0m\u001b[1;32m     35\u001b[0m             \u001b[0mmodel\u001b[0m\u001b[0;34m,\u001b[0m \u001b[0mtrain_loader\u001b[0m\u001b[0;34m,\u001b[0m \u001b[0mval_loader\u001b[0m\u001b[0;34m,\u001b[0m \u001b[0mcriterion\u001b[0m\u001b[0;34m,\u001b[0m \u001b[0moptimizer\u001b[0m\u001b[0;34m,\u001b[0m \u001b[0mdevice\u001b[0m\u001b[0;34m,\u001b[0m\u001b[0;34m\u001b[0m\u001b[0;34m\u001b[0m\u001b[0m\n\u001b[1;32m     36\u001b[0m             \u001b[0mnum_epochs\u001b[0m\u001b[0;34m=\u001b[0m\u001b[0;36m5\u001b[0m\u001b[0;34m,\u001b[0m \u001b[0mmodel_filename\u001b[0m\u001b[0;34m=\u001b[0m\u001b[0mmodel_filename\u001b[0m\u001b[0;34m\u001b[0m\u001b[0;34m\u001b[0m\u001b[0m\n",
            "\u001b[0;32m<ipython-input-4-e6354dcc413d>\u001b[0m in \u001b[0;36mtrain_model\u001b[0;34m(model, train_loader, val_loader, criterion, optimizer, device, num_epochs, model_filename)\u001b[0m\n\u001b[1;32m     97\u001b[0m \u001b[0;34m\u001b[0m\u001b[0m\n\u001b[1;32m     98\u001b[0m                 \u001b[0moptimizer\u001b[0m\u001b[0;34m.\u001b[0m\u001b[0mzero_grad\u001b[0m\u001b[0;34m(\u001b[0m\u001b[0;34m)\u001b[0m\u001b[0;34m\u001b[0m\u001b[0;34m\u001b[0m\u001b[0m\n\u001b[0;32m---> 99\u001b[0;31m                 \u001b[0moutputs\u001b[0m \u001b[0;34m=\u001b[0m \u001b[0mmodel\u001b[0m\u001b[0;34m(\u001b[0m\u001b[0mimages\u001b[0m\u001b[0;34m)\u001b[0m\u001b[0;34m\u001b[0m\u001b[0;34m\u001b[0m\u001b[0m\n\u001b[0m\u001b[1;32m    100\u001b[0m                 \u001b[0mloss\u001b[0m \u001b[0;34m=\u001b[0m \u001b[0mcriterion\u001b[0m\u001b[0;34m(\u001b[0m\u001b[0moutputs\u001b[0m\u001b[0;34m,\u001b[0m \u001b[0mmasks\u001b[0m\u001b[0;34m)\u001b[0m\u001b[0;34m\u001b[0m\u001b[0;34m\u001b[0m\u001b[0m\n\u001b[1;32m    101\u001b[0m                 \u001b[0miou\u001b[0m \u001b[0;34m=\u001b[0m \u001b[0mcalculate_iou\u001b[0m\u001b[0;34m(\u001b[0m\u001b[0moutputs\u001b[0m\u001b[0;34m,\u001b[0m \u001b[0mmasks\u001b[0m\u001b[0;34m)\u001b[0m\u001b[0;34m\u001b[0m\u001b[0;34m\u001b[0m\u001b[0m\n",
            "\u001b[0;32m/usr/local/lib/python3.10/dist-packages/torch/nn/modules/module.py\u001b[0m in \u001b[0;36m_wrapped_call_impl\u001b[0;34m(self, *args, **kwargs)\u001b[0m\n\u001b[1;32m   1734\u001b[0m             \u001b[0;32mreturn\u001b[0m \u001b[0mself\u001b[0m\u001b[0;34m.\u001b[0m\u001b[0m_compiled_call_impl\u001b[0m\u001b[0;34m(\u001b[0m\u001b[0;34m*\u001b[0m\u001b[0margs\u001b[0m\u001b[0;34m,\u001b[0m \u001b[0;34m**\u001b[0m\u001b[0mkwargs\u001b[0m\u001b[0;34m)\u001b[0m  \u001b[0;31m# type: ignore[misc]\u001b[0m\u001b[0;34m\u001b[0m\u001b[0;34m\u001b[0m\u001b[0m\n\u001b[1;32m   1735\u001b[0m         \u001b[0;32melse\u001b[0m\u001b[0;34m:\u001b[0m\u001b[0;34m\u001b[0m\u001b[0;34m\u001b[0m\u001b[0m\n\u001b[0;32m-> 1736\u001b[0;31m             \u001b[0;32mreturn\u001b[0m \u001b[0mself\u001b[0m\u001b[0;34m.\u001b[0m\u001b[0m_call_impl\u001b[0m\u001b[0;34m(\u001b[0m\u001b[0;34m*\u001b[0m\u001b[0margs\u001b[0m\u001b[0;34m,\u001b[0m \u001b[0;34m**\u001b[0m\u001b[0mkwargs\u001b[0m\u001b[0;34m)\u001b[0m\u001b[0;34m\u001b[0m\u001b[0;34m\u001b[0m\u001b[0m\n\u001b[0m\u001b[1;32m   1737\u001b[0m \u001b[0;34m\u001b[0m\u001b[0m\n\u001b[1;32m   1738\u001b[0m     \u001b[0;31m# torchrec tests the code consistency with the following code\u001b[0m\u001b[0;34m\u001b[0m\u001b[0;34m\u001b[0m\u001b[0m\n",
            "\u001b[0;32m/usr/local/lib/python3.10/dist-packages/torch/nn/modules/module.py\u001b[0m in \u001b[0;36m_call_impl\u001b[0;34m(self, *args, **kwargs)\u001b[0m\n\u001b[1;32m   1745\u001b[0m                 \u001b[0;32mor\u001b[0m \u001b[0m_global_backward_pre_hooks\u001b[0m \u001b[0;32mor\u001b[0m \u001b[0m_global_backward_hooks\u001b[0m\u001b[0;34m\u001b[0m\u001b[0;34m\u001b[0m\u001b[0m\n\u001b[1;32m   1746\u001b[0m                 or _global_forward_hooks or _global_forward_pre_hooks):\n\u001b[0;32m-> 1747\u001b[0;31m             \u001b[0;32mreturn\u001b[0m \u001b[0mforward_call\u001b[0m\u001b[0;34m(\u001b[0m\u001b[0;34m*\u001b[0m\u001b[0margs\u001b[0m\u001b[0;34m,\u001b[0m \u001b[0;34m**\u001b[0m\u001b[0mkwargs\u001b[0m\u001b[0;34m)\u001b[0m\u001b[0;34m\u001b[0m\u001b[0;34m\u001b[0m\u001b[0m\n\u001b[0m\u001b[1;32m   1748\u001b[0m \u001b[0;34m\u001b[0m\u001b[0m\n\u001b[1;32m   1749\u001b[0m         \u001b[0mresult\u001b[0m \u001b[0;34m=\u001b[0m \u001b[0;32mNone\u001b[0m\u001b[0;34m\u001b[0m\u001b[0;34m\u001b[0m\u001b[0m\n",
            "\u001b[0;32m/usr/local/lib/python3.10/dist-packages/segmentation_models_pytorch/base/model.py\u001b[0m in \u001b[0;36mforward\u001b[0;34m(self, x)\u001b[0m\n\u001b[1;32m     36\u001b[0m         \u001b[0mself\u001b[0m\u001b[0;34m.\u001b[0m\u001b[0mcheck_input_shape\u001b[0m\u001b[0;34m(\u001b[0m\u001b[0mx\u001b[0m\u001b[0;34m)\u001b[0m\u001b[0;34m\u001b[0m\u001b[0;34m\u001b[0m\u001b[0m\n\u001b[1;32m     37\u001b[0m \u001b[0;34m\u001b[0m\u001b[0m\n\u001b[0;32m---> 38\u001b[0;31m         \u001b[0mfeatures\u001b[0m \u001b[0;34m=\u001b[0m \u001b[0mself\u001b[0m\u001b[0;34m.\u001b[0m\u001b[0mencoder\u001b[0m\u001b[0;34m(\u001b[0m\u001b[0mx\u001b[0m\u001b[0;34m)\u001b[0m\u001b[0;34m\u001b[0m\u001b[0;34m\u001b[0m\u001b[0m\n\u001b[0m\u001b[1;32m     39\u001b[0m         \u001b[0mdecoder_output\u001b[0m \u001b[0;34m=\u001b[0m \u001b[0mself\u001b[0m\u001b[0;34m.\u001b[0m\u001b[0mdecoder\u001b[0m\u001b[0;34m(\u001b[0m\u001b[0;34m*\u001b[0m\u001b[0mfeatures\u001b[0m\u001b[0;34m)\u001b[0m\u001b[0;34m\u001b[0m\u001b[0;34m\u001b[0m\u001b[0m\n\u001b[1;32m     40\u001b[0m \u001b[0;34m\u001b[0m\u001b[0m\n",
            "\u001b[0;32m/usr/local/lib/python3.10/dist-packages/torch/nn/modules/module.py\u001b[0m in \u001b[0;36m_wrapped_call_impl\u001b[0;34m(self, *args, **kwargs)\u001b[0m\n\u001b[1;32m   1734\u001b[0m             \u001b[0;32mreturn\u001b[0m \u001b[0mself\u001b[0m\u001b[0;34m.\u001b[0m\u001b[0m_compiled_call_impl\u001b[0m\u001b[0;34m(\u001b[0m\u001b[0;34m*\u001b[0m\u001b[0margs\u001b[0m\u001b[0;34m,\u001b[0m \u001b[0;34m**\u001b[0m\u001b[0mkwargs\u001b[0m\u001b[0;34m)\u001b[0m  \u001b[0;31m# type: ignore[misc]\u001b[0m\u001b[0;34m\u001b[0m\u001b[0;34m\u001b[0m\u001b[0m\n\u001b[1;32m   1735\u001b[0m         \u001b[0;32melse\u001b[0m\u001b[0;34m:\u001b[0m\u001b[0;34m\u001b[0m\u001b[0;34m\u001b[0m\u001b[0m\n\u001b[0;32m-> 1736\u001b[0;31m             \u001b[0;32mreturn\u001b[0m \u001b[0mself\u001b[0m\u001b[0;34m.\u001b[0m\u001b[0m_call_impl\u001b[0m\u001b[0;34m(\u001b[0m\u001b[0;34m*\u001b[0m\u001b[0margs\u001b[0m\u001b[0;34m,\u001b[0m \u001b[0;34m**\u001b[0m\u001b[0mkwargs\u001b[0m\u001b[0;34m)\u001b[0m\u001b[0;34m\u001b[0m\u001b[0;34m\u001b[0m\u001b[0m\n\u001b[0m\u001b[1;32m   1737\u001b[0m \u001b[0;34m\u001b[0m\u001b[0m\n\u001b[1;32m   1738\u001b[0m     \u001b[0;31m# torchrec tests the code consistency with the following code\u001b[0m\u001b[0;34m\u001b[0m\u001b[0;34m\u001b[0m\u001b[0m\n",
            "\u001b[0;32m/usr/local/lib/python3.10/dist-packages/torch/nn/modules/module.py\u001b[0m in \u001b[0;36m_call_impl\u001b[0;34m(self, *args, **kwargs)\u001b[0m\n\u001b[1;32m   1745\u001b[0m                 \u001b[0;32mor\u001b[0m \u001b[0m_global_backward_pre_hooks\u001b[0m \u001b[0;32mor\u001b[0m \u001b[0m_global_backward_hooks\u001b[0m\u001b[0;34m\u001b[0m\u001b[0;34m\u001b[0m\u001b[0m\n\u001b[1;32m   1746\u001b[0m                 or _global_forward_hooks or _global_forward_pre_hooks):\n\u001b[0;32m-> 1747\u001b[0;31m             \u001b[0;32mreturn\u001b[0m \u001b[0mforward_call\u001b[0m\u001b[0;34m(\u001b[0m\u001b[0;34m*\u001b[0m\u001b[0margs\u001b[0m\u001b[0;34m,\u001b[0m \u001b[0;34m**\u001b[0m\u001b[0mkwargs\u001b[0m\u001b[0;34m)\u001b[0m\u001b[0;34m\u001b[0m\u001b[0;34m\u001b[0m\u001b[0m\n\u001b[0m\u001b[1;32m   1748\u001b[0m \u001b[0;34m\u001b[0m\u001b[0m\n\u001b[1;32m   1749\u001b[0m         \u001b[0mresult\u001b[0m \u001b[0;34m=\u001b[0m \u001b[0;32mNone\u001b[0m\u001b[0;34m\u001b[0m\u001b[0;34m\u001b[0m\u001b[0m\n",
            "\u001b[0;32m/usr/local/lib/python3.10/dist-packages/segmentation_models_pytorch/encoders/senet.py\u001b[0m in \u001b[0;36mforward\u001b[0;34m(self, x)\u001b[0m\n\u001b[1;32m     62\u001b[0m         \u001b[0mfeatures\u001b[0m \u001b[0;34m=\u001b[0m \u001b[0;34m[\u001b[0m\u001b[0;34m]\u001b[0m\u001b[0;34m\u001b[0m\u001b[0;34m\u001b[0m\u001b[0m\n\u001b[1;32m     63\u001b[0m         \u001b[0;32mfor\u001b[0m \u001b[0mi\u001b[0m \u001b[0;32min\u001b[0m \u001b[0mrange\u001b[0m\u001b[0;34m(\u001b[0m\u001b[0mself\u001b[0m\u001b[0;34m.\u001b[0m\u001b[0m_depth\u001b[0m \u001b[0;34m+\u001b[0m \u001b[0;36m1\u001b[0m\u001b[0;34m)\u001b[0m\u001b[0;34m:\u001b[0m\u001b[0;34m\u001b[0m\u001b[0;34m\u001b[0m\u001b[0m\n\u001b[0;32m---> 64\u001b[0;31m             \u001b[0mx\u001b[0m \u001b[0;34m=\u001b[0m \u001b[0mstages\u001b[0m\u001b[0;34m[\u001b[0m\u001b[0mi\u001b[0m\u001b[0;34m]\u001b[0m\u001b[0;34m(\u001b[0m\u001b[0mx\u001b[0m\u001b[0;34m)\u001b[0m\u001b[0;34m\u001b[0m\u001b[0;34m\u001b[0m\u001b[0m\n\u001b[0m\u001b[1;32m     65\u001b[0m             \u001b[0mfeatures\u001b[0m\u001b[0;34m.\u001b[0m\u001b[0mappend\u001b[0m\u001b[0;34m(\u001b[0m\u001b[0mx\u001b[0m\u001b[0;34m)\u001b[0m\u001b[0;34m\u001b[0m\u001b[0;34m\u001b[0m\u001b[0m\n\u001b[1;32m     66\u001b[0m \u001b[0;34m\u001b[0m\u001b[0m\n",
            "\u001b[0;32m/usr/local/lib/python3.10/dist-packages/torch/nn/modules/module.py\u001b[0m in \u001b[0;36m_wrapped_call_impl\u001b[0;34m(self, *args, **kwargs)\u001b[0m\n\u001b[1;32m   1734\u001b[0m             \u001b[0;32mreturn\u001b[0m \u001b[0mself\u001b[0m\u001b[0;34m.\u001b[0m\u001b[0m_compiled_call_impl\u001b[0m\u001b[0;34m(\u001b[0m\u001b[0;34m*\u001b[0m\u001b[0margs\u001b[0m\u001b[0;34m,\u001b[0m \u001b[0;34m**\u001b[0m\u001b[0mkwargs\u001b[0m\u001b[0;34m)\u001b[0m  \u001b[0;31m# type: ignore[misc]\u001b[0m\u001b[0;34m\u001b[0m\u001b[0;34m\u001b[0m\u001b[0m\n\u001b[1;32m   1735\u001b[0m         \u001b[0;32melse\u001b[0m\u001b[0;34m:\u001b[0m\u001b[0;34m\u001b[0m\u001b[0;34m\u001b[0m\u001b[0m\n\u001b[0;32m-> 1736\u001b[0;31m             \u001b[0;32mreturn\u001b[0m \u001b[0mself\u001b[0m\u001b[0;34m.\u001b[0m\u001b[0m_call_impl\u001b[0m\u001b[0;34m(\u001b[0m\u001b[0;34m*\u001b[0m\u001b[0margs\u001b[0m\u001b[0;34m,\u001b[0m \u001b[0;34m**\u001b[0m\u001b[0mkwargs\u001b[0m\u001b[0;34m)\u001b[0m\u001b[0;34m\u001b[0m\u001b[0;34m\u001b[0m\u001b[0m\n\u001b[0m\u001b[1;32m   1737\u001b[0m \u001b[0;34m\u001b[0m\u001b[0m\n\u001b[1;32m   1738\u001b[0m     \u001b[0;31m# torchrec tests the code consistency with the following code\u001b[0m\u001b[0;34m\u001b[0m\u001b[0;34m\u001b[0m\u001b[0m\n",
            "\u001b[0;32m/usr/local/lib/python3.10/dist-packages/torch/nn/modules/module.py\u001b[0m in \u001b[0;36m_call_impl\u001b[0;34m(self, *args, **kwargs)\u001b[0m\n\u001b[1;32m   1745\u001b[0m                 \u001b[0;32mor\u001b[0m \u001b[0m_global_backward_pre_hooks\u001b[0m \u001b[0;32mor\u001b[0m \u001b[0m_global_backward_hooks\u001b[0m\u001b[0;34m\u001b[0m\u001b[0;34m\u001b[0m\u001b[0m\n\u001b[1;32m   1746\u001b[0m                 or _global_forward_hooks or _global_forward_pre_hooks):\n\u001b[0;32m-> 1747\u001b[0;31m             \u001b[0;32mreturn\u001b[0m \u001b[0mforward_call\u001b[0m\u001b[0;34m(\u001b[0m\u001b[0;34m*\u001b[0m\u001b[0margs\u001b[0m\u001b[0;34m,\u001b[0m \u001b[0;34m**\u001b[0m\u001b[0mkwargs\u001b[0m\u001b[0;34m)\u001b[0m\u001b[0;34m\u001b[0m\u001b[0;34m\u001b[0m\u001b[0m\n\u001b[0m\u001b[1;32m   1748\u001b[0m \u001b[0;34m\u001b[0m\u001b[0m\n\u001b[1;32m   1749\u001b[0m         \u001b[0mresult\u001b[0m \u001b[0;34m=\u001b[0m \u001b[0;32mNone\u001b[0m\u001b[0;34m\u001b[0m\u001b[0;34m\u001b[0m\u001b[0m\n",
            "\u001b[0;32m/usr/local/lib/python3.10/dist-packages/torch/nn/modules/container.py\u001b[0m in \u001b[0;36mforward\u001b[0;34m(self, input)\u001b[0m\n\u001b[1;32m    248\u001b[0m     \u001b[0;32mdef\u001b[0m \u001b[0mforward\u001b[0m\u001b[0;34m(\u001b[0m\u001b[0mself\u001b[0m\u001b[0;34m,\u001b[0m \u001b[0minput\u001b[0m\u001b[0;34m)\u001b[0m\u001b[0;34m:\u001b[0m\u001b[0;34m\u001b[0m\u001b[0;34m\u001b[0m\u001b[0m\n\u001b[1;32m    249\u001b[0m         \u001b[0;32mfor\u001b[0m \u001b[0mmodule\u001b[0m \u001b[0;32min\u001b[0m \u001b[0mself\u001b[0m\u001b[0;34m:\u001b[0m\u001b[0;34m\u001b[0m\u001b[0;34m\u001b[0m\u001b[0m\n\u001b[0;32m--> 250\u001b[0;31m             \u001b[0minput\u001b[0m \u001b[0;34m=\u001b[0m \u001b[0mmodule\u001b[0m\u001b[0;34m(\u001b[0m\u001b[0minput\u001b[0m\u001b[0;34m)\u001b[0m\u001b[0;34m\u001b[0m\u001b[0;34m\u001b[0m\u001b[0m\n\u001b[0m\u001b[1;32m    251\u001b[0m         \u001b[0;32mreturn\u001b[0m \u001b[0minput\u001b[0m\u001b[0;34m\u001b[0m\u001b[0;34m\u001b[0m\u001b[0m\n\u001b[1;32m    252\u001b[0m \u001b[0;34m\u001b[0m\u001b[0m\n",
            "\u001b[0;32m/usr/local/lib/python3.10/dist-packages/torch/nn/modules/module.py\u001b[0m in \u001b[0;36m_wrapped_call_impl\u001b[0;34m(self, *args, **kwargs)\u001b[0m\n\u001b[1;32m   1734\u001b[0m             \u001b[0;32mreturn\u001b[0m \u001b[0mself\u001b[0m\u001b[0;34m.\u001b[0m\u001b[0m_compiled_call_impl\u001b[0m\u001b[0;34m(\u001b[0m\u001b[0;34m*\u001b[0m\u001b[0margs\u001b[0m\u001b[0;34m,\u001b[0m \u001b[0;34m**\u001b[0m\u001b[0mkwargs\u001b[0m\u001b[0;34m)\u001b[0m  \u001b[0;31m# type: ignore[misc]\u001b[0m\u001b[0;34m\u001b[0m\u001b[0;34m\u001b[0m\u001b[0m\n\u001b[1;32m   1735\u001b[0m         \u001b[0;32melse\u001b[0m\u001b[0;34m:\u001b[0m\u001b[0;34m\u001b[0m\u001b[0;34m\u001b[0m\u001b[0m\n\u001b[0;32m-> 1736\u001b[0;31m             \u001b[0;32mreturn\u001b[0m \u001b[0mself\u001b[0m\u001b[0;34m.\u001b[0m\u001b[0m_call_impl\u001b[0m\u001b[0;34m(\u001b[0m\u001b[0;34m*\u001b[0m\u001b[0margs\u001b[0m\u001b[0;34m,\u001b[0m \u001b[0;34m**\u001b[0m\u001b[0mkwargs\u001b[0m\u001b[0;34m)\u001b[0m\u001b[0;34m\u001b[0m\u001b[0;34m\u001b[0m\u001b[0m\n\u001b[0m\u001b[1;32m   1737\u001b[0m \u001b[0;34m\u001b[0m\u001b[0m\n\u001b[1;32m   1738\u001b[0m     \u001b[0;31m# torchrec tests the code consistency with the following code\u001b[0m\u001b[0;34m\u001b[0m\u001b[0;34m\u001b[0m\u001b[0m\n",
            "\u001b[0;32m/usr/local/lib/python3.10/dist-packages/torch/nn/modules/module.py\u001b[0m in \u001b[0;36m_call_impl\u001b[0;34m(self, *args, **kwargs)\u001b[0m\n\u001b[1;32m   1745\u001b[0m                 \u001b[0;32mor\u001b[0m \u001b[0m_global_backward_pre_hooks\u001b[0m \u001b[0;32mor\u001b[0m \u001b[0m_global_backward_hooks\u001b[0m\u001b[0;34m\u001b[0m\u001b[0;34m\u001b[0m\u001b[0m\n\u001b[1;32m   1746\u001b[0m                 or _global_forward_hooks or _global_forward_pre_hooks):\n\u001b[0;32m-> 1747\u001b[0;31m             \u001b[0;32mreturn\u001b[0m \u001b[0mforward_call\u001b[0m\u001b[0;34m(\u001b[0m\u001b[0;34m*\u001b[0m\u001b[0margs\u001b[0m\u001b[0;34m,\u001b[0m \u001b[0;34m**\u001b[0m\u001b[0mkwargs\u001b[0m\u001b[0;34m)\u001b[0m\u001b[0;34m\u001b[0m\u001b[0;34m\u001b[0m\u001b[0m\n\u001b[0m\u001b[1;32m   1748\u001b[0m \u001b[0;34m\u001b[0m\u001b[0m\n\u001b[1;32m   1749\u001b[0m         \u001b[0mresult\u001b[0m \u001b[0;34m=\u001b[0m \u001b[0;32mNone\u001b[0m\u001b[0;34m\u001b[0m\u001b[0;34m\u001b[0m\u001b[0m\n",
            "\u001b[0;32m/usr/local/lib/python3.10/dist-packages/pretrainedmodels/models/senet.py\u001b[0m in \u001b[0;36mforward\u001b[0;34m(self, x)\u001b[0m\n\u001b[1;32m    126\u001b[0m             \u001b[0mresidual\u001b[0m \u001b[0;34m=\u001b[0m \u001b[0mself\u001b[0m\u001b[0;34m.\u001b[0m\u001b[0mdownsample\u001b[0m\u001b[0;34m(\u001b[0m\u001b[0mx\u001b[0m\u001b[0;34m)\u001b[0m\u001b[0;34m\u001b[0m\u001b[0;34m\u001b[0m\u001b[0m\n\u001b[1;32m    127\u001b[0m \u001b[0;34m\u001b[0m\u001b[0m\n\u001b[0;32m--> 128\u001b[0;31m         \u001b[0mout\u001b[0m \u001b[0;34m=\u001b[0m \u001b[0mself\u001b[0m\u001b[0;34m.\u001b[0m\u001b[0mse_module\u001b[0m\u001b[0;34m(\u001b[0m\u001b[0mout\u001b[0m\u001b[0;34m)\u001b[0m \u001b[0;34m+\u001b[0m \u001b[0mresidual\u001b[0m\u001b[0;34m\u001b[0m\u001b[0;34m\u001b[0m\u001b[0m\n\u001b[0m\u001b[1;32m    129\u001b[0m         \u001b[0mout\u001b[0m \u001b[0;34m=\u001b[0m \u001b[0mself\u001b[0m\u001b[0;34m.\u001b[0m\u001b[0mrelu\u001b[0m\u001b[0;34m(\u001b[0m\u001b[0mout\u001b[0m\u001b[0;34m)\u001b[0m\u001b[0;34m\u001b[0m\u001b[0;34m\u001b[0m\u001b[0m\n\u001b[1;32m    130\u001b[0m \u001b[0;34m\u001b[0m\u001b[0m\n",
            "\u001b[0;32m/usr/local/lib/python3.10/dist-packages/torch/nn/modules/module.py\u001b[0m in \u001b[0;36m_wrapped_call_impl\u001b[0;34m(self, *args, **kwargs)\u001b[0m\n\u001b[1;32m   1734\u001b[0m             \u001b[0;32mreturn\u001b[0m \u001b[0mself\u001b[0m\u001b[0;34m.\u001b[0m\u001b[0m_compiled_call_impl\u001b[0m\u001b[0;34m(\u001b[0m\u001b[0;34m*\u001b[0m\u001b[0margs\u001b[0m\u001b[0;34m,\u001b[0m \u001b[0;34m**\u001b[0m\u001b[0mkwargs\u001b[0m\u001b[0;34m)\u001b[0m  \u001b[0;31m# type: ignore[misc]\u001b[0m\u001b[0;34m\u001b[0m\u001b[0;34m\u001b[0m\u001b[0m\n\u001b[1;32m   1735\u001b[0m         \u001b[0;32melse\u001b[0m\u001b[0;34m:\u001b[0m\u001b[0;34m\u001b[0m\u001b[0;34m\u001b[0m\u001b[0m\n\u001b[0;32m-> 1736\u001b[0;31m             \u001b[0;32mreturn\u001b[0m \u001b[0mself\u001b[0m\u001b[0;34m.\u001b[0m\u001b[0m_call_impl\u001b[0m\u001b[0;34m(\u001b[0m\u001b[0;34m*\u001b[0m\u001b[0margs\u001b[0m\u001b[0;34m,\u001b[0m \u001b[0;34m**\u001b[0m\u001b[0mkwargs\u001b[0m\u001b[0;34m)\u001b[0m\u001b[0;34m\u001b[0m\u001b[0;34m\u001b[0m\u001b[0m\n\u001b[0m\u001b[1;32m   1737\u001b[0m \u001b[0;34m\u001b[0m\u001b[0m\n\u001b[1;32m   1738\u001b[0m     \u001b[0;31m# torchrec tests the code consistency with the following code\u001b[0m\u001b[0;34m\u001b[0m\u001b[0;34m\u001b[0m\u001b[0m\n",
            "\u001b[0;32m/usr/local/lib/python3.10/dist-packages/torch/nn/modules/module.py\u001b[0m in \u001b[0;36m_call_impl\u001b[0;34m(self, *args, **kwargs)\u001b[0m\n\u001b[1;32m   1745\u001b[0m                 \u001b[0;32mor\u001b[0m \u001b[0m_global_backward_pre_hooks\u001b[0m \u001b[0;32mor\u001b[0m \u001b[0m_global_backward_hooks\u001b[0m\u001b[0;34m\u001b[0m\u001b[0;34m\u001b[0m\u001b[0m\n\u001b[1;32m   1746\u001b[0m                 or _global_forward_hooks or _global_forward_pre_hooks):\n\u001b[0;32m-> 1747\u001b[0;31m             \u001b[0;32mreturn\u001b[0m \u001b[0mforward_call\u001b[0m\u001b[0;34m(\u001b[0m\u001b[0;34m*\u001b[0m\u001b[0margs\u001b[0m\u001b[0;34m,\u001b[0m \u001b[0;34m**\u001b[0m\u001b[0mkwargs\u001b[0m\u001b[0;34m)\u001b[0m\u001b[0;34m\u001b[0m\u001b[0;34m\u001b[0m\u001b[0m\n\u001b[0m\u001b[1;32m   1748\u001b[0m \u001b[0;34m\u001b[0m\u001b[0m\n\u001b[1;32m   1749\u001b[0m         \u001b[0mresult\u001b[0m \u001b[0;34m=\u001b[0m \u001b[0;32mNone\u001b[0m\u001b[0;34m\u001b[0m\u001b[0;34m\u001b[0m\u001b[0m\n",
            "\u001b[0;32m/usr/local/lib/python3.10/dist-packages/pretrainedmodels/models/senet.py\u001b[0m in \u001b[0;36mforward\u001b[0;34m(self, x)\u001b[0m\n\u001b[1;32m    100\u001b[0m         \u001b[0mx\u001b[0m \u001b[0;34m=\u001b[0m \u001b[0mself\u001b[0m\u001b[0;34m.\u001b[0m\u001b[0mfc1\u001b[0m\u001b[0;34m(\u001b[0m\u001b[0mx\u001b[0m\u001b[0;34m)\u001b[0m\u001b[0;34m\u001b[0m\u001b[0;34m\u001b[0m\u001b[0m\n\u001b[1;32m    101\u001b[0m         \u001b[0mx\u001b[0m \u001b[0;34m=\u001b[0m \u001b[0mself\u001b[0m\u001b[0;34m.\u001b[0m\u001b[0mrelu\u001b[0m\u001b[0;34m(\u001b[0m\u001b[0mx\u001b[0m\u001b[0;34m)\u001b[0m\u001b[0;34m\u001b[0m\u001b[0;34m\u001b[0m\u001b[0m\n\u001b[0;32m--> 102\u001b[0;31m         \u001b[0mx\u001b[0m \u001b[0;34m=\u001b[0m \u001b[0mself\u001b[0m\u001b[0;34m.\u001b[0m\u001b[0mfc2\u001b[0m\u001b[0;34m(\u001b[0m\u001b[0mx\u001b[0m\u001b[0;34m)\u001b[0m\u001b[0;34m\u001b[0m\u001b[0;34m\u001b[0m\u001b[0m\n\u001b[0m\u001b[1;32m    103\u001b[0m         \u001b[0mx\u001b[0m \u001b[0;34m=\u001b[0m \u001b[0mself\u001b[0m\u001b[0;34m.\u001b[0m\u001b[0msigmoid\u001b[0m\u001b[0;34m(\u001b[0m\u001b[0mx\u001b[0m\u001b[0;34m)\u001b[0m\u001b[0;34m\u001b[0m\u001b[0;34m\u001b[0m\u001b[0m\n\u001b[1;32m    104\u001b[0m         \u001b[0;32mreturn\u001b[0m \u001b[0mmodule_input\u001b[0m \u001b[0;34m*\u001b[0m \u001b[0mx\u001b[0m\u001b[0;34m\u001b[0m\u001b[0;34m\u001b[0m\u001b[0m\n",
            "\u001b[0;32m/usr/local/lib/python3.10/dist-packages/torch/nn/modules/module.py\u001b[0m in \u001b[0;36m_wrapped_call_impl\u001b[0;34m(self, *args, **kwargs)\u001b[0m\n\u001b[1;32m   1734\u001b[0m             \u001b[0;32mreturn\u001b[0m \u001b[0mself\u001b[0m\u001b[0;34m.\u001b[0m\u001b[0m_compiled_call_impl\u001b[0m\u001b[0;34m(\u001b[0m\u001b[0;34m*\u001b[0m\u001b[0margs\u001b[0m\u001b[0;34m,\u001b[0m \u001b[0;34m**\u001b[0m\u001b[0mkwargs\u001b[0m\u001b[0;34m)\u001b[0m  \u001b[0;31m# type: ignore[misc]\u001b[0m\u001b[0;34m\u001b[0m\u001b[0;34m\u001b[0m\u001b[0m\n\u001b[1;32m   1735\u001b[0m         \u001b[0;32melse\u001b[0m\u001b[0;34m:\u001b[0m\u001b[0;34m\u001b[0m\u001b[0;34m\u001b[0m\u001b[0m\n\u001b[0;32m-> 1736\u001b[0;31m             \u001b[0;32mreturn\u001b[0m \u001b[0mself\u001b[0m\u001b[0;34m.\u001b[0m\u001b[0m_call_impl\u001b[0m\u001b[0;34m(\u001b[0m\u001b[0;34m*\u001b[0m\u001b[0margs\u001b[0m\u001b[0;34m,\u001b[0m \u001b[0;34m**\u001b[0m\u001b[0mkwargs\u001b[0m\u001b[0;34m)\u001b[0m\u001b[0;34m\u001b[0m\u001b[0;34m\u001b[0m\u001b[0m\n\u001b[0m\u001b[1;32m   1737\u001b[0m \u001b[0;34m\u001b[0m\u001b[0m\n\u001b[1;32m   1738\u001b[0m     \u001b[0;31m# torchrec tests the code consistency with the following code\u001b[0m\u001b[0;34m\u001b[0m\u001b[0;34m\u001b[0m\u001b[0m\n",
            "\u001b[0;32m/usr/local/lib/python3.10/dist-packages/torch/nn/modules/module.py\u001b[0m in \u001b[0;36m_call_impl\u001b[0;34m(self, *args, **kwargs)\u001b[0m\n\u001b[1;32m   1745\u001b[0m                 \u001b[0;32mor\u001b[0m \u001b[0m_global_backward_pre_hooks\u001b[0m \u001b[0;32mor\u001b[0m \u001b[0m_global_backward_hooks\u001b[0m\u001b[0;34m\u001b[0m\u001b[0;34m\u001b[0m\u001b[0m\n\u001b[1;32m   1746\u001b[0m                 or _global_forward_hooks or _global_forward_pre_hooks):\n\u001b[0;32m-> 1747\u001b[0;31m             \u001b[0;32mreturn\u001b[0m \u001b[0mforward_call\u001b[0m\u001b[0;34m(\u001b[0m\u001b[0;34m*\u001b[0m\u001b[0margs\u001b[0m\u001b[0;34m,\u001b[0m \u001b[0;34m**\u001b[0m\u001b[0mkwargs\u001b[0m\u001b[0;34m)\u001b[0m\u001b[0;34m\u001b[0m\u001b[0;34m\u001b[0m\u001b[0m\n\u001b[0m\u001b[1;32m   1748\u001b[0m \u001b[0;34m\u001b[0m\u001b[0m\n\u001b[1;32m   1749\u001b[0m         \u001b[0mresult\u001b[0m \u001b[0;34m=\u001b[0m \u001b[0;32mNone\u001b[0m\u001b[0;34m\u001b[0m\u001b[0;34m\u001b[0m\u001b[0m\n",
            "\u001b[0;32m/usr/local/lib/python3.10/dist-packages/torch/nn/modules/conv.py\u001b[0m in \u001b[0;36mforward\u001b[0;34m(self, input)\u001b[0m\n\u001b[1;32m    552\u001b[0m \u001b[0;34m\u001b[0m\u001b[0m\n\u001b[1;32m    553\u001b[0m     \u001b[0;32mdef\u001b[0m \u001b[0mforward\u001b[0m\u001b[0;34m(\u001b[0m\u001b[0mself\u001b[0m\u001b[0;34m,\u001b[0m \u001b[0minput\u001b[0m\u001b[0;34m:\u001b[0m \u001b[0mTensor\u001b[0m\u001b[0;34m)\u001b[0m \u001b[0;34m->\u001b[0m \u001b[0mTensor\u001b[0m\u001b[0;34m:\u001b[0m\u001b[0;34m\u001b[0m\u001b[0;34m\u001b[0m\u001b[0m\n\u001b[0;32m--> 554\u001b[0;31m         \u001b[0;32mreturn\u001b[0m \u001b[0mself\u001b[0m\u001b[0;34m.\u001b[0m\u001b[0m_conv_forward\u001b[0m\u001b[0;34m(\u001b[0m\u001b[0minput\u001b[0m\u001b[0;34m,\u001b[0m \u001b[0mself\u001b[0m\u001b[0;34m.\u001b[0m\u001b[0mweight\u001b[0m\u001b[0;34m,\u001b[0m \u001b[0mself\u001b[0m\u001b[0;34m.\u001b[0m\u001b[0mbias\u001b[0m\u001b[0;34m)\u001b[0m\u001b[0;34m\u001b[0m\u001b[0;34m\u001b[0m\u001b[0m\n\u001b[0m\u001b[1;32m    555\u001b[0m \u001b[0;34m\u001b[0m\u001b[0m\n\u001b[1;32m    556\u001b[0m \u001b[0;34m\u001b[0m\u001b[0m\n",
            "\u001b[0;32m/usr/local/lib/python3.10/dist-packages/torch/nn/modules/conv.py\u001b[0m in \u001b[0;36m_conv_forward\u001b[0;34m(self, input, weight, bias)\u001b[0m\n\u001b[1;32m    547\u001b[0m                 \u001b[0mself\u001b[0m\u001b[0;34m.\u001b[0m\u001b[0mgroups\u001b[0m\u001b[0;34m,\u001b[0m\u001b[0;34m\u001b[0m\u001b[0;34m\u001b[0m\u001b[0m\n\u001b[1;32m    548\u001b[0m             )\n\u001b[0;32m--> 549\u001b[0;31m         return F.conv2d(\n\u001b[0m\u001b[1;32m    550\u001b[0m             \u001b[0minput\u001b[0m\u001b[0;34m,\u001b[0m \u001b[0mweight\u001b[0m\u001b[0;34m,\u001b[0m \u001b[0mbias\u001b[0m\u001b[0;34m,\u001b[0m \u001b[0mself\u001b[0m\u001b[0;34m.\u001b[0m\u001b[0mstride\u001b[0m\u001b[0;34m,\u001b[0m \u001b[0mself\u001b[0m\u001b[0;34m.\u001b[0m\u001b[0mpadding\u001b[0m\u001b[0;34m,\u001b[0m \u001b[0mself\u001b[0m\u001b[0;34m.\u001b[0m\u001b[0mdilation\u001b[0m\u001b[0;34m,\u001b[0m \u001b[0mself\u001b[0m\u001b[0;34m.\u001b[0m\u001b[0mgroups\u001b[0m\u001b[0;34m\u001b[0m\u001b[0;34m\u001b[0m\u001b[0m\n\u001b[1;32m    551\u001b[0m         )\n",
            "\u001b[0;31mKeyboardInterrupt\u001b[0m: "
          ]
        }
      ]
    },
    {
      "cell_type": "code",
      "source": [],
      "metadata": {
        "id": "TXofEkvGsc0k"
      },
      "execution_count": null,
      "outputs": []
    }
  ],
  "metadata": {
    "accelerator": "GPU",
    "colab": {
      "gpuType": "A100",
      "provenance": []
    },
    "kernelspec": {
      "display_name": "Python 3",
      "name": "python3"
    },
    "language_info": {
      "name": "python"
    }
  },
  "nbformat": 4,
  "nbformat_minor": 0
}